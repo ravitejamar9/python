{
 "cells": [
  {
   "cell_type": "code",
   "execution_count": 2,
   "metadata": {},
   "outputs": [
    {
     "name": "stdout",
     "output_type": "stream",
     "text": [
      "This is student class with required data\n",
      "Help on class Student in module __main__:\n",
      "\n",
      "class Student(builtins.object)\n",
      " |  This is student class with required data\n",
      " |  \n",
      " |  Data descriptors defined here:\n",
      " |  \n",
      " |  __dict__\n",
      " |      dictionary for instance variables (if defined)\n",
      " |  \n",
      " |  __weakref__\n",
      " |      list of weak references to the object (if defined)\n",
      "\n"
     ]
    }
   ],
   "source": [
    "# In python every thing is an object. To create objects we required some model or plan or blue print\n",
    "# class is used to represent properties(attributes) and actions(behaviour) of object\n",
    "# syntax of class\n",
    "# class className:\n",
    "#    \"document string\"\n",
    "#     variables:instance variables,static and local variables\n",
    "#     methods : instance methods,static methods,class methods\n",
    "class Student:\n",
    "    \"\"\"This is student class with required data\"\"\"\n",
    "print(Student.__doc__)\n",
    "help(Student)"
   ]
  },
  {
   "cell_type": "code",
   "execution_count": 4,
   "metadata": {},
   "outputs": [
    {
     "name": "stdout",
     "output_type": "stream",
     "text": [
      "Hello My name is: RaviTeja\n",
      "My Rollno is: 101\n",
      "My Marks are: 98\n"
     ]
    }
   ],
   "source": [
    "# Pysical existance of a class is nothing but object. We can create anu number of objects for a class\n",
    "# syntax: referencevariable=classname()\n",
    "# The variable which can be used to refer object is called reference variable.\n",
    "# By using reference variable, we can access properties and methods and object\n",
    "class Student:\n",
    "    def __init__(self,rollno,name,marks):\n",
    "        self.rollno=rollno\n",
    "        self.name=name\n",
    "        self.marks=marks\n",
    "    def talk(self):\n",
    "        print(\"Hello My name is:\",self.name)\n",
    "        print(\"My Rollno is:\",self.rollno)\n",
    "        print(\"My Marks are:\",self.marks)\n",
    "\n",
    "s=Student(101,\"RaviTeja\",98)\n",
    "s.talk()"
   ]
  },
  {
   "cell_type": "markdown",
   "metadata": {},
   "source": [
    "### Self Variable and Constructor concept\n"
   ]
  },
  {
   "cell_type": "code",
   "execution_count": 6,
   "metadata": {},
   "outputs": [],
   "source": [
    "# self is the default variable which is always pointing to current object\n",
    "# By using self we can access instance variables and instance methods of object\n"
   ]
  },
  {
   "cell_type": "markdown",
   "metadata": {},
   "source": [
    "### Constructor concept"
   ]
  },
  {
   "cell_type": "code",
   "execution_count": 7,
   "metadata": {},
   "outputs": [
    {
     "name": "stdout",
     "output_type": "stream",
     "text": [
      "Constructor execution...\n",
      "Constructor execution...\n",
      "Constructor execution...\n",
      "Method Execution\n"
     ]
    }
   ],
   "source": [
    "# Constructor is a special method excute only once\n",
    "# Constructor will be excutedd automatically at the time of object creation\n",
    "# The main purpose of constructor is to declare and initialize instance variables\n",
    "# per object constructor will be executed only once\n",
    "# Constructor can take atleast one argument\n",
    "# Constructor is optional and if we are not providing any constructor then python wil provide default constructor.\n",
    "class Test:\n",
    "    def __init__(self):\n",
    "        print(\"Constructor execution...\")\n",
    "    def m1(self):\n",
    "        print(\"Method Execution\")\n",
    "t1=Test()\n",
    "t2=Test()\n",
    "t3=Test()\n",
    "t1.m1()"
   ]
  },
  {
   "cell_type": "code",
   "execution_count": 8,
   "metadata": {},
   "outputs": [
    {
     "name": "stdout",
     "output_type": "stream",
     "text": [
      "Student Name:Ravi\n",
      "Rollno:101\n",
      "Marks99\n",
      "Student Name:Teja\n",
      "Rollno:102\n",
      "Marks98\n"
     ]
    }
   ],
   "source": [
    "class Student:\n",
    "    \"\"\"This is student class with requited data\"\"\"\n",
    "    def __init__(self,x,y,z):\n",
    "        self.name=x\n",
    "        self.rollno=y\n",
    "        self.marks=z\n",
    "    def display(self):\n",
    "        print(\"Student Name:{}\\nRollno:{}\\nMarks{}\".format(self.name,self.rollno,self.marks))\n",
    "\n",
    "s1=Student(\"Ravi\",101,99)\n",
    "s1.display()\n",
    "s2=Student(\"Teja\",102,98)\n",
    "s2.display()"
   ]
  },
  {
   "cell_type": "markdown",
   "metadata": {},
   "source": [
    "## Types of Variables"
   ]
  },
  {
   "cell_type": "markdown",
   "metadata": {},
   "source": [
    "## Instance Variables(Object Level Variables)"
   ]
  },
  {
   "cell_type": "code",
   "execution_count": 1,
   "metadata": {},
   "outputs": [],
   "source": [
    "# If the value of the variable varied from object to object, then such type of variables are called\n",
    "# Instance variables. For every object a seperate copy of instance variables will be created\n"
   ]
  },
  {
   "cell_type": "markdown",
   "metadata": {},
   "source": [
    "### Where we can declare instance variables"
   ]
  },
  {
   "cell_type": "code",
   "execution_count": 3,
   "metadata": {},
   "outputs": [],
   "source": [
    "# Inside constructor by using self variable\n",
    "# Inside Instance method by using self variable\n",
    "# Outside of the by using object reference will be created"
   ]
  },
  {
   "cell_type": "code",
   "execution_count": null,
   "metadata": {},
   "outputs": [],
   "source": [
    "# Inside constructor by using self variable\n",
    "# we can declare instance variables inside "
   ]
  }
 ],
 "metadata": {
  "kernelspec": {
   "display_name": "Python 3",
   "language": "python",
   "name": "python3"
  },
  "language_info": {
   "codemirror_mode": {
    "name": "ipython",
    "version": 3
   },
   "file_extension": ".py",
   "mimetype": "text/x-python",
   "name": "python",
   "nbconvert_exporter": "python",
   "pygments_lexer": "ipython3",
   "version": "3.8.5"
  }
 },
 "nbformat": 4,
 "nbformat_minor": 4
}
