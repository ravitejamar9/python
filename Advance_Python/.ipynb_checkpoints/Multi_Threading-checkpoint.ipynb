{
 "cells": [
  {
   "cell_type": "code",
   "execution_count": null,
   "metadata": {},
   "outputs": [],
   "source": [
    "# Process based Multi Tasking:\n",
    "# Executing several tasks simultaneously where each task is a seperate independednt process is called process based multi tasking\n",
    "# Thread based Multi Tasking:\n",
    "# Executing several tasks simultaneously where each task is a seperate independent part of the same program is called Thread based multi tasking\n",
    "\n",
    "#Aplications-->Implement multimedia graphics,animations,video games,web and application servers\n"
   ]
  },
  {
   "cell_type": "code",
   "execution_count": null,
   "metadata": {},
   "outputs": [],
   "source": [
    "# program to print name of the current executing thread\n",
    "import threading\n",
    "print(\"Current Executing Thread:\",threading.current_thread().getName())"
   ]
  },
  {
   "cell_type": "markdown",
   "metadata": {},
   "source": [
    "## The ways of creating Thread in python"
   ]
  },
  {
   "cell_type": "markdown",
   "metadata": {},
   "source": [
    "### 1) creating a Thread without using any class"
   ]
  },
  {
   "cell_type": "code",
   "execution_count": null,
   "metadata": {},
   "outputs": [],
   "source": [
    "# if multiple threads present in out program, then we cannot expect excution order and hence \n",
    "# we cannot expect exact output for the mutli threaded programs.\n",
    "from threading import *\n",
    "def display():\n",
    "    for i in range(5):\n",
    "        print(\"Child Thred\")\n",
    "t=Thread(target=display)\n",
    "t.start()\n",
    "for i in range(5):\n",
    "    print(\"Main Thread..\")"
   ]
  },
  {
   "cell_type": "markdown",
   "metadata": {},
   "source": [
    "### 2) Creating a Thread by extending Threading class"
   ]
  },
  {
   "cell_type": "code",
   "execution_count": null,
   "metadata": {},
   "outputs": [],
   "source": [
    "# we have to create child class for Thread class.In that child class we have to override run() method with our \n",
    "# required job. Whenever we call start() method then automatically run() method will be executed.\n",
    "from threading import *\n",
    "class MyThread(Thread):\n",
    "    def run(self):\n",
    "        for i in range(5):\n",
    "            print(\"Child Thread\")\n",
    "t=MyThread()\n",
    "t.start()\n",
    "for i in range(5):\n",
    "    print(\"Parent Thread\")"
   ]
  },
  {
   "cell_type": "markdown",
   "metadata": {},
   "source": [
    "### 3) Creating a Thread without extending Thread Class"
   ]
  },
  {
   "cell_type": "code",
   "execution_count": null,
   "metadata": {},
   "outputs": [],
   "source": [
    "from threading import *\n",
    "class Test:\n",
    "    def display(self):\n",
    "        for i in range(5):\n",
    "            print(\"Child Thread\")\n",
    "obj=Test()\n",
    "t=Thread(target=obj.display())\n",
    "for i in range(5):\n",
    "    print(\"Parent Thread\")\n",
    "t.start()"
   ]
  },
  {
   "cell_type": "markdown",
   "metadata": {},
   "source": [
    "### without Multi Threading\n"
   ]
  },
  {
   "cell_type": "code",
   "execution_count": null,
   "metadata": {},
   "outputs": [],
   "source": [
    "from threading import *\n",
    "import time\n",
    "def doubles(numbers):\n",
    "    for num in numbers:\n",
    "        print(f'{num} Double:{num*2}')\n",
    "        time.sleep(1)\n",
    "def squares(numbers):\n",
    "    for num in numbers:\n",
    "        print(f'{num} Square:{num*num}')\n",
    "def cubes(numbers):\n",
    "    for num in numbers:\n",
    "        print(f'{num} Triple:{num*num*num}')\n",
    "begin_time=time.time()\n",
    "nums=list(range(1,11))\n",
    "doubles(nums)\n",
    "squares(nums)\n",
    "cubes(nums)\n",
    "print(time.time()-begin_time)\n"
   ]
  },
  {
   "cell_type": "markdown",
   "metadata": {},
   "source": [
    "### With Multi Threading"
   ]
  },
  {
   "cell_type": "code",
   "execution_count": null,
   "metadata": {},
   "outputs": [],
   "source": [
    "from threading import *\n",
    "import time\n",
    "def doubles(numbers):\n",
    "    for num in numbers:\n",
    "        print(f'{num} Double:{num*2}')\n",
    "        time.sleep(1)\n",
    "def squares(numbers):\n",
    "    for num in numbers:\n",
    "        print(f'{num} Square:{num*num}')\n",
    "def cubes(numbers):\n",
    "    for num in numbers:\n",
    "        print(f'{num} Triple:{num*num*num}')\n",
    "begin_time=time.time()\n",
    "nums=list(range(1,11))\n",
    "type(nums)\n",
    "t1=Thread(target=doubles,args=(nums,))\n",
    "t2=Thread(target=squares,args=(nums,))\n",
    "t3=Thread(target=cubes,args=(nums,))\n",
    "t1.start()\n",
    "t2.start()\n",
    "t3.start()\n",
    "t1.join()\n",
    "t2.join()\n",
    "t3.join()\n",
    "print(time.time()-begin_time)\n"
   ]
  },
  {
   "cell_type": "markdown",
   "metadata": {},
   "source": [
    "### Setting and Getting Name of a Thread"
   ]
  },
  {
   "cell_type": "code",
   "execution_count": null,
   "metadata": {},
   "outputs": [],
   "source": [
    "# Every thread in python has name.It may be default name generated by python or customized name provided by user\n",
    "# t.getName() --> Returns name of Thread\n",
    "# t.setName() --> To set our own name\n",
    "# Every Thread has implicit variable called name\n",
    "from threading import *\n",
    "print(current_thread().getName())\n",
    "current_thread().setName(\"Raviteja\")\n",
    "print(current_thread().getName())\n",
    "print(current_thread().name)\n"
   ]
  },
  {
   "cell_type": "markdown",
   "metadata": {},
   "source": [
    "### Thread Identification Number(ident)"
   ]
  },
  {
   "cell_type": "code",
   "execution_count": null,
   "metadata": {},
   "outputs": [],
   "source": [
    "# For every thread internally a unique identification number is available.we can access by using variable \"ident\"\n",
    "from threading import *\n",
    "def display():\n",
    "    print(\"Child Thread\")\n",
    "t=Thread(target=display)\n",
    "t.start()\n",
    "print(\"Main thread identification num:\",current_thread().ident)\n",
    "print(\"Child thread identification num:\",t.ident)"
   ]
  },
  {
   "cell_type": "code",
   "execution_count": null,
   "metadata": {},
   "outputs": [],
   "source": [
    "# active_count() --> returns the number of active threads currently running.\n",
    "from threading import *\n",
    "import time\n",
    "def display():\n",
    "    print(current_thread().getName(),\"....started\")\n",
    "    time.sleep(3)\n",
    "    print(current_thread().getName(),\"....ended\")\n",
    "print(\"The Number of active Threads:\",active_count())\n",
    "t1=Thread(target=display,name=\"ChildThread1\")\n",
    "t2=Thread(target=display,name=\"ChildThread2\")\n",
    "t3=Thread(target=display,name=\"ChildThread3\")\n",
    "t1.start()\n",
    "t2.start()\n",
    "t3.start()\n",
    "print(\"The Number of active Threads:\",active_count())\n",
    "time.sleep(5)\n",
    "print(\"The Number of active Threads:\",active_count())\n"
   ]
  },
  {
   "cell_type": "code",
   "execution_count": 2,
   "metadata": {},
   "outputs": [
    {
     "name": "stdout",
     "output_type": "stream",
     "text": [
      "ChildThread1 ...started\n",
      "ChildThread2 ...started\n",
      "Thread Name: MainThread\n",
      "Thread Name: Thread-2\n",
      "Thread Name: Thread-3\n",
      "Thread Name: IPythonHistorySavingThread\n",
      "Thread Name: Thread-1\n",
      "Thread Name: ChildThread1\n",
      "Thread Name: ChildThread2\n",
      "ChildThread1 ...ended\n",
      "ChildThread2 ...ended\n",
      "Thread Name: MainThread\n",
      "Thread Name: Thread-2\n",
      "Thread Name: Thread-3\n",
      "Thread Name: IPythonHistorySavingThread\n",
      "Thread Name: Thread-1\n"
     ]
    }
   ],
   "source": [
    "# enumerate() --> This function returns a list of all acitve threads currently running\n",
    "from threading import *\n",
    "import time\n",
    "def display():\n",
    "    print(current_thread().getName(),\"...started\")\n",
    "    time.sleep(3)\n",
    "    print(current_thread().getName(),\"...ended\")\n",
    "t1=Thread(target=display,name=\"ChildThread1\")\n",
    "t2=Thread(target=display,name=\"ChildThread2\")\n",
    "t1.start()\n",
    "t2.start()\n",
    "for t in enumerate():\n",
    "    print(\"Thread Name:\",t.name)\n",
    "time.sleep(5)\n",
    "for t in enumerate():\n",
    "    print(\"Thread Name:\",t.name)\n"
   ]
  },
  {
   "cell_type": "code",
   "execution_count": 5,
   "metadata": {},
   "outputs": [
    {
     "name": "stdout",
     "output_type": "stream",
     "text": [
      "ChildThread1...started\n",
      "ChildThread2...started\n",
      "ChildThread1 is Alive:True\n",
      "ChildThread2 is Alive:True\n",
      "ChildThread1...ended\n",
      "ChildThread2...ended\n",
      "ChildThread1 is Alive:False\n",
      "ChildThread2 is Alive:False\n"
     ]
    }
   ],
   "source": [
    "# is_alive() method checks whether a thread is still executing or not.\n",
    "from threading import *\n",
    "import time\n",
    "def display():\n",
    "    print(f'{current_thread().getName()}...started')\n",
    "    time.sleep(3)\n",
    "    print(f'{current_thread().getName()}...ended')\n",
    "t1=Thread(target=display,name=\"ChildThread1\")\n",
    "t2=Thread(target=display,name=\"ChildThread2\")\n",
    "t1.start()\n",
    "t2.start()\n",
    "print(f'{t1.name} is Alive:{t1.is_alive()}')\n",
    "print(f'{t2.name} is Alive:{t2.is_alive()}')\n",
    "time.sleep(5)\n",
    "print(f'{t1.name} is Alive:{t1.is_alive()}')\n",
    "print(f'{t2.name} is Alive:{t2.is_alive()}')"
   ]
  },
  {
   "cell_type": "code",
   "execution_count": 6,
   "metadata": {},
   "outputs": [
    {
     "name": "stdout",
     "output_type": "stream",
     "text": [
      "Seetha Thread\n",
      "Seetha Thread\n",
      "Seetha Thread\n",
      "Seetha Thread\n",
      "Seetha Thread\n",
      "Rama Thread\n",
      "Rama Thread\n",
      "Rama Thread\n",
      "Rama Thread\n",
      "Rama Thread\n"
     ]
    }
   ],
   "source": [
    "# join() method -->If a thread wants to wait until completing some other thread then we should go for join() method\n",
    "from threading import *\n",
    "import time\n",
    "def display():\n",
    "    for i in range(5):\n",
    "        print(\"Seetha Thread\")\n",
    "        time.sleep(2)\n",
    "t=Thread(target=display)\n",
    "t.start()\n",
    "t.join()\n",
    "for i in range(5):\n",
    "    print(\"Rama Thread\")\n"
   ]
  },
  {
   "cell_type": "code",
   "execution_count": 1,
   "metadata": {},
   "outputs": [
    {
     "name": "stdout",
     "output_type": "stream",
     "text": [
      "Seetha Thread\n",
      "Seetha Thread\n",
      "Seetha Thread\n",
      "Seetha Thread\n",
      "Seetha Thread\n",
      "Rama Thread\n",
      "Rama Thread\n",
      "Rama Thread\n",
      "Rama Thread\n",
      "Rama Thread\n"
     ]
    }
   ],
   "source": [
    "# join(seconds) --> we can call join() method with time period and In this case thread will wait specified time\n",
    "from threading import *\n",
    "import time\n",
    "def display():\n",
    "    for i in range(5):\n",
    "        print(\"Seetha Thread\")\n",
    "        time.sleep(1)\n",
    "t=Thread(target=display)\n",
    "t.start()\n",
    "t.join(5)\n",
    "for i in range(5):\n",
    "    print(\"Rama Thread\")"
   ]
  },
  {
   "cell_type": "markdown",
   "metadata": {},
   "source": [
    "### Daemon Threads"
   ]
  },
  {
   "cell_type": "code",
   "execution_count": 3,
   "metadata": {},
   "outputs": [
    {
     "name": "stdout",
     "output_type": "stream",
     "text": [
      "False\n",
      "False\n"
     ]
    }
   ],
   "source": [
    "# Thre threads which are running in the background are called Daemon Threads.The main objective of Daemon threads\n",
    "# is to provide support for Non Daemon threads   EX: Garbage Collector\n",
    "# isDaemon()-->Returns true if it is daemon threads otherwise return false\n",
    "\n",
    "from threading import *\n",
    "print(current_thread().isDaemon())\n",
    "print(current_thread().daemon)\n",
    "\n"
   ]
  },
  {
   "cell_type": "code",
   "execution_count": 5,
   "metadata": {},
   "outputs": [
    {
     "name": "stdout",
     "output_type": "stream",
     "text": [
      "False\n"
     ]
    },
    {
     "ename": "RuntimeError",
     "evalue": "cannot set daemon status of active thread",
     "output_type": "error",
     "traceback": [
      "\u001b[0;31m---------------------------------------------------------------------------\u001b[0m",
      "\u001b[0;31mRuntimeError\u001b[0m                              Traceback (most recent call last)",
      "\u001b[0;32m<ipython-input-5-27b0509eeed0>\u001b[0m in \u001b[0;36m<module>\u001b[0;34m\u001b[0m\n\u001b[1;32m      3\u001b[0m \u001b[0;32mfrom\u001b[0m \u001b[0mthreading\u001b[0m \u001b[0;32mimport\u001b[0m \u001b[0;34m*\u001b[0m\u001b[0;34m\u001b[0m\u001b[0;34m\u001b[0m\u001b[0m\n\u001b[1;32m      4\u001b[0m \u001b[0mprint\u001b[0m\u001b[0;34m(\u001b[0m\u001b[0mcurrent_thread\u001b[0m\u001b[0;34m(\u001b[0m\u001b[0;34m)\u001b[0m\u001b[0;34m.\u001b[0m\u001b[0misDaemon\u001b[0m\u001b[0;34m(\u001b[0m\u001b[0;34m)\u001b[0m\u001b[0;34m)\u001b[0m\u001b[0;34m\u001b[0m\u001b[0;34m\u001b[0m\u001b[0m\n\u001b[0;32m----> 5\u001b[0;31m \u001b[0mcurrent_thread\u001b[0m\u001b[0;34m(\u001b[0m\u001b[0;34m)\u001b[0m\u001b[0;34m.\u001b[0m\u001b[0msetDaemon\u001b[0m\u001b[0;34m(\u001b[0m\u001b[0;32mTrue\u001b[0m\u001b[0;34m)\u001b[0m\u001b[0;34m\u001b[0m\u001b[0;34m\u001b[0m\u001b[0m\n\u001b[0m\u001b[1;32m      6\u001b[0m \u001b[0mprint\u001b[0m\u001b[0;34m(\u001b[0m\u001b[0mcurrent_thread\u001b[0m\u001b[0;34m(\u001b[0m\u001b[0;34m)\u001b[0m\u001b[0;34m.\u001b[0m\u001b[0misDaemon\u001b[0m\u001b[0;34m(\u001b[0m\u001b[0;34m)\u001b[0m\u001b[0;34m)\u001b[0m\u001b[0;34m\u001b[0m\u001b[0;34m\u001b[0m\u001b[0m\n",
      "\u001b[0;32m/usr/lib/python3.8/threading.py\u001b[0m in \u001b[0;36msetDaemon\u001b[0;34m(self, daemonic)\u001b[0m\n\u001b[1;32m   1120\u001b[0m \u001b[0;34m\u001b[0m\u001b[0m\n\u001b[1;32m   1121\u001b[0m     \u001b[0;32mdef\u001b[0m \u001b[0msetDaemon\u001b[0m\u001b[0;34m(\u001b[0m\u001b[0mself\u001b[0m\u001b[0;34m,\u001b[0m \u001b[0mdaemonic\u001b[0m\u001b[0;34m)\u001b[0m\u001b[0;34m:\u001b[0m\u001b[0;34m\u001b[0m\u001b[0;34m\u001b[0m\u001b[0m\n\u001b[0;32m-> 1122\u001b[0;31m         \u001b[0mself\u001b[0m\u001b[0;34m.\u001b[0m\u001b[0mdaemon\u001b[0m \u001b[0;34m=\u001b[0m \u001b[0mdaemonic\u001b[0m\u001b[0;34m\u001b[0m\u001b[0;34m\u001b[0m\u001b[0m\n\u001b[0m\u001b[1;32m   1123\u001b[0m \u001b[0;34m\u001b[0m\u001b[0m\n\u001b[1;32m   1124\u001b[0m     \u001b[0;32mdef\u001b[0m \u001b[0mgetName\u001b[0m\u001b[0;34m(\u001b[0m\u001b[0mself\u001b[0m\u001b[0;34m)\u001b[0m\u001b[0;34m:\u001b[0m\u001b[0;34m\u001b[0m\u001b[0;34m\u001b[0m\u001b[0m\n",
      "\u001b[0;32m/usr/lib/python3.8/threading.py\u001b[0m in \u001b[0;36mdaemon\u001b[0;34m(self, daemonic)\u001b[0m\n\u001b[1;32m   1113\u001b[0m             \u001b[0;32mraise\u001b[0m \u001b[0mRuntimeError\u001b[0m\u001b[0;34m(\u001b[0m\u001b[0;34m\"Thread.__init__() not called\"\u001b[0m\u001b[0;34m)\u001b[0m\u001b[0;34m\u001b[0m\u001b[0;34m\u001b[0m\u001b[0m\n\u001b[1;32m   1114\u001b[0m         \u001b[0;32mif\u001b[0m \u001b[0mself\u001b[0m\u001b[0;34m.\u001b[0m\u001b[0m_started\u001b[0m\u001b[0;34m.\u001b[0m\u001b[0mis_set\u001b[0m\u001b[0;34m(\u001b[0m\u001b[0;34m)\u001b[0m\u001b[0;34m:\u001b[0m\u001b[0;34m\u001b[0m\u001b[0;34m\u001b[0m\u001b[0m\n\u001b[0;32m-> 1115\u001b[0;31m             \u001b[0;32mraise\u001b[0m \u001b[0mRuntimeError\u001b[0m\u001b[0;34m(\u001b[0m\u001b[0;34m\"cannot set daemon status of active thread\"\u001b[0m\u001b[0;34m)\u001b[0m\u001b[0;34m\u001b[0m\u001b[0;34m\u001b[0m\u001b[0m\n\u001b[0m\u001b[1;32m   1116\u001b[0m         \u001b[0mself\u001b[0m\u001b[0;34m.\u001b[0m\u001b[0m_daemonic\u001b[0m \u001b[0;34m=\u001b[0m \u001b[0mdaemonic\u001b[0m\u001b[0;34m\u001b[0m\u001b[0;34m\u001b[0m\u001b[0m\n\u001b[1;32m   1117\u001b[0m \u001b[0;34m\u001b[0m\u001b[0m\n",
      "\u001b[0;31mRuntimeError\u001b[0m: cannot set daemon status of active thread"
     ]
    }
   ],
   "source": [
    "# setDaemon(True)-->we can change nature by using setDaemon() method of Thread class but we can use before starting\n",
    "# of Thread i.e once thread started, we cannot change its Daemon nature otherwise we will get RuntimeError.\n",
    "from threading import *\n",
    "print(current_thread().isDaemon())\n",
    "current_thread().setDaemon(True)\n",
    "print(current_thread().isDaemon())\n",
    "# Main method is running state so cannot make main method as Daemon\n"
   ]
  },
  {
   "cell_type": "code",
   "execution_count": 8,
   "metadata": {},
   "outputs": [
    {
     "name": "stdout",
     "output_type": "stream",
     "text": [
      "ChildThread is Daemon Thread:False\n",
      "ChildThread is Daemon Thread:True\n",
      "Child Thread...started\n",
      "Child Thread\n",
      "Child Thread\n",
      "Child Thread\n",
      "Child Thread\n",
      "Child Thread\n",
      "Child Thread...ended\n"
     ]
    }
   ],
   "source": [
    "from threading import *\n",
    "def display():\n",
    "    print(\"Child Thread...started\")\n",
    "    for i in range(5):\n",
    "        print(\"Child Thread\")\n",
    "    print(\"Child Thread...ended\")\n",
    "t=Thread(target=display,name=\"ChildThread\")\n",
    "print(f'{t.getName()} is Daemon Thread:{t.isDaemon()}')\n",
    "t.setDaemon(True)\n",
    "print(f'{t.getName()} is Daemon Thread:{t.isDaemon()}')\n",
    "t.start()\n",
    "# Note: Main Thread is always Non-Daemon and we cannot change its Daemon Nature b'z it is already at the begining."
   ]
  },
  {
   "cell_type": "code",
   "execution_count": 13,
   "metadata": {},
   "outputs": [
    {
     "name": "stdout",
     "output_type": "stream",
     "text": [
      "Lazy Thread\n",
      "Lazy Thread\n",
      "Lazy Thread\n",
      "Lazy Thread\n",
      "Lazy Thread\n",
      "End of Main Thread\n",
      "Lazy Thread\n",
      "Lazy Thread\n",
      "Lazy Thread\n",
      "Lazy Thread\n",
      "Lazy Thread\n"
     ]
    }
   ],
   "source": [
    "# Whenever the last Non-Daemon Thread terminates automatically all Daemon threads will be terminated\n",
    "from threading import *\n",
    "import time\n",
    "def display():\n",
    "    for i in range(10):\n",
    "        print(\"Lazy Thread\")\n",
    "        time.sleep(1)\n",
    "t=Thread(target=display)\n",
    "t.setDaemon(True)\n",
    "t.start()\n",
    "time.sleep(5)\n",
    "print(\"End of Main Thread\")\n",
    "# In the above program if make t.setDaemon(False) then main thread and child threads are Non Daemon and hence both\n",
    "# will be executed until their completion\n",
    "\n",
    "# In the above program if make t.setDaemon(True) then main thread is Non-Daemon and child thread is Daemon.Hence\n",
    "# whenever Main Thread terminates automatically child thread will be terminated so program terminate.\n",
    "\n",
    "\n"
   ]
  },
  {
   "cell_type": "code",
   "execution_count": null,
   "metadata": {},
   "outputs": [],
   "source": []
  }
 ],
 "metadata": {
  "kernelspec": {
   "display_name": "Python 3",
   "language": "python",
   "name": "python3"
  },
  "language_info": {
   "codemirror_mode": {
    "name": "ipython",
    "version": 3
   },
   "file_extension": ".py",
   "mimetype": "text/x-python",
   "name": "python",
   "nbconvert_exporter": "python",
   "pygments_lexer": "ipython3",
   "version": "3.8.5"
  }
 },
 "nbformat": 4,
 "nbformat_minor": 4
}
