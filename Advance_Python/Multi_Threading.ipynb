{
 "cells": [
  {
   "cell_type": "code",
   "execution_count": null,
   "metadata": {},
   "outputs": [],
   "source": [
    "# Process based Multi Tasking:\n",
    "# Executing several tasks simultaneously where each task is a seperate independednt process is called process based multi tasking\n",
    "# Thread based Multi Tasking:\n",
    "# Executing several tasks simultaneously where each task is a seperate independent part of the same program is called Thread based multi tasking\n",
    "\n",
    "#Aplications-->Implement multimedia graphics,animations,video games,web and application servers\n"
   ]
  },
  {
   "cell_type": "code",
   "execution_count": null,
   "metadata": {},
   "outputs": [],
   "source": [
    "# program to print name of the current executing thread\n",
    "import threading\n",
    "print(\"Current Executing Thread:\",threading.current_thread().getName())"
   ]
  },
  {
   "cell_type": "markdown",
   "metadata": {},
   "source": [
    "## The ways of creating Thread in python"
   ]
  },
  {
   "cell_type": "markdown",
   "metadata": {},
   "source": [
    "### 1) creating a Thread without using any class"
   ]
  },
  {
   "cell_type": "code",
   "execution_count": null,
   "metadata": {},
   "outputs": [],
   "source": [
    "# if multiple threads present in out program, then we cannot expect excution order and hence \n",
    "# we cannot expect exact output for the mutli threaded programs.\n",
    "from threading import *\n",
    "def display():\n",
    "    for i in range(5):\n",
    "        print(\"Child Thred\")\n",
    "t=Thread(target=display)\n",
    "t.start()\n",
    "for i in range(5):\n",
    "    print(\"Main Thread..\")"
   ]
  },
  {
   "cell_type": "markdown",
   "metadata": {},
   "source": [
    "### 2) Creating a Thread by extending Threading class"
   ]
  },
  {
   "cell_type": "code",
   "execution_count": null,
   "metadata": {},
   "outputs": [],
   "source": [
    "# we have to create child class for Thread class.In that child class we have to override run() method with our \n",
    "# required job. Whenever we call start() method then automatically run() method will be executed.\n",
    "from threading import *\n",
    "class MyThread(Thread):\n",
    "    def run(self):\n",
    "        for i in range(5):\n",
    "            print(\"Child Thread\")\n",
    "t=MyThread()\n",
    "t.start()\n",
    "for i in range(5):\n",
    "    print(\"Parent Thread\")"
   ]
  },
  {
   "cell_type": "markdown",
   "metadata": {},
   "source": [
    "### 3) Creating a Thread without extending Thread Class"
   ]
  },
  {
   "cell_type": "code",
   "execution_count": null,
   "metadata": {},
   "outputs": [],
   "source": [
    "from threading import *\n",
    "class Test:\n",
    "    def display(self):\n",
    "        for i in range(5):\n",
    "            print(\"Child Thread\")\n",
    "obj=Test()\n",
    "t=Thread(target=obj.display())\n",
    "for i in range(5):\n",
    "    print(\"Parent Thread\")\n",
    "t.start()"
   ]
  },
  {
   "cell_type": "markdown",
   "metadata": {},
   "source": [
    "### without Multi Threading\n"
   ]
  },
  {
   "cell_type": "code",
   "execution_count": null,
   "metadata": {},
   "outputs": [],
   "source": [
    "from threading import *\n",
    "import time\n",
    "def doubles(numbers):\n",
    "    for num in numbers:\n",
    "        print(f'{num} Double:{num*2}')\n",
    "        time.sleep(1)\n",
    "def squares(numbers):\n",
    "    for num in numbers:\n",
    "        print(f'{num} Square:{num*num}')\n",
    "def cubes(numbers):\n",
    "    for num in numbers:\n",
    "        print(f'{num} Triple:{num*num*num}')\n",
    "begin_time=time.time()\n",
    "nums=list(range(1,11))\n",
    "doubles(nums)\n",
    "squares(nums)\n",
    "cubes(nums)\n",
    "print(time.time()-begin_time)\n"
   ]
  },
  {
   "cell_type": "markdown",
   "metadata": {},
   "source": [
    "### With Multi Threading"
   ]
  },
  {
   "cell_type": "code",
   "execution_count": null,
   "metadata": {},
   "outputs": [],
   "source": [
    "from threading import *\n",
    "import time\n",
    "def doubles(numbers):\n",
    "    for num in numbers:\n",
    "        print(f'{num} Double:{num*2}')\n",
    "        time.sleep(1)\n",
    "def squares(numbers):\n",
    "    for num in numbers:\n",
    "        print(f'{num} Square:{num*num}')\n",
    "def cubes(numbers):\n",
    "    for num in numbers:\n",
    "        print(f'{num} Triple:{num*num*num}')\n",
    "begin_time=time.time()\n",
    "nums=list(range(1,11))\n",
    "type(nums)\n",
    "t1=Thread(target=doubles,args=(nums,))\n",
    "t2=Thread(target=squares,args=(nums,))\n",
    "t3=Thread(target=cubes,args=(nums,))\n",
    "t1.start()\n",
    "t2.start()\n",
    "t3.start()\n",
    "t1.join()\n",
    "t2.join()\n",
    "t3.join()\n",
    "print(time.time()-begin_time)\n"
   ]
  },
  {
   "cell_type": "markdown",
   "metadata": {},
   "source": [
    "### Setting and Getting Name of a Thread"
   ]
  },
  {
   "cell_type": "code",
   "execution_count": null,
   "metadata": {},
   "outputs": [],
   "source": [
    "# Every thread in python has name.It may be default name generated by python or customized name provided by user\n",
    "# t.getName() --> Returns name of Thread\n",
    "# t.setName() --> To set our own name\n",
    "# Every Thread has implicit variable called name\n",
    "from threading import *\n",
    "print(current_thread().getName())\n",
    "current_thread().setName(\"Raviteja\")\n",
    "print(current_thread().getName())\n",
    "print(current_thread().name)\n"
   ]
  },
  {
   "cell_type": "markdown",
   "metadata": {},
   "source": [
    "### Thread Identification Number(ident)"
   ]
  },
  {
   "cell_type": "code",
   "execution_count": null,
   "metadata": {},
   "outputs": [],
   "source": [
    "# For every thread internally a unique identification number is available.we can access by using variable \"ident\"\n",
    "from threading import *\n",
    "def display():\n",
    "    print(\"Child Thread\")\n",
    "t=Thread(target=display)\n",
    "t.start()\n",
    "print(\"Main thread identification num:\",current_thread().ident)\n",
    "print(\"Child thread identification num:\",t.ident)"
   ]
  },
  {
   "cell_type": "code",
   "execution_count": null,
   "metadata": {},
   "outputs": [],
   "source": [
    "# active_count() --> returns the number of active threads currently running.\n",
    "from threading import *\n",
    "import time\n",
    "def display():\n",
    "    print(current_thread().getName(),\"....started\")\n",
    "    time.sleep(3)\n",
    "    print(current_thread().getName(),\"....ended\")\n",
    "print(\"The Number of active Threads:\",active_count())\n",
    "t1=Thread(target=display,name=\"ChildThread1\")\n",
    "t2=Thread(target=display,name=\"ChildThread2\")\n",
    "t3=Thread(target=display,name=\"ChildThread3\")\n",
    "t1.start()\n",
    "t2.start()\n",
    "t3.start()\n",
    "print(\"The Number of active Threads:\",active_count())\n",
    "time.sleep(5)\n",
    "print(\"The Number of active Threads:\",active_count())\n"
   ]
  },
  {
   "cell_type": "code",
   "execution_count": 2,
   "metadata": {},
   "outputs": [
    {
     "name": "stdout",
     "output_type": "stream",
     "text": [
      "ChildThread1 ...started\n",
      "ChildThread2 ...started\n",
      "Thread Name: MainThread\n",
      "Thread Name: Thread-2\n",
      "Thread Name: Thread-3\n",
      "Thread Name: IPythonHistorySavingThread\n",
      "Thread Name: Thread-1\n",
      "Thread Name: ChildThread1\n",
      "Thread Name: ChildThread2\n",
      "ChildThread1 ...ended\n",
      "ChildThread2 ...ended\n",
      "Thread Name: MainThread\n",
      "Thread Name: Thread-2\n",
      "Thread Name: Thread-3\n",
      "Thread Name: IPythonHistorySavingThread\n",
      "Thread Name: Thread-1\n"
     ]
    }
   ],
   "source": [
    "# enumerate() --> This function returns a list of all acitve threads currently running\n",
    "from threading import *\n",
    "import time\n",
    "def display():\n",
    "    print(current_thread().getName(),\"...started\")\n",
    "    time.sleep(3)\n",
    "    print(current_thread().getName(),\"...ended\")\n",
    "t1=Thread(target=display,name=\"ChildThread1\")\n",
    "t2=Thread(target=display,name=\"ChildThread2\")\n",
    "t1.start()\n",
    "t2.start()\n",
    "for t in enumerate():\n",
    "    print(\"Thread Name:\",t.name)\n",
    "time.sleep(5)\n",
    "for t in enumerate():\n",
    "    print(\"Thread Name:\",t.name)\n"
   ]
  },
  {
   "cell_type": "code",
   "execution_count": 5,
   "metadata": {},
   "outputs": [
    {
     "name": "stdout",
     "output_type": "stream",
     "text": [
      "ChildThread1...started\n",
      "ChildThread2...started\n",
      "ChildThread1 is Alive:True\n",
      "ChildThread2 is Alive:True\n",
      "ChildThread1...ended\n",
      "ChildThread2...ended\n",
      "ChildThread1 is Alive:False\n",
      "ChildThread2 is Alive:False\n"
     ]
    }
   ],
   "source": [
    "# is_alive() method checks whether a thread is still executing or not.\n",
    "from threading import *\n",
    "import time\n",
    "def display():\n",
    "    print(f'{current_thread().getName()}...started')\n",
    "    time.sleep(3)\n",
    "    print(f'{current_thread().getName()}...ended')\n",
    "t1=Thread(target=display,name=\"ChildThread1\")\n",
    "t2=Thread(target=display,name=\"ChildThread2\")\n",
    "t1.start()\n",
    "t2.start()\n",
    "print(f'{t1.name} is Alive:{t1.is_alive()}')\n",
    "print(f'{t2.name} is Alive:{t2.is_alive()}')\n",
    "time.sleep(5)\n",
    "print(f'{t1.name} is Alive:{t1.is_alive()}')\n",
    "print(f'{t2.name} is Alive:{t2.is_alive()}')"
   ]
  },
  {
   "cell_type": "code",
   "execution_count": 6,
   "metadata": {},
   "outputs": [
    {
     "name": "stdout",
     "output_type": "stream",
     "text": [
      "Seetha Thread\n",
      "Seetha Thread\n",
      "Seetha Thread\n",
      "Seetha Thread\n",
      "Seetha Thread\n",
      "Rama Thread\n",
      "Rama Thread\n",
      "Rama Thread\n",
      "Rama Thread\n",
      "Rama Thread\n"
     ]
    }
   ],
   "source": [
    "# join() method -->If a thread wants to wait until completing some other thread then we should go for join() method\n",
    "from threading import *\n",
    "import time\n",
    "def display():\n",
    "    for i in range(5):\n",
    "        print(\"Seetha Thread\")\n",
    "        time.sleep(2)\n",
    "t=Thread(target=display)\n",
    "t.start()\n",
    "t.join()\n",
    "for i in range(5):\n",
    "    print(\"Rama Thread\")\n"
   ]
  },
  {
   "cell_type": "code",
   "execution_count": 1,
   "metadata": {},
   "outputs": [
    {
     "name": "stdout",
     "output_type": "stream",
     "text": [
      "Seetha Thread\n",
      "Seetha Thread\n",
      "Seetha Thread\n",
      "Seetha Thread\n",
      "Seetha Thread\n",
      "Rama Thread\n",
      "Rama Thread\n",
      "Rama Thread\n",
      "Rama Thread\n",
      "Rama Thread\n"
     ]
    }
   ],
   "source": [
    "# join(seconds) --> we can call join() method with time period and In this case thread will wait specified time\n",
    "from threading import *\n",
    "import time\n",
    "def display():\n",
    "    for i in range(5):\n",
    "        print(\"Seetha Thread\")\n",
    "        time.sleep(1)\n",
    "t=Thread(target=display)\n",
    "t.start()\n",
    "t.join(5)\n",
    "for i in range(5):\n",
    "    print(\"Rama Thread\")"
   ]
  },
  {
   "cell_type": "markdown",
   "metadata": {},
   "source": [
    "### Daemon Threads"
   ]
  },
  {
   "cell_type": "code",
   "execution_count": 3,
   "metadata": {},
   "outputs": [
    {
     "name": "stdout",
     "output_type": "stream",
     "text": [
      "False\n",
      "False\n"
     ]
    }
   ],
   "source": [
    "# Thre threads which are running in the background are called Daemon Threads.The main objective of Daemon threads\n",
    "# is to provide support for Non Daemon threads   EX: Garbage Collector\n",
    "# isDaemon()-->Returns true if it is daemon threads otherwise return false\n",
    "\n",
    "from threading import *\n",
    "print(current_thread().isDaemon())\n",
    "print(current_thread().daemon)\n",
    "\n"
   ]
  },
  {
   "cell_type": "code",
   "execution_count": 5,
   "metadata": {},
   "outputs": [
    {
     "name": "stdout",
     "output_type": "stream",
     "text": [
      "False\n"
     ]
    },
    {
     "ename": "RuntimeError",
     "evalue": "cannot set daemon status of active thread",
     "output_type": "error",
     "traceback": [
      "\u001b[0;31m---------------------------------------------------------------------------\u001b[0m",
      "\u001b[0;31mRuntimeError\u001b[0m                              Traceback (most recent call last)",
      "\u001b[0;32m<ipython-input-5-27b0509eeed0>\u001b[0m in \u001b[0;36m<module>\u001b[0;34m\u001b[0m\n\u001b[1;32m      3\u001b[0m \u001b[0;32mfrom\u001b[0m \u001b[0mthreading\u001b[0m \u001b[0;32mimport\u001b[0m \u001b[0;34m*\u001b[0m\u001b[0;34m\u001b[0m\u001b[0;34m\u001b[0m\u001b[0m\n\u001b[1;32m      4\u001b[0m \u001b[0mprint\u001b[0m\u001b[0;34m(\u001b[0m\u001b[0mcurrent_thread\u001b[0m\u001b[0;34m(\u001b[0m\u001b[0;34m)\u001b[0m\u001b[0;34m.\u001b[0m\u001b[0misDaemon\u001b[0m\u001b[0;34m(\u001b[0m\u001b[0;34m)\u001b[0m\u001b[0;34m)\u001b[0m\u001b[0;34m\u001b[0m\u001b[0;34m\u001b[0m\u001b[0m\n\u001b[0;32m----> 5\u001b[0;31m \u001b[0mcurrent_thread\u001b[0m\u001b[0;34m(\u001b[0m\u001b[0;34m)\u001b[0m\u001b[0;34m.\u001b[0m\u001b[0msetDaemon\u001b[0m\u001b[0;34m(\u001b[0m\u001b[0;32mTrue\u001b[0m\u001b[0;34m)\u001b[0m\u001b[0;34m\u001b[0m\u001b[0;34m\u001b[0m\u001b[0m\n\u001b[0m\u001b[1;32m      6\u001b[0m \u001b[0mprint\u001b[0m\u001b[0;34m(\u001b[0m\u001b[0mcurrent_thread\u001b[0m\u001b[0;34m(\u001b[0m\u001b[0;34m)\u001b[0m\u001b[0;34m.\u001b[0m\u001b[0misDaemon\u001b[0m\u001b[0;34m(\u001b[0m\u001b[0;34m)\u001b[0m\u001b[0;34m)\u001b[0m\u001b[0;34m\u001b[0m\u001b[0;34m\u001b[0m\u001b[0m\n",
      "\u001b[0;32m/usr/lib/python3.8/threading.py\u001b[0m in \u001b[0;36msetDaemon\u001b[0;34m(self, daemonic)\u001b[0m\n\u001b[1;32m   1120\u001b[0m \u001b[0;34m\u001b[0m\u001b[0m\n\u001b[1;32m   1121\u001b[0m     \u001b[0;32mdef\u001b[0m \u001b[0msetDaemon\u001b[0m\u001b[0;34m(\u001b[0m\u001b[0mself\u001b[0m\u001b[0;34m,\u001b[0m \u001b[0mdaemonic\u001b[0m\u001b[0;34m)\u001b[0m\u001b[0;34m:\u001b[0m\u001b[0;34m\u001b[0m\u001b[0;34m\u001b[0m\u001b[0m\n\u001b[0;32m-> 1122\u001b[0;31m         \u001b[0mself\u001b[0m\u001b[0;34m.\u001b[0m\u001b[0mdaemon\u001b[0m \u001b[0;34m=\u001b[0m \u001b[0mdaemonic\u001b[0m\u001b[0;34m\u001b[0m\u001b[0;34m\u001b[0m\u001b[0m\n\u001b[0m\u001b[1;32m   1123\u001b[0m \u001b[0;34m\u001b[0m\u001b[0m\n\u001b[1;32m   1124\u001b[0m     \u001b[0;32mdef\u001b[0m \u001b[0mgetName\u001b[0m\u001b[0;34m(\u001b[0m\u001b[0mself\u001b[0m\u001b[0;34m)\u001b[0m\u001b[0;34m:\u001b[0m\u001b[0;34m\u001b[0m\u001b[0;34m\u001b[0m\u001b[0m\n",
      "\u001b[0;32m/usr/lib/python3.8/threading.py\u001b[0m in \u001b[0;36mdaemon\u001b[0;34m(self, daemonic)\u001b[0m\n\u001b[1;32m   1113\u001b[0m             \u001b[0;32mraise\u001b[0m \u001b[0mRuntimeError\u001b[0m\u001b[0;34m(\u001b[0m\u001b[0;34m\"Thread.__init__() not called\"\u001b[0m\u001b[0;34m)\u001b[0m\u001b[0;34m\u001b[0m\u001b[0;34m\u001b[0m\u001b[0m\n\u001b[1;32m   1114\u001b[0m         \u001b[0;32mif\u001b[0m \u001b[0mself\u001b[0m\u001b[0;34m.\u001b[0m\u001b[0m_started\u001b[0m\u001b[0;34m.\u001b[0m\u001b[0mis_set\u001b[0m\u001b[0;34m(\u001b[0m\u001b[0;34m)\u001b[0m\u001b[0;34m:\u001b[0m\u001b[0;34m\u001b[0m\u001b[0;34m\u001b[0m\u001b[0m\n\u001b[0;32m-> 1115\u001b[0;31m             \u001b[0;32mraise\u001b[0m \u001b[0mRuntimeError\u001b[0m\u001b[0;34m(\u001b[0m\u001b[0;34m\"cannot set daemon status of active thread\"\u001b[0m\u001b[0;34m)\u001b[0m\u001b[0;34m\u001b[0m\u001b[0;34m\u001b[0m\u001b[0m\n\u001b[0m\u001b[1;32m   1116\u001b[0m         \u001b[0mself\u001b[0m\u001b[0;34m.\u001b[0m\u001b[0m_daemonic\u001b[0m \u001b[0;34m=\u001b[0m \u001b[0mdaemonic\u001b[0m\u001b[0;34m\u001b[0m\u001b[0;34m\u001b[0m\u001b[0m\n\u001b[1;32m   1117\u001b[0m \u001b[0;34m\u001b[0m\u001b[0m\n",
      "\u001b[0;31mRuntimeError\u001b[0m: cannot set daemon status of active thread"
     ]
    }
   ],
   "source": [
    "# setDaemon(True)-->we can change nature by using setDaemon() method of Thread class but we can use before starting\n",
    "# of Thread i.e once thread started, we cannot change its Daemon nature otherwise we will get RuntimeError.\n",
    "from threading import *\n",
    "print(current_thread().isDaemon())\n",
    "current_thread().setDaemon(True)\n",
    "print(current_thread().isDaemon())\n",
    "# Main method is running state so cannot make main method as Daemon\n"
   ]
  },
  {
   "cell_type": "code",
   "execution_count": 8,
   "metadata": {},
   "outputs": [
    {
     "name": "stdout",
     "output_type": "stream",
     "text": [
      "ChildThread is Daemon Thread:False\n",
      "ChildThread is Daemon Thread:True\n",
      "Child Thread...started\n",
      "Child Thread\n",
      "Child Thread\n",
      "Child Thread\n",
      "Child Thread\n",
      "Child Thread\n",
      "Child Thread...ended\n"
     ]
    }
   ],
   "source": [
    "from threading import *\n",
    "def display():\n",
    "    print(\"Child Thread...started\")\n",
    "    for i in range(5):\n",
    "        print(\"Child Thread\")\n",
    "    print(\"Child Thread...ended\")\n",
    "t=Thread(target=display,name=\"ChildThread\")\n",
    "print(f'{t.getName()} is Daemon Thread:{t.isDaemon()}')\n",
    "t.setDaemon(True)\n",
    "print(f'{t.getName()} is Daemon Thread:{t.isDaemon()}')\n",
    "t.start()\n",
    "# Note: Main Thread is always Non-Daemon and we cannot change its Daemon Nature b'z it is already at the begining."
   ]
  },
  {
   "cell_type": "code",
   "execution_count": 13,
   "metadata": {},
   "outputs": [
    {
     "name": "stdout",
     "output_type": "stream",
     "text": [
      "Lazy Thread\n",
      "Lazy Thread\n",
      "Lazy Thread\n",
      "Lazy Thread\n",
      "Lazy Thread\n",
      "End of Main Thread\n",
      "Lazy Thread\n",
      "Lazy Thread\n",
      "Lazy Thread\n",
      "Lazy Thread\n",
      "Lazy Thread\n"
     ]
    }
   ],
   "source": [
    "# Whenever the last Non-Daemon Thread terminates automatically all Daemon threads will be terminated\n",
    "from threading import *\n",
    "import time\n",
    "def display():\n",
    "    for i in range(10):\n",
    "        print(\"Lazy Thread\")\n",
    "        time.sleep(1)\n",
    "t=Thread(target=display)\n",
    "t.setDaemon(True)\n",
    "t.start()\n",
    "time.sleep(5)\n",
    "print(\"End of Main Thread\")\n",
    "# In the above program if make t.setDaemon(False) then main thread and child threads are Non Daemon and hence both\n",
    "# will be executed until their completion\n",
    "\n",
    "# In the above program if make t.setDaemon(True) then main thread is Non-Daemon and child thread is Daemon.Hence\n",
    "# whenever Main Thread terminates automatically child thread will be terminated so program terminate.\n",
    "\n",
    "\n"
   ]
  },
  {
   "cell_type": "markdown",
   "metadata": {},
   "source": [
    "## Synchronization"
   ]
  },
  {
   "cell_type": "code",
   "execution_count": 3,
   "metadata": {},
   "outputs": [
    {
     "name": "stdout",
     "output_type": "stream",
     "text": [
      "Good Morning:Good Morning:Ravi\n",
      "Good Morning:Teja\n",
      "Good Morning:RaviTeja\n",
      "Good Morning:\n",
      "Good Morning:Ravi\n",
      "Good Morning:Teja\n",
      "Good Morning:Ravi\n",
      "Good Morning:Teja\n",
      "Good Morning:Ravi\n",
      "Teja\n"
     ]
    }
   ],
   "source": [
    "# if multiple threads are executing simultaneously then there may be a chance of data inconsistency problems\n",
    "from threading import *\n",
    "import time\n",
    "def display(name):\n",
    "    for i in range(5):\n",
    "        print(\"Good Morning:\",end='')\n",
    "        time.sleep(2)\n",
    "        print(name)\n",
    "t1=Thread(target=display,args=(\"Ravi\",))\n",
    "t2=Thread(target=display,args=(\"Teja\",))\n",
    "t1.start()\n",
    "t2.start()\n",
    "# we are getting irregular output b'z both threads are executing simultaneously wish() function to overcome this\n",
    "# problem we should go for synchronizations\n",
    "# Main applications of synchronization:Online Ticket Reservation system,Funds transfer from joint accounts etc\n"
   ]
  },
  {
   "cell_type": "markdown",
   "metadata": {},
   "source": [
    "### Synchronization by using Lock concept"
   ]
  },
  {
   "cell_type": "code",
   "execution_count": 7,
   "metadata": {},
   "outputs": [
    {
     "name": "stdout",
     "output_type": "stream",
     "text": [
      "Good Morning:Ravi\n",
      "Good Morning:Ravi\n",
      "Good Morning:Ravi\n",
      "Good Morning:Ravi\n",
      "Good Morning:Ravi\n",
      "Good Morning:Teja\n",
      "Good Morning:Teja\n",
      "Good Morning:Teja\n",
      "Good Morning:Teja\n",
      "Good Morning:Teja\n"
     ]
    }
   ],
   "source": [
    "# Lock are the most fundamental synchronization mechanism provided by threading module\n",
    "# we can create lock object as follows l=Lock()\n",
    "# The Lock object can be hold by only one thread at a time.If any other thread required the same lock then it will \n",
    "# wiat until thread releases lock(ex: wash rooms)\n",
    "# A thread can aquire lock by using aquire() Method l.aquire()\n",
    "# A thread can release the lock by using release() Method l.release()\n",
    "from threading import *\n",
    "import time\n",
    "l=Lock()\n",
    "def display(name):\n",
    "    l.acquire()\n",
    "    for i in range(5):\n",
    "        print(\"Good Morning:\",end='')\n",
    "        time.sleep(1)\n",
    "        print(name)\n",
    "    l.release()\n",
    "t1=Thread(target=display,args=(\"Ravi\",))\n",
    "t2=Thread(target=display,args=(\"Teja\",))\n",
    "t1.start()\n",
    "t2.start()\n",
    "# Note:To call release() method compulsory thread should be owner of that lock i.e thread should has the lock\n",
    "# already,otherwise we will get Runtime Exception."
   ]
  },
  {
   "cell_type": "markdown",
   "metadata": {},
   "source": [
    "### Problem with simple Lock"
   ]
  },
  {
   "cell_type": "code",
   "execution_count": 14,
   "metadata": {},
   "outputs": [
    {
     "name": "stdout",
     "output_type": "stream",
     "text": [
      "Main Thread trying to acquire Lock\n",
      "Main Thread trying to acquire Lock Again\n",
      "End of program\n"
     ]
    }
   ],
   "source": [
    "# The standard Lock object does not care which thread is currently holding that lock.if the lock is held and any\n",
    "# thread attempts to acquire lock, then it will be blocked even the same thread is already holding that lock\n",
    "from threading import *\n",
    "l=Lock()\n",
    "print(\"Main Thread trying to acquire Lock\")\n",
    "l.acquire()\n",
    "print(\"Main Thread trying to acquire Lock Again\")\n",
    "#l.acquire()\n",
    "print(\"End of program\")"
   ]
  },
  {
   "cell_type": "markdown",
   "metadata": {},
   "source": [
    "### Synchronization by usig RLock concept"
   ]
  },
  {
   "cell_type": "code",
   "execution_count": 16,
   "metadata": {},
   "outputs": [
    {
     "name": "stdout",
     "output_type": "stream",
     "text": [
      "Main thread trying to acquire lock\n",
      "Main thread trying to acquire Lock Again\n"
     ]
    },
    {
     "data": {
      "text/plain": [
       "True"
      ]
     },
     "execution_count": 16,
     "metadata": {},
     "output_type": "execute_result"
    }
   ],
   "source": [
    "# If the thread calls recursive functions or nested access to resources,then the thread may trying to aquire the\n",
    "# same lock again and again,which may block our thread.Hence Traditional Locking mechanism won't for recursive fun.\n",
    "from threading import *\n",
    "l=RLock()\n",
    "print(\"Main thread trying to acquire lock\")\n",
    "l.acquire()\n",
    "print(\"Main thread trying to acquire Lock Again\")\n",
    "l.acquire()\n",
    "# Only owner thread can acquire the lock multiple times\n",
    "# The number of acquire() calls and release() calls should be matched\n"
   ]
  },
  {
   "cell_type": "code",
   "execution_count": 20,
   "metadata": {},
   "outputs": [
    {
     "name": "stdout",
     "output_type": "stream",
     "text": [
      "The factorial of 5 is 120\n",
      "The factorial of 10 is 3628800\n"
     ]
    }
   ],
   "source": [
    "from threading import *\n",
    "l=RLock()\n",
    "def factorial(n):\n",
    "    l.acquire()\n",
    "    if n==0:\n",
    "        result=1\n",
    "    else:\n",
    "        result=n*factorial(n-1)\n",
    "    l.release()\n",
    "    return result\n",
    "\n",
    "def results(n):\n",
    "    print(f'The factorial of {n} is {factorial(n)}')\n",
    "\n",
    "t1=Thread(target=results,args=(5,))\n",
    "t2=Thread(target=results,args=(10,))\n",
    "t1.start()\n",
    "t2.start()"
   ]
  },
  {
   "cell_type": "markdown",
   "metadata": {},
   "source": [
    "### Synchronization by using Semaphore"
   ]
  },
  {
   "cell_type": "code",
   "execution_count": 22,
   "metadata": {},
   "outputs": [
    {
     "name": "stdout",
     "output_type": "stream",
     "text": [
      "Good Morning Ravi\n",
      "Good Morning Teja\n"
     ]
    }
   ],
   "source": [
    "# In the case of Lock and RLock, at a time only one thread is allowed to execute.\n",
    "# Sometimes our requirement is at a time a particular number of threads are allowed to access (like at time 10 mbr)\n",
    "# Semaphore can be used to limit the access to the shared resources with limited capacity\n",
    "# s=Semaphore() --> In this case counter value 1 and at a time only one thread is allowed to access\n",
    "from threading import *\n",
    "s=Semaphore()\n",
    "def wishes(name):\n",
    "    s.acquire()\n",
    "    print(f'Good Morning {name}')\n",
    "    s.release()\n",
    "t1=Thread(target=wishes,args=(\"Ravi\",))\n",
    "t2=Thread(target=wishes,args=(\"Teja\",))\n",
    "t1.start()\n",
    "t2.start()"
   ]
  },
  {
   "cell_type": "code",
   "execution_count": 25,
   "metadata": {},
   "outputs": [
    {
     "name": "stdout",
     "output_type": "stream",
     "text": [
      "Good Moring:Good Moring:Ravi\n",
      "Good Moring:Teja\n",
      "Good Moring:Ravi\n",
      "Good Moring:Teja\n",
      "Good Moring:Ravi\n",
      "Good Moring:Teja\n",
      "Good Moring:Ravi\n",
      "Good Moring:Teja\n",
      "Good Moring:Ravi\n",
      "Good Moring:Teja\n",
      "Good Moring:Hari\n",
      "Good Moring:Ragu\n",
      "Good Moring:Hari\n",
      "Good Moring:Ragu\n",
      "Good Moring:HariRagu\n",
      "Good Moring:\n",
      "Good Moring:Ragu\n",
      "Good Moring:Hari\n",
      "Good Moring:Ragu\n",
      "Good Moring:Hari\n",
      "Jagu\n",
      "Good Moring:Jagu\n",
      "Good Moring:Jagu\n",
      "Good Moring:Jagu\n",
      "Good Moring:Jagu\n"
     ]
    }
   ],
   "source": [
    "# s=Semaphore(3) --> In this case Semaphore object can be accessed by 3 threads at a time. The remaining threads \n",
    "# have to wait until releasing the semaphore\n",
    "from threading import *\n",
    "import time\n",
    "s=Semaphore(2)\n",
    "def wish(name):\n",
    "    s.acquire()\n",
    "    for i in range(5):\n",
    "        print(f'Good Moring:',end=\"\")\n",
    "        time.sleep(2)\n",
    "        print(name)\n",
    "    s.release()\n",
    "\n",
    "t1=Thread(target=wish,args=(\"Ravi\",))\n",
    "t2=Thread(target=wish,args=(\"Teja\",))    \n",
    "t3=Thread(target=wish,args=(\"Hari\",))\n",
    "t4=Thread(target=wish,args=(\"Ragu\",))\n",
    "t5=Thread(target=wish,args=(\"Jagu\",))\n",
    "t1.start()\n",
    "t2.start()\n",
    "t3.start()\n",
    "t4.start()\n",
    "t5.start()\n",
    "# In the above program at a time 2 threads are allowed to access semaphore and hence 2 threads are allowed."
   ]
  },
  {
   "cell_type": "markdown",
   "metadata": {},
   "source": [
    "### Bounded Semaphore"
   ]
  },
  {
   "cell_type": "code",
   "execution_count": 27,
   "metadata": {},
   "outputs": [
    {
     "name": "stdout",
     "output_type": "stream",
     "text": [
      "End\n"
     ]
    }
   ],
   "source": [
    "# Normal Semaphore is an unlimited semaphore  which allows us to call release() method any number of times to \n",
    "# increment counter.The number of release() calls can exceed the number of acquire() calls also\n",
    "from threading import *\n",
    "s=Semaphore(2)\n",
    "s.acquire()\n",
    "s.acquire()\n",
    "s.release()\n",
    "s.release()\n",
    "s.release()\n",
    "s.release()\n",
    "print(\"End\")"
   ]
  },
  {
   "cell_type": "code",
   "execution_count": 29,
   "metadata": {},
   "outputs": [
    {
     "name": "stdout",
     "output_type": "stream",
     "text": [
      "End\n"
     ]
    }
   ],
   "source": [
    "# It is valid because in normal semaphore we can call release() any number of times.\n",
    "# BoundedSemaphore is exactly same as Semaphore except that the number of release() calls should not exceed the\n",
    "# number of acquire() calls.\n",
    "from threading import *\n",
    "s=BoundedSemaphore(2)\n",
    "s.acquire()\n",
    "s.acquire()\n",
    "s.release()\n",
    "#s.release()\n",
    "s.release()\n",
    "print(\"End\")"
   ]
  },
  {
   "cell_type": "code",
   "execution_count": null,
   "metadata": {},
   "outputs": [],
   "source": []
  }
 ],
 "metadata": {
  "kernelspec": {
   "display_name": "Python 3",
   "language": "python",
   "name": "python3"
  },
  "language_info": {
   "codemirror_mode": {
    "name": "ipython",
    "version": 3
   },
   "file_extension": ".py",
   "mimetype": "text/x-python",
   "name": "python",
   "nbconvert_exporter": "python",
   "pygments_lexer": "ipython3",
   "version": "3.8.5"
  }
 },
 "nbformat": 4,
 "nbformat_minor": 4
}
