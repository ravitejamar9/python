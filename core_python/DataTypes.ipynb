{
 "cells": [
  {
   "cell_type": "markdown",
   "metadata": {},
   "source": [
    "### int"
   ]
  },
  {
   "cell_type": "code",
   "execution_count": 19,
   "metadata": {},
   "outputs": [
    {
     "name": "stdout",
     "output_type": "stream",
     "text": [
      "<class 'int'>\n",
      "10\n",
      "15\n",
      "1250\n",
      "48879\n",
      "\n",
      "bin() is used to convert from any base to binar\n",
      "0b1111\n",
      "0b1010011\n",
      "0b10000\n",
      "\n",
      "oct() is used to convert form any base to octal\n",
      "0o7\n",
      "0o30\n",
      "0o5274\n",
      "\n",
      "hex() is used to convert form any base to hexa decimal\n",
      "0x7\n",
      "0x7b\n",
      "0x9c\n"
     ]
    }
   ],
   "source": [
    "# int data type is used to represent whole numbers\n",
    "\n",
    "# Decimal Form(Base-10)\n",
    "a=10\n",
    "print(type(a))\n",
    "print(a)\n",
    "# Binary Form(Base-2): prefix with 0B or 0b\n",
    "a=0B1111\n",
    "print(a)\n",
    "# Octa Form(Base-8): prefix with 0O or 0o\n",
    "a=0O2342\n",
    "print(a)\n",
    "# Hexa Decimal(Base-16): prefix with 0X or 0x\n",
    "a=0XBeef\n",
    "print(a)\n",
    "\n",
    "# Base Conversions\n",
    "print()\n",
    "print(\"bin() is used to convert from any base to binar\")\n",
    "print(bin(15))\n",
    "print(bin(0o123))\n",
    "print(bin(0X10))\n",
    "print()\n",
    "print(\"oct() is used to convert form any base to octal\")\n",
    "print(oct(0B111))\n",
    "print(oct(24))\n",
    "print(oct(0Xabc))\n",
    "print()\n",
    "print(\"hex() is used to convert form any base to hexa decimal\")\n",
    "print(hex(0B111))\n",
    "print(hex(123))\n",
    "print(hex(0O234))"
   ]
  },
  {
   "cell_type": "markdown",
   "metadata": {},
   "source": [
    "### float"
   ]
  },
  {
   "cell_type": "code",
   "execution_count": 18,
   "metadata": {},
   "outputs": [
    {
     "name": "stdout",
     "output_type": "stream",
     "text": [
      "<class 'float'>\n",
      "12.1232\n",
      "1200.0\n"
     ]
    }
   ],
   "source": [
    "# We can use float data type to represent floating point values\n",
    "# we can represent int values in decimal,binary,octal and hexa decimal forms.But we can represent\n",
    "# float values only by using decimal form\n",
    "f=12.1232\n",
    "print(type(f))\n",
    "print(f)\n",
    "f=1.2e3 # f=1.2E3\n",
    "type(f)\n",
    "print(f)"
   ]
  },
  {
   "cell_type": "markdown",
   "metadata": {},
   "source": [
    "### complex"
   ]
  },
  {
   "cell_type": "code",
   "execution_count": 22,
   "metadata": {},
   "outputs": [
    {
     "name": "stdout",
     "output_type": "stream",
     "text": [
      "<class 'complex'>\n",
      "(12+10j)\n",
      "12.0\n",
      "10.0\n"
     ]
    }
   ],
   "source": [
    "# complex numbers form: a+bj\n",
    "# a is real part and b is imaginary part\n",
    "a=12+10j\n",
    "print(type(a))\n",
    "print(a)\n",
    "# if use int value for real part we can use decimal,octal,hexa decimal form but\n",
    "# Imaginary part specified by decimal form only\n",
    "print(a.real)\n",
    "print(a.imag)"
   ]
  },
  {
   "cell_type": "markdown",
   "metadata": {},
   "source": [
    "### bool"
   ]
  },
  {
   "cell_type": "code",
   "execution_count": 24,
   "metadata": {},
   "outputs": [
    {
     "name": "stdout",
     "output_type": "stream",
     "text": [
      "True\n",
      "True\n"
     ]
    }
   ],
   "source": [
    "# True or False\n",
    "a= True\n",
    "type(a)\n",
    "print(a)\n",
    "b=10>5\n",
    "print(b)"
   ]
  },
  {
   "cell_type": "markdown",
   "metadata": {},
   "source": [
    "### str"
   ]
  },
  {
   "cell_type": "code",
   "execution_count": null,
   "metadata": {},
   "outputs": [],
   "source": [
    "# string is a sequence of characters enclosed within single or double quotes\n",
    "s1='ravi'\n",
    "s2=\"raviteja\"\n",
    "type(s1)\n"
   ]
  }
 ],
 "metadata": {
  "kernelspec": {
   "display_name": "Python 3",
   "language": "python",
   "name": "python3"
  },
  "language_info": {
   "codemirror_mode": {
    "name": "ipython",
    "version": 3
   },
   "file_extension": ".py",
   "mimetype": "text/x-python",
   "name": "python",
   "nbconvert_exporter": "python",
   "pygments_lexer": "ipython3",
   "version": "3.8.5"
  }
 },
 "nbformat": 4,
 "nbformat_minor": 4
}
