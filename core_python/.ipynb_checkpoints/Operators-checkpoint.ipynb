{
 "cells": [
  {
   "cell_type": "markdown",
   "metadata": {},
   "source": [
    "### Arithmetic Operators(+,-,*,/,%,//,**)"
   ]
  },
  {
   "cell_type": "code",
   "execution_count": 2,
   "metadata": {},
   "outputs": [
    {
     "name": "stdout",
     "output_type": "stream",
     "text": [
      "a+b= 12\n",
      "a-b= 8\n",
      "a*b= 20\n",
      "a/b= 5.0\n",
      "a%b= 0\n",
      "a//b= 5\n",
      "a**b= 100\n",
      "ravi10\n",
      "raviravi\n"
     ]
    }
   ],
   "source": [
    "# + --> Addition\n",
    "# - --> Subtraction\n",
    "# * --> Multiplication\n",
    "# / --> Division Operator\n",
    "# % --> Modulo Operator\n",
    "# // --> Floor Division Operator\n",
    "# ** --> Exponent Operator or Power Operator\n",
    "a=10\n",
    "b=2\n",
    "print('a+b=',a+b)\n",
    "print('a-b=',a-b)\n",
    "print('a*b=',a*b)\n",
    "print('a/b=',a/b)\n",
    "print('a%b=',a%b)\n",
    "print('a//b=',a//b)\n",
    "print('a**b=',a**b)\n",
    "# Note-1:\n",
    "# / operator always performs floating pint arithmatic.Hence it will always returns float value\n",
    "# // floor division can perform both floating point and integgral arithmatic.if arguments are int type then\n",
    "#    result is int type.If atleast one arguement is float type then result is float type\n",
    "# Note-2:\n",
    "# we can use +,* operators for str type also\n",
    "# + --> String Concatenation Operator\n",
    "#       if we want to use + operator for str type then compuslory both arguments should be str type only\n",
    "#       otherwise we will get errro\n",
    "#       \"ravi\"=10 must be str,not int\n",
    "print(\"ravi\"+\"10\")\n",
    "# * --> String Multiplication Operator\n",
    "#      if we use * for str type then compulsory both arguments should be int and str type\n",
    "#      2.5*\"ravi\" error\n",
    "print(2*\"ravi\")\n"
   ]
  },
  {
   "cell_type": "markdown",
   "metadata": {},
   "source": [
    "### Relational Operators(<,<=,>,>=)"
   ]
  },
  {
   "cell_type": "code",
   "execution_count": 2,
   "metadata": {},
   "outputs": [
    {
     "name": "stdout",
     "output_type": "stream",
     "text": [
      "a>b= False\n",
      "a>=b False\n",
      "a<b= True\n",
      "a<=b True\n",
      "relational operators on str\n",
      "a>b= True\n",
      "a>=b= True\n",
      "a<b= False\n",
      "a<=b= False\n",
      "realational operators on boolean values\n",
      "True\n",
      "True\n",
      "True\n",
      "Chaining of relational operators\n",
      "True\n",
      "True\n",
      "False\n"
     ]
    }
   ],
   "source": [
    "a=10\n",
    "b=20\n",
    "print(\"a>b=\",a>b)\n",
    "print(\"a>=b\",a>=b)\n",
    "print(\"a<b=\",a<b)\n",
    "print(\"a<=b\",a<=b)\n",
    "# we can apply relational operators for str types also\n",
    "print(\"relational operators on str\")\n",
    "a=\"ravi\"\n",
    "b=\"Ravi\"\n",
    "print(\"a>b=\",a>b)\n",
    "print(\"a>=b=\",a>=b)\n",
    "print(\"a<b=\",a<b)\n",
    "print(\"a<=b=\",a<=b)\n",
    "# we can apply relational operators for boolean types also\n",
    "print(\"realational operators on boolean values\")\n",
    "print(True>False)\n",
    "print(False<True)\n",
    "print(False<True)\n",
    "# Chaining of relational operators\n",
    "print(\"Chaining of relational operators\")\n",
    "print(10<20)\n",
    "print(20<30<40)\n",
    "print(10<20<30<40>45)"
   ]
  },
  {
   "cell_type": "markdown",
   "metadata": {},
   "source": [
    "### Equality Operators(==,!=)"
   ]
  },
  {
   "cell_type": "code",
   "execution_count": 5,
   "metadata": {},
   "outputs": [
    {
     "name": "stdout",
     "output_type": "stream",
     "text": [
      "10==20 False\n",
      "10!=20 True\n",
      "False==True False\n",
      "False\n",
      "Chaining concept of equality operators\n",
      "False\n",
      "True\n"
     ]
    }
   ],
   "source": [
    "# we can apply these operators for any type even for incompatible types also\n",
    "print(\"10==20\",10==20)\n",
    "print(\"10!=20\",10!=20)\n",
    "print(\"False==True\",False==True)\n",
    "print(\"str\"==10)\n",
    "print(\"Chaining concept of equality operators\")\n",
    "print(10==20==30==40)\n",
    "print(10==10==10)"
   ]
  },
  {
   "cell_type": "markdown",
   "metadata": {},
   "source": [
    "### Logical Operators(and,or,not)"
   ]
  },
  {
   "cell_type": "code",
   "execution_count": 10,
   "metadata": {},
   "outputs": [
    {
     "name": "stdout",
     "output_type": "stream",
     "text": [
      "20\n",
      "0\n",
      "10\n",
      "20\n",
      "False\n",
      "True\n",
      "-----------\n",
      "durgasoft\n",
      "\n",
      "\n",
      "durga\n",
      "True\n",
      "False\n"
     ]
    }
   ],
   "source": [
    "# x and y :\n",
    "# if x is evaluates to false return x otherwise return y\n",
    "# if first argument is zero then result is zero otherwise result y\n",
    "print(10 and 20)\n",
    "print(0 and 20)\n",
    "# x or y:\n",
    "# if x evaluates to True then result is x otherwise result is y\n",
    "print(10 or 20)\n",
    "print(0 or 20)\n",
    "# not x:\n",
    "# if x is evaluates to False then result is True otherwise False\n",
    "print(not 10)\n",
    "print(not 0)\n",
    "print(\"-----------\")\n",
    "print(\"durga\" and \"durgasoft\")\n",
    "print(\"\" and \"durga\")\n",
    "print(\"durga\" and \"\")\n",
    "print(\"\" or \"durga\")\n",
    "print(not \"\")\n",
    "print(not \"durga\")"
   ]
  },
  {
   "cell_type": "markdown",
   "metadata": {},
   "source": [
    "### Bitwise Operators(&,|,^,~,>>,<<)"
   ]
  },
  {
   "cell_type": "code",
   "execution_count": 21,
   "metadata": {},
   "outputs": [
    {
     "name": "stdout",
     "output_type": "stream",
     "text": [
      "4\n",
      "False\n",
      "7\n",
      "True\n"
     ]
    }
   ],
   "source": [
    "# these operators are applicable only for int and boolean type\n",
    "# Bitwise(&)--> if both bits are 1 then only result is 1 otherwise result 0\n",
    "print(\"4&5=\",4&5)\n",
    "print(\"True&False=\",True&False)\n",
    "# Bitwise(|)--> if atleast one bit is 1 then result is 1 otherwise result 0\n",
    "print(\"5|6\",5|6)\n",
    "print(\"True|False\",True|False)\n",
    "print(\"4^5\",4^5)\n",
    "print(\"~5=\",~5)"
   ]
  },
  {
   "cell_type": "code",
   "execution_count": null,
   "metadata": {},
   "outputs": [],
   "source": []
  }
 ],
 "metadata": {
  "kernelspec": {
   "display_name": "Python 3",
   "language": "python",
   "name": "python3"
  },
  "language_info": {
   "codemirror_mode": {
    "name": "ipython",
    "version": 3
   },
   "file_extension": ".py",
   "mimetype": "text/x-python",
   "name": "python",
   "nbconvert_exporter": "python",
   "pygments_lexer": "ipython3",
   "version": "3.8.5"
  }
 },
 "nbformat": 4,
 "nbformat_minor": 4
}
