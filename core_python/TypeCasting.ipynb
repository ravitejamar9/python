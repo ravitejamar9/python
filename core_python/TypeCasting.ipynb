{
 "cells": [
  {
   "cell_type": "code",
   "execution_count": 1,
   "metadata": {},
   "outputs": [],
   "source": [
    "# converting one type value to another type. This conversion is called Typecasting or Type Coersion\n",
    "# int()\n",
    "# float()\n",
    "# complex()\n",
    "# bool()\n",
    "# str()\n"
   ]
  },
  {
   "cell_type": "markdown",
   "metadata": {},
   "source": [
    "### int()"
   ]
  },
  {
   "cell_type": "code",
   "execution_count": 6,
   "metadata": {
    "scrolled": false
   },
   "outputs": [
    {
     "name": "stdout",
     "output_type": "stream",
     "text": [
      "123\n",
      "1\n",
      "10\n"
     ]
    }
   ],
   "source": [
    "# we can use this function to convert values from other types to int\n",
    "a=int(123.123);print(a)\n",
    "# int(10+23j) con't convert complex to int\n",
    "b=int(True);print(b)\n",
    "c=int('10');print(c)\n",
    "# int('10.5') int('ten') int('0B111')   con't string to int\n",
    "# we can convert from any type to int except complex type\n",
    "# if we want to convert string to int type, compulsary str should contain only integral value\n"
   ]
  },
  {
   "cell_type": "markdown",
   "metadata": {},
   "source": [
    "### float()"
   ]
  },
  {
   "cell_type": "code",
   "execution_count": 11,
   "metadata": {},
   "outputs": [
    {
     "name": "stdout",
     "output_type": "stream",
     "text": [
      "10.0\n",
      "1.0\n",
      "1.0\n",
      "12.35\n"
     ]
    }
   ],
   "source": [
    "# we can use float() fucntion to convert other type values to float type\n",
    "a=float(10);print(a)\n",
    "# float(10+12j) con't convert complex to float\n",
    "f=float(True); print(f)\n",
    "f=float(\"1\");print(f)\n",
    "f=float(\"12.35\");print(f)\n",
    "# float('ten') con't convert string to float\n",
    "# We can convert any type values to float except complex\n",
    "# if we want to convert str type to float type compulsary str should be either intergral or float with base-10\n"
   ]
  },
  {
   "cell_type": "markdown",
   "metadata": {},
   "source": [
    "### complex()"
   ]
  },
  {
   "cell_type": "code",
   "execution_count": 12,
   "metadata": {},
   "outputs": [
    {
     "name": "stdout",
     "output_type": "stream",
     "text": [
      "(10+0j)\n",
      "(10.23+0j)\n",
      "(1+0j)\n",
      "0j\n",
      "(10+0j)\n",
      "(10.5+0j)\n"
     ]
    }
   ],
   "source": [
    "## Form-1: complex(x)\n",
    "# we can convert x into complex with real part x and imaginary part 0\n",
    "c=complex(10); print(c)\n",
    "c=complex(10.23); print(c)\n",
    "c=complex(True); print(c)\n",
    "c=complex(False); print(c)\n",
    "c=complex('10'); print(c)\n",
    "c=complex('10.5'); print(c)\n"
   ]
  },
  {
   "cell_type": "code",
   "execution_count": 18,
   "metadata": {},
   "outputs": [
    {
     "name": "stdout",
     "output_type": "stream",
     "text": [
      "(10+20j)\n",
      "(10.23+12.12j)\n",
      "(1+0j)\n"
     ]
    }
   ],
   "source": [
    "# Form-2: complex(x,y)\n",
    "# we can convert x and y into complex number such that x will be real part and y will be imaginary part\n",
    "c=complex(10,20); print(c)\n",
    "c=complex(10.23, 12.12); print(c)\n",
    "c=complex(True,False); print(c)\n",
    "# c=complex(10,\"10\"); second con't be string and if first arg is string then second is not allow\n"
   ]
  },
  {
   "cell_type": "markdown",
   "metadata": {},
   "source": [
    "### bool()"
   ]
  },
  {
   "cell_type": "code",
   "execution_count": 20,
   "metadata": {},
   "outputs": [
    {
     "name": "stdout",
     "output_type": "stream",
     "text": [
      "False\n",
      "False\n",
      "False\n",
      "False\n",
      "True\n",
      "True\n",
      "True\n"
     ]
    }
   ],
   "source": [
    "# we can use this function to convert other type values to bool type\n",
    "b=bool(0); print(b)\n",
    "b=bool(0.0); print(b)\n",
    "b=bool(0+0j); print(b)\n",
    "b=bool(''); print(b)\n",
    "\n",
    "b=bool(1); print(b)\n",
    "b=bool(0.0001); print(b)\n",
    "b=bool(\"342\");print(b)\n",
    "# int: 0 means false | non-zero means true\n",
    "# float: total number is zero means"
   ]
  },
  {
   "cell_type": "markdown",
   "metadata": {},
   "source": [
    "### str()"
   ]
  },
  {
   "cell_type": "code",
   "execution_count": 1,
   "metadata": {},
   "outputs": [
    {
     "name": "stdout",
     "output_type": "stream",
     "text": [
      "10\n",
      "10.5\n",
      "(10+12j)\n",
      "True\n"
     ]
    }
   ],
   "source": [
    "# we can use this method to convert other type values to str type\n",
    "s=str(10); print(s)\n",
    "s=str(10.5); print(s)\n",
    "s=str(10+12j); print(s)\n",
    "s=str(True); print(s)"
   ]
  },
  {
   "cell_type": "code",
   "execution_count": null,
   "metadata": {},
   "outputs": [],
   "source": []
  }
 ],
 "metadata": {
  "kernelspec": {
   "display_name": "Python 3",
   "language": "python",
   "name": "python3"
  },
  "language_info": {
   "codemirror_mode": {
    "name": "ipython",
    "version": 3
   },
   "file_extension": ".py",
   "mimetype": "text/x-python",
   "name": "python",
   "nbconvert_exporter": "python",
   "pygments_lexer": "ipython3",
   "version": "3.8.5"
  }
 },
 "nbformat": 4,
 "nbformat_minor": 4
}
