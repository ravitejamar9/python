{
 "cells": [
  {
   "cell_type": "markdown",
   "metadata": {},
   "source": [
    "### Arithmetic Operators"
   ]
  },
  {
   "cell_type": "code",
   "execution_count": 2,
   "metadata": {},
   "outputs": [
    {
     "name": "stdout",
     "output_type": "stream",
     "text": [
      "a+b= 12\n",
      "a-b= 8\n",
      "a*b= 20\n",
      "a/b= 5.0\n",
      "a%b= 0\n",
      "a//b= 5\n",
      "a**b= 100\n",
      "ravi10\n",
      "raviravi\n"
     ]
    }
   ],
   "source": [
    "# + --> Addition\n",
    "# - --> Subtraction\n",
    "# * --> Multiplication\n",
    "# / --> Division Operator\n",
    "# % --> Modulo Operator\n",
    "# // --> Floor Division Operator\n",
    "# ** --> Exponent Operator or Power Operator\n",
    "a=10\n",
    "b=2\n",
    "print('a+b=',a+b)\n",
    "print('a-b=',a-b)\n",
    "print('a*b=',a*b)\n",
    "print('a/b=',a/b)\n",
    "print('a%b=',a%b)\n",
    "print('a//b=',a//b)\n",
    "print('a**b=',a**b)\n",
    "# Note-1:\n",
    "# / operator always performs floating pint arithmatic.Hence it will always returns float value\n",
    "# // floor division can perform both floating point and integgral arithmatic.if arguments are int type then\n",
    "#    result is int type.If atleast one arguement is float type then result is float type\n",
    "# Note-2:\n",
    "# we can use +,* operators for str type also\n",
    "# + --> String Concatenation Operator\n",
    "#       if we want to use + operator for str type then compuslory both arguments should be str type only\n",
    "#       otherwise we will get errro\n",
    "#       \"ravi\"=10 must be str,not int\n",
    "print(\"ravi\"+\"10\")\n",
    "# * --> String Multiplication Operator\n",
    "#      if we use * for str type then compulsory both arguments should be int and str type\n",
    "#      2.5*\"ravi\" error\n",
    "print(2*\"ravi\")\n"
   ]
  },
  {
   "cell_type": "code",
   "execution_count": null,
   "metadata": {},
   "outputs": [],
   "source": []
  }
 ],
 "metadata": {
  "kernelspec": {
   "display_name": "Python 3",
   "language": "python",
   "name": "python3"
  },
  "language_info": {
   "codemirror_mode": {
    "name": "ipython",
    "version": 3
   },
   "file_extension": ".py",
   "mimetype": "text/x-python",
   "name": "python",
   "nbconvert_exporter": "python",
   "pygments_lexer": "ipython3",
   "version": "3.8.5"
  }
 },
 "nbformat": 4,
 "nbformat_minor": 4
}
