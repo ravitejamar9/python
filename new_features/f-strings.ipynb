{
 "cells": [
  {
   "cell_type": "code",
   "execution_count": 4,
   "metadata": {},
   "outputs": [
    {
     "name": "stdout",
     "output_type": "stream",
     "text": [
      "Hello Raviteja, Good Evening\n",
      "Hello Raviteja, Good Evening\n"
     ]
    }
   ],
   "source": [
    "# Introduced in python 3.6 version\n",
    "# as the part of PEP 498\n",
    "name=\"Raviteja\"\n",
    "# normal approach\n",
    "s1='Hello %s, Good Evening'%name\n",
    "s2='Hello {}, Good Evening'.format(name)\n",
    "# f-string approach\n",
    "s3=f'Hello {name}, Good Evening'\n",
    "print(s3)\n",
    "print(f'Hello {name}, Good Evening')"
   ]
  },
  {
   "cell_type": "code",
   "execution_count": 8,
   "metadata": {},
   "outputs": [
    {
     "name": "stdout",
     "output_type": "stream",
     "text": [
      "Hello Raviteja,Your Salary is 100000 and Your Girl Friend Sunny is waiting\n"
     ]
    }
   ],
   "source": [
    "name=\"Raviteja\"\n",
    "salary=100000\n",
    "gf='Sunny'\n",
    "# normal approach\n",
    "s1='Hello %s,Your Salary is %d and Your Girl Friend %s is waiting'%(name,salary,gf)\n",
    "s2='Hello {},Your Salary is {} and Your Girl Friend {} is waiting'.format(name,salary,gf)\n",
    "# f-string approach\n",
    "s3=f'Hello {name},Your Salary is {salary} and Your Girl Friend {gf} is waiting'\n",
    "print(s3)"
   ]
  },
  {
   "cell_type": "code",
   "execution_count": 9,
   "metadata": {},
   "outputs": [
    {
     "name": "stdout",
     "output_type": "stream",
     "text": [
      "Hello Raviteja,Your Salary is 100000 and Your Girl Friend Sunny is waiting\n",
      "Hello Raviteja,Your Salary is 100000 and Your Girl Friend Sunny is waiting\n",
      "Hello Raviteja,Your Salary is 100000 and Your Girl Friend Sunny is waiting\n",
      "Hello Raviteja,Your Salary is 100000 and Your Girl Friend Sunny is waiting\n"
     ]
    }
   ],
   "source": [
    "# Note: we can use either f or F, we can use single quotes or double quotes or triple quotes also\n",
    "name=\"Raviteja\"\n",
    "salary=100000\n",
    "gf='Sunny'\n",
    "s1=f'Hello {name},Your Salary is {salary} and Your Girl Friend {gf} is waiting'\n",
    "s2=F\"Hello {name},Your Salary is {salary} and Your Girl Friend {gf} is waiting\"\n",
    "s3=F'''Hello {name},Your Salary is {salary} and Your Girl Friend {gf} is waiting'''\n",
    "s4=F\"\"\"Hello {name},Your Salary is {salary} and Your Girl Friend {gf} is waiting\"\"\"\n",
    "print(s1)\n",
    "print(s2)\n",
    "print(s3)\n",
    "print(s4)"
   ]
  },
  {
   "cell_type": "markdown",
   "metadata": {},
   "source": [
    "### f-string Performance"
   ]
  },
  {
   "cell_type": "code",
   "execution_count": 21,
   "metadata": {},
   "outputs": [
    {
     "name": "stdout",
     "output_type": "stream",
     "text": [
      "The Time taken: 0.09399232499981736\n",
      "The Time taken: 0.10581053800024165\n",
      "The Time taken: 0.0679109249999783\n"
     ]
    }
   ],
   "source": [
    "# String formatting techniques\n",
    "# 1.%-formatting\n",
    "# 2.str.format()\n",
    "# 3. f-string\n",
    "# By uisng timeit module, we can measure execution time of small coding snippets\n",
    "import timeit\n",
    "t=timeit.timeit('''name='Raviteja'\n",
    "salary=100000\n",
    "gf='Sunny'\n",
    "s='Hello %s,Your Salary is %d,Your Girl Friend %s is waiting'%(name,salary,gf)\n",
    "''',number=100000)\n",
    "print('The Time taken:',t)\n",
    "\n",
    "t1=timeit.timeit('''name='Raviteja'\n",
    "salary=100000\n",
    "gf='Sunny'\n",
    "s='Hello {},Your Salary is {},Your Girl Friend {} is waiting'.format(name,salary,gf)\n",
    "''',number=100000)\n",
    "print('The Time taken:',t1)\n",
    "\n",
    "t2=timeit.timeit('''name='Raviteja'\n",
    "salary=100000\n",
    "gf='Sunny'\n",
    "s=f'Hello {name},Your Salary is {salary},Your Girl Friend {gf} is waiting'\n",
    "''',number=100000)\n",
    "print('The Time taken:',t2)"
   ]
  },
  {
   "cell_type": "markdown",
   "metadata": {},
   "source": [
    "### Handling Quotes in f-string"
   ]
  },
  {
   "cell_type": "code",
   "execution_count": 26,
   "metadata": {
    "scrolled": true
   },
   "outputs": [
    {
     "name": "stdout",
     "output_type": "stream",
     "text": [
      "The symbol \" is good\n",
      "The symbol ' is good\n",
      "The symbol ' and \" are good\n",
      "The symbols ' and \" are good\n",
      "The classes of 'Python' by \"Raviteja\"\n"
     ]
    }
   ],
   "source": [
    "# The symbol \" is good\n",
    "print(f'The symbol \" is good')\n",
    "print(f\"The symbol ' is good\")\n",
    "print(f\"The symbol \\' and \\\" are good\")\n",
    "print(f'''The symbols ' and \" are good''')\n",
    "# The classes of 'python' by \"raviteja\" are too good\n",
    "name=\"Raviteja\"\n",
    "subject=\"Python\"\n",
    "print(f'''The classes of '{subject}' by \"{name}\"''')"
   ]
  },
  {
   "cell_type": "markdown",
   "metadata": {},
   "source": [
    "### Processing Dictionary data by f-strings"
   ]
  },
  {
   "cell_type": "code",
   "execution_count": 29,
   "metadata": {},
   "outputs": [
    {
     "name": "stdout",
     "output_type": "stream",
     "text": [
      "Hello Raviteja,You are the most luckiest boy as you haveThimmaiah,Akkamma and Sunny as family memebrs,You can learn Python very easily\n"
     ]
    }
   ],
   "source": [
    "student={\n",
    "    'name':'Raviteja',\n",
    "    'father_name':'Thimmaiah',\n",
    "    'mother_name':'Akkamma',\n",
    "    'gf_name':'Sunny',\n",
    "    'subject':'Python'\n",
    "}\n",
    "s=f\"Hello {student['name']},You are the most luckiest boy as you have{student['father_name']},{student['mother_name']} and {student['gf_name']} as family memebrs,You can learn {student['subject']} very easily\"\n",
    "print(s)"
   ]
  },
  {
   "cell_type": "markdown",
   "metadata": {},
   "source": [
    "### How to define multi line f-strings"
   ]
  },
  {
   "cell_type": "code",
   "execution_count": 30,
   "metadata": {},
   "outputs": [
    {
     "name": "stdout",
     "output_type": "stream",
     "text": [
      "\n",
      "Name:Raviteja,\n",
      "age:21,\n",
      "subject:Python\n",
      "\n"
     ]
    }
   ],
   "source": [
    "name=\"Raviteja\"\n",
    "age=21\n",
    "subject=\"Python\"\n",
    "msg=f'''\n",
    "Name:{name},\n",
    "age:{age},\n",
    "subject:{subject}\n",
    "'''\n",
    "print(msg)"
   ]
  },
  {
   "cell_type": "markdown",
   "metadata": {},
   "source": [
    "### python f-string calling a funtion"
   ]
  },
  {
   "cell_type": "code",
   "execution_count": 31,
   "metadata": {},
   "outputs": [
    {
     "name": "stdout",
     "output_type": "stream",
     "text": [
      "Faculty Name:DURGA\n"
     ]
    }
   ],
   "source": [
    "# we can call function directly from f-string\n",
    "name='Durga'\n",
    "print(f'Faculty Name:{name.upper()}')"
   ]
  },
  {
   "cell_type": "code",
   "execution_count": 33,
   "metadata": {},
   "outputs": [
    {
     "name": "stdout",
     "output_type": "stream",
     "text": [
      "Enter first num:2\n",
      "Enter second num:1\n",
      "The maximum of 2 and 1 is 2\n"
     ]
    }
   ],
   "source": [
    "def mymax(a,b):\n",
    "    return a if a>b else b\n",
    "a=int(input(\"Enter first num:\"))\n",
    "b=int(input(\"Enter second num:\"))\n",
    "print(f'The maximum of {a} and {b} is {mymax(a,b)}')"
   ]
  },
  {
   "cell_type": "markdown",
   "metadata": {},
   "source": [
    "### python f-strings for obects"
   ]
  },
  {
   "cell_type": "code",
   "execution_count": 38,
   "metadata": {},
   "outputs": [
    {
     "name": "stdout",
     "output_type": "stream",
     "text": [
      "Information--->Name:Raviteja,RollNo:101,Marks:99\n",
      "Information--->Name:Raviteja,RollNo:101,Marks:99\n",
      "Information--->Student Name:Raviteja,Student RollNo:101,Student Marks:99\n"
     ]
    }
   ],
   "source": [
    "# str.format() method will always call str() method only.But in f-strings,we can call either str() or repr()\n",
    "# based on your requirement\n",
    "class Student:\n",
    "    def __init__(self,name,rollno,marks):\n",
    "        self.name=name\n",
    "        self.rollno=rollno\n",
    "        self.marks=marks\n",
    "    def __str__(self):\n",
    "        return f'Name:{self.name},RollNo:{self.rollno},Marks:{self.marks}'\n",
    "    def __repr__(self):\n",
    "        return f'Student Name:{self.name},Student RollNo:{self.rollno},Student Marks:{self.marks}'\n",
    "s=Student(\"Raviteja\",101,99)\n",
    "print('Information--->{}'.format(s))\n",
    "print(f'Information--->{s}')\n",
    "print(f'Information--->{s!r}')"
   ]
  },
  {
   "cell_type": "markdown",
   "metadata": {},
   "source": [
    "### Expressions inside f-stirngs"
   ]
  },
  {
   "cell_type": "code",
   "execution_count": 40,
   "metadata": {},
   "outputs": [
    {
     "name": "stdout",
     "output_type": "stream",
     "text": [
      "The Result:66.66666666666667\n",
      "The Result:66.67\n",
      "The Result:610\n"
     ]
    }
   ],
   "source": [
    "# we can pass expressions inside f-string and these expressions will be evaluated at runtime\n",
    "a=10\n",
    "b=20\n",
    "c=30\n",
    "print(f'The Result:{10*20/3}')\n",
    "print(f'The Result:{10*20/3:.2f}')\n",
    "print(f'The Result:{a+b*c}')"
   ]
  },
  {
   "cell_type": "markdown",
   "metadata": {},
   "source": [
    "## How to use curly brances inside f-strings"
   ]
  },
  {
   "cell_type": "code",
   "execution_count": 43,
   "metadata": {},
   "outputs": [
    {
     "name": "stdout",
     "output_type": "stream",
     "text": [
      "{ is a special symbol\n",
      "{{ is a special symbol\n"
     ]
    }
   ],
   "source": [
    "# print(f'{ is a special symbol')\n",
    "# SyntaxError: f-string: expecting '}'\n",
    "\n",
    "print(f'{{ is a special symbol')\n",
    "print(f'{{{{ is a special symbol')"
   ]
  },
  {
   "cell_type": "code",
   "execution_count": 47,
   "metadata": {},
   "outputs": [
    {
     "name": "stdout",
     "output_type": "stream",
     "text": [
      "Name:Ravi\n",
      "Name:{name}\n",
      "Name:{Ravi}\n",
      "Name:{{name}}\n"
     ]
    }
   ],
   "source": [
    "name=\"Ravi\"\n",
    "print(f'Name:{name}')\n",
    "print(f'Name:{{name}}')\n",
    "print(f'Name:{{{name}}}')\n",
    "print(f'Name:{{{{name}}}}')"
   ]
  },
  {
   "cell_type": "markdown",
   "metadata": {},
   "source": [
    "### 3.8 verison enhancement related to f-string"
   ]
  },
  {
   "cell_type": "code",
   "execution_count": 49,
   "metadata": {},
   "outputs": [
    {
     "name": "stdout",
     "output_type": "stream",
     "text": [
      "x=10\n",
      "y=20\n",
      "name='Raviteja',salary=100000,gf='Sunny'\n"
     ]
    }
   ],
   "source": [
    "# we can use = symbol inside f-string for self documenting expressions and it is very useful for debugging\n",
    "x=10\n",
    "y=20\n",
    "print(f'{x=}')\n",
    "print(f'{y=}')\n",
    "name=\"Raviteja\"\n",
    "salary=100000\n",
    "gf=\"Sunny\"\n",
    "print(f'{name=},{salary=},{gf=}')\n"
   ]
  },
  {
   "cell_type": "markdown",
   "metadata": {},
   "source": [
    "### walrus operator(:=) inside f-string\n"
   ]
  },
  {
   "cell_type": "code",
   "execution_count": 53,
   "metadata": {},
   "outputs": [
    {
     "name": "stdout",
     "output_type": "stream",
     "text": [
      "The Area of circle with radius 20 is 1256.6370614359173\n",
      "The Area of circle with radius 20 is 1256.6370614359173\n",
      "The Area of circle with radius 20 is 1256.64\n"
     ]
    }
   ],
   "source": [
    "import math\n",
    "half_radius=10\n",
    "print(f'The Area of circle with radius {2*half_radius} is {math.pi*2*half_radius*2*half_radius}')\n",
    "print(f'The Area of circle with radius {(r:=2*half_radius)} is {math.pi*r*r}')\n",
    "print(f'The Area of circle with radius {(r:=2*half_radius)} is {math.pi*r*r:.2f}')"
   ]
  },
  {
   "cell_type": "code",
   "execution_count": null,
   "metadata": {},
   "outputs": [],
   "source": []
  }
 ],
 "metadata": {
  "kernelspec": {
   "display_name": "Python 3",
   "language": "python",
   "name": "python3"
  },
  "language_info": {
   "codemirror_mode": {
    "name": "ipython",
    "version": 3
   },
   "file_extension": ".py",
   "mimetype": "text/x-python",
   "name": "python",
   "nbconvert_exporter": "python",
   "pygments_lexer": "ipython3",
   "version": "3.8.5"
  }
 },
 "nbformat": 4,
 "nbformat_minor": 4
}
