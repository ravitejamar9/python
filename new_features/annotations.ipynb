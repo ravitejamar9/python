{
 "cells": [
  {
   "cell_type": "code",
   "execution_count": 6,
   "metadata": {},
   "outputs": [],
   "source": [
    "# Type Hints in python 3.5 version as the part of PEP 484\n",
    "# Python is dynamically typed programming language, where we are not allowed to define the type\n",
    "# Static type checking is possible because of type hints(PEP 484)\n",
    "# we can declare the type for variables,function arugments,return values\n"
   ]
  },
  {
   "cell_type": "code",
   "execution_count": 9,
   "metadata": {},
   "outputs": [
    {
     "name": "stdout",
     "output_type": "stream",
     "text": [
      "10\n",
      "Ravitej\n"
     ]
    }
   ],
   "source": [
    "# variable:type=value\n",
    "a:int=10\n",
    "print(a)\n",
    "name:str=\"Raviteja\"\n",
    "print(name)"
   ]
  },
  {
   "cell_type": "code",
   "execution_count": 15,
   "metadata": {
    "scrolled": true
   },
   "outputs": [
    {
     "name": "stdout",
     "output_type": "stream",
     "text": [
      "3\n",
      "2.0\n",
      "2.0\n"
     ]
    }
   ],
   "source": [
    "# function_nae(arg1:type,arg2:type) -> type_of_returned_value:\n",
    "#     body of the function\n",
    "def add(a:int,b:int) -> None:\n",
    "    print(a+b)\n",
    "add(1,2)\n",
    "\n",
    "def sub(a:float,b:float)->float:\n",
    "    return a-b if a>b else b-a\n",
    "value=sub(3.2,1.2)\n",
    "print(value)\n",
    "value=sub(1.2,3.2)\n",
    "print(value)"
   ]
  },
  {
   "cell_type": "code",
   "execution_count": null,
   "metadata": {},
   "outputs": [],
   "source": []
  }
 ],
 "metadata": {
  "kernelspec": {
   "display_name": "Python 3",
   "language": "python",
   "name": "python3"
  },
  "language_info": {
   "codemirror_mode": {
    "name": "ipython",
    "version": 3
   },
   "file_extension": ".py",
   "mimetype": "text/x-python",
   "name": "python",
   "nbconvert_exporter": "python",
   "pygments_lexer": "ipython3",
   "version": "3.8.5"
  }
 },
 "nbformat": 4,
 "nbformat_minor": 4
}
