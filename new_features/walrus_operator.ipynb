{
 "cells": [
  {
   "cell_type": "code",
   "execution_count": 22,
   "metadata": {},
   "outputs": [
    {
     "name": "stdout",
     "output_type": "stream",
     "text": [
      "Hello\n",
      "3\n"
     ]
    }
   ],
   "source": [
    "# Introduced in python 3.8 version\n",
    "# This operator released as part of PEP 572(Python Enhancement Proposals)\n",
    "# To assign values to the variables as the part of expression itself.\n",
    "# Also called as \"Assignment Expressions\"\n",
    "\n",
    "if (a:=3)>2:\n",
    "    print(\"Hello\")\n",
    "    print(a)\n",
    "# Main advantage of the walrus operator:\n",
    "# It won't do any new thing\n",
    "# It just reduces length of the code and readability will be improved\n"
   ]
  },
  {
   "cell_type": "markdown",
   "metadata": {},
   "source": [
    "### without walrus operator"
   ]
  },
  {
   "cell_type": "code",
   "execution_count": 4,
   "metadata": {},
   "outputs": [
    {
     "name": "stdout",
     "output_type": "stream",
     "text": [
      "List contains more than 3 elements\n",
      "The length of the list is: 6\n",
      "----------------------------\n",
      "List contains more than 5 elements\n",
      "The length of the list is: 6\n"
     ]
    }
   ],
   "source": [
    "l=[10,20,30,40,50,60]\n",
    "n=len(l)\n",
    "if n>3:\n",
    "    print(\"List contains more than 3 elements\")\n",
    "    print(\"The length of the list is:\",n)\n",
    "print(\"----------------------------\")\n",
    "if len(l)>5:\n",
    "    print(\"List contains more than 5 elements\")\n",
    "    print(\"The length of the list is:\",len(l))"
   ]
  },
  {
   "cell_type": "markdown",
   "metadata": {},
   "source": [
    "### with walrus operator"
   ]
  },
  {
   "cell_type": "code",
   "execution_count": 5,
   "metadata": {},
   "outputs": [
    {
     "name": "stdout",
     "output_type": "stream",
     "text": [
      "List contains more than 5 elements\n",
      "The length of the list is: 5\n"
     ]
    }
   ],
   "source": [
    "l=[10,20,30,40,50]\n",
    "if (n:=len(l))>3:\n",
    "    print(\"List contains more than 5 elements\")\n",
    "    print(\"The length of the list is:\",n)"
   ]
  },
  {
   "cell_type": "code",
   "execution_count": 12,
   "metadata": {},
   "outputs": [
    {
     "name": "stdout",
     "output_type": "stream",
     "text": [
      "Enter number:11\n",
      "11  is Odd number\n"
     ]
    }
   ],
   "source": [
    "if (num:=int(input(\"Enter number:\")))%2==0:\n",
    "        print(num,\" is Even number\")\n",
    "else:\n",
    "    print(num,\" is Odd number\")"
   ]
  },
  {
   "cell_type": "code",
   "execution_count": 15,
   "metadata": {},
   "outputs": [
    {
     "name": "stdout",
     "output_type": "stream",
     "text": [
      "Enter your favourite heroine:ravi\n",
      "Enter Your favourite heroine:teja\n",
      "Enter Your favourite heroine:me\n",
      "Enter Your favourite heroine:you\n",
      "Enter Your favourite heroine:done\n",
      "['ravi', 'teja', 'me', 'you']\n",
      "--------------------------\n",
      "Enter your favourite heroineravi\n",
      "Enter your favourite heroineteja\n",
      "Enter your favourite heroineyou\n",
      "Enter your favourite heroineme\n",
      "Enter your favourite heroinedone\n",
      "['ravi', 'teja', 'you', 'me']\n"
     ]
    }
   ],
   "source": [
    "# without walrus operator\n",
    "heroines=[]\n",
    "heroine=input(\"Enter your favourite heroine:\")\n",
    "while heroine!='done':\n",
    "    heroines.append(heroine)\n",
    "    heroine=input(\"Enter Your favourite heroine:\")\n",
    "print(heroines)\n",
    "print(\"--------------------------\")\n",
    "# with walrus operator\n",
    "heroines=[]\n",
    "while (heroine:=input(\"Enter your favourite heroine:\"))!='done':\n",
    "    heroines.append(heroine)\n",
    "print(heroines)"
   ]
  },
  {
   "cell_type": "code",
   "execution_count": 21,
   "metadata": {},
   "outputs": [
    {
     "name": "stdout",
     "output_type": "stream",
     "text": [
      "my name is raviteja\n",
      "i am from ananthapuramu\n",
      "now am studying mca final year in \n",
      "vidyanikethan college\n",
      "------------------\n",
      "my name is raviteja\n",
      "i am from ananthapuramu\n",
      "now am studying mca final year in \n",
      "vidyanikethan college"
     ]
    }
   ],
   "source": [
    "# read data line by line from abc.txt file and print to the console\n",
    "# without walrus operator\n",
    "f=open(\"abc.txt\")\n",
    "line=f.readline()\n",
    "while line!='':\n",
    "    print(line,end='')\n",
    "    line=f.readline()\n",
    "f.close()\n",
    "print(\"\\n------------------\")\n",
    "# with walrus operator\n",
    "f=open(\"abc.txt\")\n",
    "while (line:=f.readline())!='':\n",
    "        print(line,end='')\n",
    "f.close()"
   ]
  },
  {
   "cell_type": "code",
   "execution_count": null,
   "metadata": {},
   "outputs": [],
   "source": []
  }
 ],
 "metadata": {
  "kernelspec": {
   "display_name": "Python 3",
   "language": "python",
   "name": "python3"
  },
  "language_info": {
   "codemirror_mode": {
    "name": "ipython",
    "version": 3
   },
   "file_extension": ".py",
   "mimetype": "text/x-python",
   "name": "python",
   "nbconvert_exporter": "python",
   "pygments_lexer": "ipython3",
   "version": "3.8.5"
  }
 },
 "nbformat": 4,
 "nbformat_minor": 4
}
