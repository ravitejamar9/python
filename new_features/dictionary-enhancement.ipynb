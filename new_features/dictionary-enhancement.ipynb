{
 "cells": [
  {
   "cell_type": "markdown",
   "metadata": {},
   "source": [
    "### 3.7 version enhancements"
   ]
  },
  {
   "cell_type": "code",
   "execution_count": 8,
   "metadata": {},
   "outputs": [
    {
     "name": "stdout",
     "output_type": "stream",
     "text": [
      "[10, 20, 30, 40, 50]\n",
      "{40, 10, 50, 20, 30}\n",
      "{40, 10, 50, 20, 30}\n",
      "1--->one\n",
      "2--->two\n",
      "3--->three\n",
      "4--->four\n"
     ]
    }
   ],
   "source": [
    "# list and tuple ===> insertion order will be preserved\n",
    "# set and dict===> insertion order is not preserved\n",
    "l=[10,20,30,40,50]\n",
    "t=[10,20,30,40,50]\n",
    "s={10,20,30,40,50}\n",
    "print(t)\n",
    "print(s)\n",
    "print(s)\n",
    "# How to preserve insertion order in the dictionary?\n",
    "# By using orderedDict we can preserve insetion order \n",
    "# OrderedDict present in collections module\n",
    "from collections import OrderedDict\n",
    "d={1:\"one\",2:\"two\",3:\"three\",4:\"four\"}\n",
    "d1=OrderedDict(d)\n",
    "for k,v in d1.items():\n",
    "    print(f'{k}--->{v}')"
   ]
  },
  {
   "cell_type": "code",
   "execution_count": 9,
   "metadata": {},
   "outputs": [
    {
     "name": "stdout",
     "output_type": "stream",
     "text": [
      "{1: 'one', 2: 'second', 3: 'three', 4: 'four'}\n"
     ]
    }
   ],
   "source": [
    "# In 3.7 version normal dict functionality is replaced with OrderedDict functionality\n",
    "# Hence from 3.7 version onwards,insertion order is guarantee\n",
    "d={}\n",
    "d[1]='one'\n",
    "d[2]='second'\n",
    "d[3]='three'\n",
    "d[4]='four'\n",
    "print(d)"
   ]
  },
  {
   "cell_type": "markdown",
   "metadata": {},
   "source": [
    "### 3.8 version Enhancements"
   ]
  },
  {
   "cell_type": "code",
   "execution_count": 21,
   "metadata": {},
   "outputs": [
    {
     "name": "stdout",
     "output_type": "stream",
     "text": [
      "60 50 40 30 20 10 \n",
      "60 50 40 30 20 10 "
     ]
    }
   ],
   "source": [
    "# By using reversed() function we can do reversal of list and tuple also.\n",
    "l=[10,20,30,40,50,60]\n",
    "r=reversed(l)\n",
    "for num in list(r):\n",
    "    print(f'{num} ',end='')\n",
    "print()\n",
    "t=(10,20,30,40,50,60)\n",
    "r=reversed(t)\n",
    "for num in tuple(r):\n",
    "    print(f'{num} ',end='')"
   ]
  },
  {
   "cell_type": "code",
   "execution_count": 47,
   "metadata": {},
   "outputs": [
    {
     "name": "stdout",
     "output_type": "stream",
     "text": [
      "4 ---> four\n",
      "3 ---> three\n",
      "2 ---> two\n",
      "1 ---> one\n"
     ]
    }
   ],
   "source": [
    "# By using revered() function we can't reverse set and dict upto 3.7 but In version 3.8 we can use.\n",
    "d={1:\"one\",2:\"two\",3:\"three\",4:\"four\"}\n",
    "d1=reversed(d)\n",
    "for k in d1:\n",
    "    print(k,'--->',d[k])"
   ]
  },
  {
   "cell_type": "markdown",
   "metadata": {},
   "source": [
    "### 3.9 version enhancement"
   ]
  },
  {
   "cell_type": "code",
   "execution_count": 52,
   "metadata": {},
   "outputs": [
    {
     "name": "stdout",
     "output_type": "stream",
     "text": [
      "{100: 'Sunny', 200: 'Bunny', 300: 'kunny'}\n",
      "{300: 'munny', 400: 'Tunny'}\n",
      "{100: 'Sunny', 200: 'Bunny', 300: 'munny', 400: 'Tunny'}\n"
     ]
    }
   ],
   "source": [
    "# merging 2 dictionaries into third dictionary\n",
    "# merge operation before 3.9 version\n",
    "d1={100:\"Sunny\",200:\"Bunny\",300:\"kunny\"}\n",
    "d2={300:\"munny\",400:\"Tunny\"}\n",
    "d3={**d1,**d2}\n",
    "print(d1)\n",
    "print(d2)\n",
    "print(d3)"
   ]
  },
  {
   "cell_type": "code",
   "execution_count": 53,
   "metadata": {},
   "outputs": [
    {
     "ename": "TypeError",
     "evalue": "unsupported operand type(s) for |: 'dict' and 'dict'",
     "output_type": "error",
     "traceback": [
      "\u001b[0;31m---------------------------------------------------------------------------\u001b[0m",
      "\u001b[0;31mTypeError\u001b[0m                                 Traceback (most recent call last)",
      "\u001b[0;32m<ipython-input-53-24aaf4943e5e>\u001b[0m in \u001b[0;36m<module>\u001b[0;34m\u001b[0m\n\u001b[1;32m      1\u001b[0m \u001b[0;31m# merge operation in 3.9 version as the part of PEP 584\u001b[0m\u001b[0;34m\u001b[0m\u001b[0;34m\u001b[0m\u001b[0;34m\u001b[0m\u001b[0m\n\u001b[0;32m----> 2\u001b[0;31m \u001b[0md3\u001b[0m\u001b[0;34m=\u001b[0m\u001b[0md1\u001b[0m \u001b[0;34m|\u001b[0m \u001b[0md2\u001b[0m\u001b[0;34m\u001b[0m\u001b[0;34m\u001b[0m\u001b[0m\n\u001b[0m\u001b[1;32m      3\u001b[0m \u001b[0mprint\u001b[0m\u001b[0;34m(\u001b[0m\u001b[0md1\u001b[0m\u001b[0;34m)\u001b[0m\u001b[0;34m\u001b[0m\u001b[0;34m\u001b[0m\u001b[0m\n\u001b[1;32m      4\u001b[0m \u001b[0mprint\u001b[0m\u001b[0;34m(\u001b[0m\u001b[0md2\u001b[0m\u001b[0;34m)\u001b[0m\u001b[0;34m\u001b[0m\u001b[0;34m\u001b[0m\u001b[0m\n\u001b[1;32m      5\u001b[0m \u001b[0mprint\u001b[0m\u001b[0;34m(\u001b[0m\u001b[0md3\u001b[0m\u001b[0;34m)\u001b[0m\u001b[0;34m\u001b[0m\u001b[0;34m\u001b[0m\u001b[0m\n",
      "\u001b[0;31mTypeError\u001b[0m: unsupported operand type(s) for |: 'dict' and 'dict'"
     ]
    }
   ],
   "source": [
    "# merge operation in 3.9 version as the part of PEP 584\n",
    "d3=d1 | d2\n",
    "print(d1)\n",
    "print(d2)\n",
    "print(d3)"
   ]
  },
  {
   "cell_type": "code",
   "execution_count": 56,
   "metadata": {},
   "outputs": [
    {
     "name": "stdout",
     "output_type": "stream",
     "text": [
      "{100: 'Sunny', 200: 'Bunny', 300: 'munny', 400: 'Tunny'}\n",
      "{300: 'munny', 400: 'Tunny'}\n"
     ]
    }
   ],
   "source": [
    "# update an existing dictionary before 3.9 version\n",
    "d1={100:\"Sunny\",200:\"Bunny\",300:\"kunny\"}\n",
    "d2={300:\"munny\",400:\"Tunny\"}\n",
    "d1.update(d2)\n",
    "print(d1)\n",
    "print(d2)"
   ]
  },
  {
   "cell_type": "code",
   "execution_count": 55,
   "metadata": {},
   "outputs": [
    {
     "ename": "TypeError",
     "evalue": "unsupported operand type(s) for |=: 'dict' and 'dict'",
     "output_type": "error",
     "traceback": [
      "\u001b[0;31m---------------------------------------------------------------------------\u001b[0m",
      "\u001b[0;31mTypeError\u001b[0m                                 Traceback (most recent call last)",
      "\u001b[0;32m<ipython-input-55-f88cf051833a>\u001b[0m in \u001b[0;36m<module>\u001b[0;34m\u001b[0m\n\u001b[1;32m      1\u001b[0m \u001b[0;31m# update an existing dictionary after 3.9 version\u001b[0m\u001b[0;34m\u001b[0m\u001b[0;34m\u001b[0m\u001b[0;34m\u001b[0m\u001b[0m\n\u001b[0;32m----> 2\u001b[0;31m \u001b[0md1\u001b[0m \u001b[0;34m|=\u001b[0m \u001b[0md2\u001b[0m\u001b[0;34m\u001b[0m\u001b[0;34m\u001b[0m\u001b[0m\n\u001b[0m\u001b[1;32m      3\u001b[0m \u001b[0mprint\u001b[0m\u001b[0;34m(\u001b[0m\u001b[0md1\u001b[0m\u001b[0;34m)\u001b[0m\u001b[0;34m\u001b[0m\u001b[0;34m\u001b[0m\u001b[0m\n\u001b[1;32m      4\u001b[0m \u001b[0mprint\u001b[0m\u001b[0;34m(\u001b[0m\u001b[0md2\u001b[0m\u001b[0;34m)\u001b[0m\u001b[0;34m\u001b[0m\u001b[0;34m\u001b[0m\u001b[0m\n",
      "\u001b[0;31mTypeError\u001b[0m: unsupported operand type(s) for |=: 'dict' and 'dict'"
     ]
    }
   ],
   "source": [
    "# update an existing dictionary after 3.9 version\n",
    "d1 |= d2\n",
    "print(d1)\n",
    "print(d2)"
   ]
  },
  {
   "cell_type": "code",
   "execution_count": null,
   "metadata": {},
   "outputs": [],
   "source": []
  }
 ],
 "metadata": {
  "kernelspec": {
   "display_name": "Python 3",
   "language": "python",
   "name": "python3"
  },
  "language_info": {
   "codemirror_mode": {
    "name": "ipython",
    "version": 3
   },
   "file_extension": ".py",
   "mimetype": "text/x-python",
   "name": "python",
   "nbconvert_exporter": "python",
   "pygments_lexer": "ipython3",
   "version": "3.8.5"
  }
 },
 "nbformat": 4,
 "nbformat_minor": 4
}
