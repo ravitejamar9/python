{
 "cells": [
  {
   "cell_type": "code",
   "execution_count": 2,
   "metadata": {},
   "outputs": [
    {
     "name": "stdout",
     "output_type": "stream",
     "text": [
      "<class 'str'>\n"
     ]
    }
   ],
   "source": [
    "# Any sequence of characters with in either single or double quotes is considered as a String\n",
    "s=\"Ravi\"\n",
    "s='Ravi'\n",
    "print(type(s))"
   ]
  },
  {
   "cell_type": "code",
   "execution_count": 7,
   "metadata": {},
   "outputs": [
    {
     "name": "stdout",
     "output_type": "stream",
     "text": [
      "This is ' Single quote symbol\n",
      "this is ' single quote symbol'\n",
      "This is \" double quote symbol\n",
      "The \"Python notes\" y 'durga' is very helpful\n",
      "The \"Python notes\" by \"durga is very helpful\"\n"
     ]
    }
   ],
   "source": [
    "# Define multi-line string literals\n",
    "# s='This is 'single quote symbol''\n",
    "print(\"This is \\' Single quote symbol\")\n",
    "print(\"this is ' single quote symbol'\")\n",
    "print('This is \" double quote symbol')\n",
    "print('The \\\"Python notes\\\" y \\'durga\\' is very helpful')\n",
    "print('''The \"Python notes\" by \"durga is very helpful\"''')"
   ]
  },
  {
   "cell_type": "markdown",
   "metadata": {},
   "source": [
    "### Accessing characters of a string"
   ]
  },
  {
   "cell_type": "code",
   "execution_count": 10,
   "metadata": {},
   "outputs": [
    {
     "name": "stdout",
     "output_type": "stream",
     "text": [
      "R\n",
      "i\n"
     ]
    }
   ],
   "source": [
    "# Accessing characters by using Index\n",
    "# python support both +ve and -ve index\n",
    "# +ve-->Forward Direction -ve-->Backward Direction\n",
    "s=\"Ravi teja\"\n",
    "print(s[0])\n",
    "print(s[3])\n",
    "# print(s[12]) IndexError:string index out of range\n",
    "# if we are trying to access characters of a string with out of range index \n",
    "# then we will get error saying:IndexError\n"
   ]
  },
  {
   "cell_type": "code",
   "execution_count": 11,
   "metadata": {},
   "outputs": [
    {
     "name": "stdout",
     "output_type": "stream",
     "text": [
      "Enter some string:raviteja\n",
      "The character at positive index 0 and negetive index -8 is r\n",
      "The character at positive index 1 and negetive index -7 is a\n",
      "The character at positive index 2 and negetive index -6 is v\n",
      "The character at positive index 3 and negetive index -5 is i\n",
      "The character at positive index 4 and negetive index -4 is t\n",
      "The character at positive index 5 and negetive index -3 is e\n",
      "The character at positive index 6 and negetive index -2 is j\n",
      "The character at positive index 7 and negetive index -1 is a\n"
     ]
    }
   ],
   "source": [
    "# program to print characters of string at +ve index and -ve index\n",
    "s=input(\"Enter some string:\")\n",
    "i=0\n",
    "for x in s:\n",
    "    print(\"The character at positive index {} and negetive index {} is {}\".format(i,i-len(s),x))\n",
    "    i+=1"
   ]
  },
  {
   "cell_type": "code",
   "execution_count": 21,
   "metadata": {},
   "outputs": [
    {
     "name": "stdout",
     "output_type": "stream",
     "text": [
      "earnin\n",
      "earnin\n",
      "eri\n",
      "Learnin\n",
      "g python is very very easy!!!\n",
      "Learning python is very very easy!!!\n",
      "!!!ysae yrev yrev si nohtyp gninraeL\n"
     ]
    }
   ],
   "source": [
    "# Accessing characters by using slice operator\n",
    "# syntax:s[begin:end:step]\n",
    "# begin->from where we have to consider slice\n",
    "# end->we have to terminate the slice at endindex-1\n",
    "# step->increment value\n",
    "s=\"Learning python is very very easy!!!\"\n",
    "print(s[1:7:1])\n",
    "print(s[1:7])\n",
    "print(s[1:7:2])\n",
    "print(s[:7])\n",
    "print(s[7:])\n",
    "print(s[::])\n",
    "print(s[::-1])"
   ]
  },
  {
   "cell_type": "code",
   "execution_count": 5,
   "metadata": {},
   "outputs": [
    {
     "name": "stdout",
     "output_type": "stream",
     "text": [
      "bdf\n",
      "abcdefghij\n",
      "jihgfedcba\n",
      "\n",
      "abcdefghij\n",
      "gfedc\n",
      "gec\n"
     ]
    }
   ],
   "source": [
    "# Behaviour of slice operator\n",
    "# step value can be either +ve or -ve\n",
    "# +ve then it should be forward direction(left to right) and we have to consider begin to end-1\n",
    "# -ve then it should be backward direction(right to left) and we have to consider begin to end+1\n",
    "# backward direction if end value is -1 then result==empty\n",
    "# forward direction if end value is 0 then result==empty\n",
    "s=\"abcdefghij\"\n",
    "# 10 9 8 7 6 5 4 3 2 1\n",
    "# a  b c d e f g j i j\n",
    "# 0  1 2 3 4 5 6 7 8 9\n",
    "print(s[1:6:2])\n",
    "print(s[::])\n",
    "print(s[::-1])\n",
    "print(s[3:7:-1])\n",
    "print(s[0:10000:1])\n",
    "print(s[-4:1:-1])\n",
    "print(s[-4:1:-2])\n"
   ]
  },
  {
   "cell_type": "markdown",
   "metadata": {},
   "source": [
    "### Mathematical Operators for string"
   ]
  },
  {
   "cell_type": "code",
   "execution_count": 8,
   "metadata": {},
   "outputs": [
    {
     "name": "stdout",
     "output_type": "stream",
     "text": [
      "raviteja\n",
      "teja teja\n",
      "ravi ravi ravi ravi ravi ravi ravi ravi ravi ravi \n",
      "8\n"
     ]
    }
   ],
   "source": [
    "# + operator for concatenation: to use + operator for strings compulsory both arguments should be str type\n",
    "print(\"ravi\"+\"teja\")\n",
    "print(\"teja\",\"teja\")\n",
    "# * operator for repetition: compuslory one is str and another one is int\n",
    "print(\"ravi \"*10)\n",
    "\n",
    "# len() built in function to find the number of characters present in the string\n",
    "print(len(\"raviteja\"))"
   ]
  },
  {
   "cell_type": "code",
   "execution_count": 11,
   "metadata": {},
   "outputs": [
    {
     "name": "stdout",
     "output_type": "stream",
     "text": [
      "Learning python is very easy\n",
      "ysae yrev si nohtyp gninraeL"
     ]
    }
   ],
   "source": [
    "# program to access each chatacter of string in forward and backward directon by using while loop\n",
    "s=\"Learning python is very easy\"\n",
    "n=len(s)\n",
    "i=0\n",
    "while i<n:\n",
    "    print(s[i],end='')\n",
    "    i=i+1\n",
    "print()\n",
    "i=-1\n",
    "while i>=-n:\n",
    "    print(s[i],end='')\n",
    "    i=i-1\n",
    "    \n",
    "    \n"
   ]
  },
  {
   "cell_type": "code",
   "execution_count": 12,
   "metadata": {},
   "outputs": [
    {
     "name": "stdout",
     "output_type": "stream",
     "text": [
      "Learning python is very easy\n",
      "ysae yrev si nohtyp gninraeL"
     ]
    }
   ],
   "source": [
    "s=\"Learning python is very easy\"\n",
    "for char in s[::]:\n",
    "    print(char,end='')\n",
    "print()\n",
    "for char in s[::-1]:\n",
    "    print(char,end='')"
   ]
  },
  {
   "cell_type": "markdown",
   "metadata": {},
   "source": [
    "### Checking Membership"
   ]
  },
  {
   "cell_type": "code",
   "execution_count": 13,
   "metadata": {},
   "outputs": [
    {
     "name": "stdout",
     "output_type": "stream",
     "text": [
      "Enter Main string:raviteja\n",
      "Enter Sub string:ra\n",
      "ra is found in main string\n"
     ]
    }
   ],
   "source": [
    "s=input(\"Enter Main string:\")\n",
    "subs=input(\"Enter Sub string:\")\n",
    "if subs in s:\n",
    "    print(subs,\"is found in main string\")\n",
    "else:\n",
    "    print(subs,\"is not found in main string\")"
   ]
  },
  {
   "cell_type": "code",
   "execution_count": 15,
   "metadata": {},
   "outputs": [
    {
     "name": "stdout",
     "output_type": "stream",
     "text": [
      "Enter first stringravi\n",
      "Enter second stringRavi\n",
      "s1 great\n"
     ]
    }
   ],
   "source": [
    "# comparision operators(<,<=,>,>=,==,!=)\n",
    "# comparision will be performed based on alphabetical order\n",
    "s1=input(\"Enter first string\")\n",
    "s2=input(\"Enter second string\")\n",
    "if s1==s2:\n",
    "    print(\"Both are equal\")\n",
    "elif s1<s2:\n",
    "    print(\"s2 great\")\n",
    "else:\n",
    "    print(\"s1 great\")"
   ]
  },
  {
   "cell_type": "markdown",
   "metadata": {},
   "source": [
    "### Removing spaces from the string"
   ]
  },
  {
   "cell_type": "code",
   "execution_count": 18,
   "metadata": {},
   "outputs": [
    {
     "name": "stdout",
     "output_type": "stream",
     "text": [
      "Enter your city name: hyderabad \n",
      "rstrip-->  hyderabad!!!!!\n",
      "lstrip--> hyderabad !!!!!\n",
      "strip--> hyderabad!!!!!\n"
     ]
    }
   ],
   "source": [
    "# rstrip() -> to remove spaces at right hand side\n",
    "# lstrip() -> to remove spaces at left hand side\n",
    "# strip() -> remove spaces both sides\n",
    "city=input(\"Enter your city name:\")\n",
    "print(\"rstrip-->\",city.rstrip()+'!!!!!')\n",
    "print(\"lstrip-->\",city.lstrip()+'!!!!!')\n",
    "print(\"strip-->\",city.strip()+'!!!!!')"
   ]
  },
  {
   "cell_type": "markdown",
   "metadata": {},
   "source": [
    "### Finding substrings"
   ]
  },
  {
   "cell_type": "code",
   "execution_count": 24,
   "metadata": {},
   "outputs": [
    {
     "name": "stdout",
     "output_type": "stream",
     "text": [
      "9\n",
      "2\n",
      "-1\n",
      "16\n",
      "9\n",
      "2\n",
      "25\n",
      "-1\n"
     ]
    }
   ],
   "source": [
    "# s.find(substring)--> first occurence of the given substring.if it is not available return -1\n",
    "s=\"Learning python is very easy\"\n",
    "print(s.find(\"python\"))\n",
    "print(s.find(\"a\"))\n",
    "print(s.find(\"java\"))\n",
    "print(s.rfind(\"is\"))\n",
    "print(s.rfind(\"python\"))\n",
    "# s.find(substring,begin,end) --> it will always search from begin index to end-1 index\n",
    "print(s.find(\"a\"))\n",
    "print(s.find(\"a\",10))\n",
    "print(s.find(\"z\",7,15))"
   ]
  },
  {
   "cell_type": "code",
   "execution_count": null,
   "metadata": {},
   "outputs": [],
   "source": [
    "# s.index"
   ]
  }
 ],
 "metadata": {
  "kernelspec": {
   "display_name": "Python 3",
   "language": "python",
   "name": "python3"
  },
  "language_info": {
   "codemirror_mode": {
    "name": "ipython",
    "version": 3
   },
   "file_extension": ".py",
   "mimetype": "text/x-python",
   "name": "python",
   "nbconvert_exporter": "python",
   "pygments_lexer": "ipython3",
   "version": "3.8.5"
  }
 },
 "nbformat": 4,
 "nbformat_minor": 4
}
