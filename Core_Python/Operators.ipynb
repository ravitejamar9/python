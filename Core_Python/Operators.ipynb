{
 "cells": [
  {
   "cell_type": "markdown",
   "metadata": {},
   "source": [
    "### Arithmetic Operators(+,-,*,/,%,//,**)"
   ]
  },
  {
   "cell_type": "code",
   "execution_count": 2,
   "metadata": {},
   "outputs": [
    {
     "name": "stdout",
     "output_type": "stream",
     "text": [
      "a+b= 12\n",
      "a-b= 8\n",
      "a*b= 20\n",
      "a/b= 5.0\n",
      "a%b= 0\n",
      "a//b= 5\n",
      "a**b= 100\n",
      "ravi10\n",
      "raviravi\n"
     ]
    }
   ],
   "source": [
    "# + --> Addition\n",
    "# - --> Subtraction\n",
    "# * --> Multiplication\n",
    "# / --> Division Operator\n",
    "# % --> Modulo Operator\n",
    "# // --> Floor Division Operator\n",
    "# ** --> Exponent Operator or Power Operator\n",
    "a=10\n",
    "b=2\n",
    "print('a+b=',a+b)\n",
    "print('a-b=',a-b)\n",
    "print('a*b=',a*b)\n",
    "print('a/b=',a/b)\n",
    "print('a%b=',a%b)\n",
    "print('a//b=',a//b)\n",
    "print('a**b=',a**b)\n",
    "# Note-1:\n",
    "# / operator always performs floating pint arithmatic.Hence it will always returns float value\n",
    "# // floor division can perform both floating point and integgral arithmatic.if arguments are int type then\n",
    "#    result is int type.If atleast one arguement is float type then result is float type\n",
    "# Note-2:\n",
    "# we can use +,* operators for str type also\n",
    "# + --> String Concatenation Operator\n",
    "#       if we want to use + operator for str type then compuslory both arguments should be str type only\n",
    "#       otherwise we will get errro\n",
    "#       \"ravi\"=10 must be str,not int\n",
    "print(\"ravi\"+\"10\")\n",
    "# * --> String Multiplication Operator\n",
    "#      if we use * for str type then compulsory both arguments should be int and str type\n",
    "#      2.5*\"ravi\" error\n",
    "print(2*\"ravi\")\n"
   ]
  },
  {
   "cell_type": "markdown",
   "metadata": {},
   "source": [
    "### Relational Operators(<,<=,>,>=)"
   ]
  },
  {
   "cell_type": "code",
   "execution_count": 2,
   "metadata": {},
   "outputs": [
    {
     "name": "stdout",
     "output_type": "stream",
     "text": [
      "a>b= False\n",
      "a>=b False\n",
      "a<b= True\n",
      "a<=b True\n",
      "relational operators on str\n",
      "a>b= True\n",
      "a>=b= True\n",
      "a<b= False\n",
      "a<=b= False\n",
      "realational operators on boolean values\n",
      "True\n",
      "True\n",
      "True\n",
      "Chaining of relational operators\n",
      "True\n",
      "True\n",
      "False\n"
     ]
    }
   ],
   "source": [
    "a=10\n",
    "b=20\n",
    "print(\"a>b=\",a>b)\n",
    "print(\"a>=b\",a>=b)\n",
    "print(\"a<b=\",a<b)\n",
    "print(\"a<=b\",a<=b)\n",
    "# we can apply relational operators for str types also\n",
    "print(\"relational operators on str\")\n",
    "a=\"ravi\"\n",
    "b=\"Ravi\"\n",
    "print(\"a>b=\",a>b)\n",
    "print(\"a>=b=\",a>=b)\n",
    "print(\"a<b=\",a<b)\n",
    "print(\"a<=b=\",a<=b)\n",
    "# we can apply relational operators for boolean types also\n",
    "print(\"realational operators on boolean values\")\n",
    "print(True>False)\n",
    "print(False<True)\n",
    "print(False<True)\n",
    "# Chaining of relational operators\n",
    "print(\"Chaining of relational operators\")\n",
    "print(10<20)\n",
    "print(20<30<40)\n",
    "print(10<20<30<40>45)"
   ]
  },
  {
   "cell_type": "markdown",
   "metadata": {},
   "source": [
    "### Equality Operators(==,!=)"
   ]
  },
  {
   "cell_type": "code",
   "execution_count": 5,
   "metadata": {},
   "outputs": [
    {
     "name": "stdout",
     "output_type": "stream",
     "text": [
      "10==20 False\n",
      "10!=20 True\n",
      "False==True False\n",
      "False\n",
      "Chaining concept of equality operators\n",
      "False\n",
      "True\n"
     ]
    }
   ],
   "source": [
    "# we can apply these operators for any type even for incompatible types also\n",
    "print(\"10==20\",10==20)\n",
    "print(\"10!=20\",10!=20)\n",
    "print(\"False==True\",False==True)\n",
    "print(\"str\"==10)\n",
    "print(\"Chaining concept of equality operators\")\n",
    "print(10==20==30==40)\n",
    "print(10==10==10)"
   ]
  },
  {
   "cell_type": "markdown",
   "metadata": {},
   "source": [
    "### Logical Operators(and,or,not)"
   ]
  },
  {
   "cell_type": "code",
   "execution_count": 10,
   "metadata": {},
   "outputs": [
    {
     "name": "stdout",
     "output_type": "stream",
     "text": [
      "20\n",
      "0\n",
      "10\n",
      "20\n",
      "False\n",
      "True\n",
      "-----------\n",
      "durgasoft\n",
      "\n",
      "\n",
      "durga\n",
      "True\n",
      "False\n"
     ]
    }
   ],
   "source": [
    "# x and y :\n",
    "# if x is evaluates to false return x otherwise return y\n",
    "# if first argument is zero then result is zero otherwise result y\n",
    "print(10 and 20)\n",
    "print(0 and 20)\n",
    "# x or y:\n",
    "# if x evaluates to True then result is x otherwise result is y\n",
    "print(10 or 20)\n",
    "print(0 or 20)\n",
    "# not x:\n",
    "# if x is evaluates to False then result is True otherwise False\n",
    "print(not 10)\n",
    "print(not 0)\n",
    "print(\"-----------\")\n",
    "print(\"durga\" and \"durgasoft\")\n",
    "print(\"\" and \"durga\")\n",
    "print(\"durga\" and \"\")\n",
    "print(\"\" or \"durga\")\n",
    "print(not \"\")\n",
    "print(not \"durga\")"
   ]
  },
  {
   "cell_type": "markdown",
   "metadata": {},
   "source": [
    "### Bitwise Operators(&,|,^,~,>>,<<)"
   ]
  },
  {
   "cell_type": "code",
   "execution_count": 3,
   "metadata": {},
   "outputs": [
    {
     "name": "stdout",
     "output_type": "stream",
     "text": [
      "4&5= 4\n",
      "True&False= False\n",
      "5|6= 7\n",
      "True|False= True\n",
      "4^5= 1\n",
      "3^4= 7\n",
      "~5= -6\n"
     ]
    }
   ],
   "source": [
    "# these operators are applicable only for int and boolean type\n",
    "# Bitwise(&)--> if both bits are 1 then only result is 1 otherwise result 0\n",
    "print(\"4&5=\",4&5)\n",
    "print(\"True&False=\",True&False)\n",
    "# Bitwise(|)--> if atleast one bit is 1 then result is 1 otherwise result 0\n",
    "print(\"5|6=\",5|6)\n",
    "print(\"True|False=\",True|False)\n",
    "# if bits are different then only result is 1 otherwise result 0\n",
    "print(\"4^5=\",4^5)\n",
    "print(\"3^4=\",3^4)\n",
    "# bitwise complement operator that is 1 means 0 and 0 means 1\n",
    "print(\"~5=\",~5)"
   ]
  },
  {
   "cell_type": "markdown",
   "metadata": {},
   "source": [
    "### Shift Operators(<<,>>)"
   ]
  },
  {
   "cell_type": "code",
   "execution_count": 6,
   "metadata": {},
   "outputs": [
    {
     "name": "stdout",
     "output_type": "stream",
     "text": [
      "40\n",
      "2\n"
     ]
    }
   ],
   "source": [
    "# << Left Shift Operator\n",
    "# After shifting the empty cells we have to fill zero\n",
    "print(10<<2)\n",
    "# >> Right Shift Operator\n",
    "# After shifting the empty cells we have to fill with sign bit\n",
    "print(10>>2)"
   ]
  },
  {
   "cell_type": "markdown",
   "metadata": {},
   "source": [
    "### Assignment Operators(+=,-+,*=,/=,%=,//=,**=,&=,|=,^=,>>=,<<=)"
   ]
  },
  {
   "cell_type": "code",
   "execution_count": 8,
   "metadata": {},
   "outputs": [
    {
     "name": "stdout",
     "output_type": "stream",
     "text": [
      "10\n",
      "20\n"
     ]
    }
   ],
   "source": [
    "# we can use assignment operator to assign value to the variable\n",
    "a=10\n",
    "print(a)\n",
    "# we can combine assignment operator with some other operator to form compound assignment operator\n",
    "a+=10\n",
    "print(a)\n"
   ]
  },
  {
   "cell_type": "code",
   "execution_count": 11,
   "metadata": {},
   "outputs": [
    {
     "name": "stdout",
     "output_type": "stream",
     "text": [
      "0\n"
     ]
    }
   ],
   "source": [
    "x=10\n",
    "x&=5\n",
    "print(x)"
   ]
  },
  {
   "cell_type": "markdown",
   "metadata": {},
   "source": [
    "### Ternary Operator OR Conditional Operator"
   ]
  },
  {
   "cell_type": "code",
   "execution_count": 12,
   "metadata": {},
   "outputs": [
    {
     "name": "stdout",
     "output_type": "stream",
     "text": [
      "20\n"
     ]
    }
   ],
   "source": [
    "# x=firstValue if condition else secondValue\n",
    "# if condition is True then firstValue will be considered else secondValue will be considered\n",
    "a,b=10,20\n",
    "x=b if a<b else a\n",
    "print(x)"
   ]
  },
  {
   "cell_type": "code",
   "execution_count": 13,
   "metadata": {},
   "outputs": [
    {
     "name": "stdout",
     "output_type": "stream",
     "text": [
      "Enter First Number:12\n",
      "Enter Second Number:12\n",
      "Minimum Value: 12\n"
     ]
    }
   ],
   "source": [
    "a=int(input(\"Enter First Number:\"))\n",
    "b=int(input(\"Enter Second Number:\"))\n",
    "min = a if a<b else b\n",
    "print(\"Minimum Value:\",min)"
   ]
  },
  {
   "cell_type": "code",
   "execution_count": 20,
   "metadata": {},
   "outputs": [
    {
     "name": "stdout",
     "output_type": "stream",
     "text": [
      "12 12 33\n",
      "Maximum Vaule: 12\n"
     ]
    }
   ],
   "source": [
    "a,b,c=[int(x) for x in input().split()]\n",
    "max=a if a<b and a<c else b if b<c else c\n",
    "print(\"Maximum Vaule:\",max)"
   ]
  },
  {
   "cell_type": "code",
   "execution_count": 21,
   "metadata": {},
   "outputs": [
    {
     "name": "stdout",
     "output_type": "stream",
     "text": [
      "12 21\n",
      "first number is less than second number\n"
     ]
    }
   ],
   "source": [
    "a,b=[int(x) for x in input().split()]\n",
    "print(\"both numbers are equal\" if a==b else \"first number is less than second number\" if a<b else \"first number is smaller than second number\")"
   ]
  },
  {
   "cell_type": "markdown",
   "metadata": {},
   "source": [
    "### Special Operators"
   ]
  },
  {
   "cell_type": "code",
   "execution_count": 48,
   "metadata": {},
   "outputs": [
    {
     "name": "stdout",
     "output_type": "stream",
     "text": [
      "True\n",
      "False\n",
      "139942588849712 139942588849712\n",
      "False\n",
      "139942588858048\n",
      "139942588857728\n",
      "False\n",
      "True\n",
      "True\n"
     ]
    }
   ],
   "source": [
    "# Identity Operators(is,is not)\n",
    "# we can use Identity operators for address comparision there two identity operators are available\n",
    "# if r1 is r2 returns True if both r1 and r2 are pointing to the same object\n",
    "a=256\n",
    "b=256\n",
    "print(a is b)\n",
    "x=257\n",
    "y=257\n",
    "print(x is y)\n",
    "# r1 is not r2 returns True if r1 and r2 are not pointing to the same object\n",
    "a=\"durga\"\n",
    "b=\"durga\"\n",
    "print(id(a),id(b))\n",
    "print(a is not b)\n",
    "# Difference between address comparision and refference comparision\n",
    "list1=['one','two','three']\n",
    "list2=['one','two','three']\n",
    "print(id(list1))\n",
    "print(id(list2))\n",
    "print(list1 is list2)\n",
    "print(list1 is not list2)\n",
    "print(list1==list2)"
   ]
  },
  {
   "cell_type": "code",
   "execution_count": 50,
   "metadata": {},
   "outputs": [
    {
     "name": "stdout",
     "output_type": "stream",
     "text": [
      "True\n",
      "False\n",
      "True\n",
      "False\n"
     ]
    }
   ],
   "source": [
    "# Membership Operators\n",
    "# we can use membership operators to check whether the given object present in the given collection.\n",
    "# in operator\n",
    "x='hello learning python is very easy'\n",
    "print('h' in x)\n",
    "print('z' in x)\n",
    "list1=[\"sunny\",\"bunny\",\"chinny\",\"pinny\"]\n",
    "print(\"sunny\" in list1)\n",
    "print(\"tunny\" in list1)"
   ]
  },
  {
   "cell_type": "markdown",
   "metadata": {},
   "source": [
    "### Operator Precedence"
   ]
  },
  {
   "cell_type": "code",
   "execution_count": 53,
   "metadata": {},
   "outputs": [
    {
     "name": "stdout",
     "output_type": "stream",
     "text": [
      "100.0\n",
      "100.0\n",
      "15.0\n"
     ]
    }
   ],
   "source": [
    "# if multiple operators present then which operator will be evaluated first is decided by operator precedence\n",
    "# () -> parathesis\n",
    "# ** -> exponential Operator\n",
    "# ~,- -> Bitwise complement operator,unary munus Operator\n",
    "# *,/,%,// -> Multiplication,division,modulo,Floor division\n",
    "# +,- -> Addition,Subtraction\n",
    "# <<,>> -> Left and Right Shift\n",
    "# &,^,| -> Bitwise and Xor or\n",
    "# >,>=,<.<=,==,!= -> Relational operators\n",
    "# =,+=,-=,*=... -> Assignment Operators\n",
    "# is,is not -> Identity Operators\n",
    "# in,not in -> Membership Operators\n",
    "# not -> Logical not\n",
    "# and -> logical and\n",
    "# or -> logical or\n",
    "a=30\n",
    "b=20\n",
    "c=10\n",
    "d=5\n",
    "print((a+b)*c/d)\n",
    "print((a+b)*(c/d))\n",
    "print(3/2*4+3+(10/5)**3-2)"
   ]
  },
  {
   "cell_type": "code",
   "execution_count": null,
   "metadata": {},
   "outputs": [],
   "source": []
  }
 ],
 "metadata": {
  "kernelspec": {
   "display_name": "Python 3",
   "language": "python",
   "name": "python3"
  },
  "language_info": {
   "codemirror_mode": {
    "name": "ipython",
    "version": 3
   },
   "file_extension": ".py",
   "mimetype": "text/x-python",
   "name": "python",
   "nbconvert_exporter": "python",
   "pygments_lexer": "ipython3",
   "version": "3.8.5"
  }
 },
 "nbformat": 4,
 "nbformat_minor": 4
}
