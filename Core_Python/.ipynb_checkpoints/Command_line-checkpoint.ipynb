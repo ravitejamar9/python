{
 "cells": [
  {
   "cell_type": "code",
   "execution_count": 4,
   "metadata": {},
   "outputs": [
    {
     "name": "stdout",
     "output_type": "stream",
     "text": [
      "<type 'list'>\r\n"
     ]
    }
   ],
   "source": [
    "# argv is not array it is list. It is available in sys module\n",
    "# The arguments which are passing at the time of execution are called command line arguments\n",
    "\n",
    "# from sys import argv\n",
    "# print(type(argv))\n",
    "\n",
    "!python cmd1.py"
   ]
  },
  {
   "cell_type": "code",
   "execution_count": 2,
   "metadata": {},
   "outputs": [
    {
     "name": "stdout",
     "output_type": "stream",
     "text": [
      "('The Number of cmd line arguments:', 4)\r\n",
      "('The List of command line arguments:', ['demo.py', '10', '20', '30'])\r\n",
      "command Line arguments one by one:\r\n",
      "demo.py\r\n",
      "10\r\n",
      "20\r\n",
      "30\r\n"
     ]
    }
   ],
   "source": [
    "# from sys import argv\n",
    "# print(\"The Number of cmd line arguments:\",len(argv))\n",
    "# print(\"The List of command line arguments:\",argv)\n",
    "# print(\"command Line arguments one by one:\")\n",
    "# for x in argv:\n",
    "#     print(x)\n",
    "\n",
    "!python demo.py 10 20 30"
   ]
  },
  {
   "cell_type": "code",
   "execution_count": 9,
   "metadata": {},
   "outputs": [
    {
     "name": "stdout",
     "output_type": "stream",
     "text": [
      "Ravi\n",
      "Ravi Teja\n",
      "Ravi Teja\n"
     ]
    }
   ],
   "source": [
    "# Note-1:Usually space is seperator between command line arguments. if our command line argument itself\n",
    "# contains space then we should enclose within double quotes or single quotes\n",
    "\n",
    "# from sys import argv\n",
    "# print(argv[1])\n",
    "!python cmd4.py Ravi Teja\n",
    "!python cmd4.py 'Ravi Teja'\n",
    "!python cmd4.py \"Ravi Teja\""
   ]
  },
  {
   "cell_type": "code",
   "execution_count": 13,
   "metadata": {},
   "outputs": [
    {
     "name": "stdout",
     "output_type": "stream",
     "text": [
      "1020\r\n",
      "30\r\n"
     ]
    }
   ],
   "source": [
    "# Note-2:Whithin the python program command line arguments are available in the string form.\n",
    "# Based on our requirement we can convert into corresponding type by using type casting method.\n",
    "\n",
    "# from sys import argv\n",
    "# print(argv[1]+argv[2])\n",
    "# print(int(argv[1])+int(argv[2]))\n",
    "\n",
    "!python cmd5.py 10 20"
   ]
  },
  {
   "cell_type": "code",
   "execution_count": 15,
   "metadata": {},
   "outputs": [
    {
     "name": "stdout",
     "output_type": "stream",
     "text": [
      "Traceback (most recent call last):\r\n",
      "  File \"cmd6.py\", line 2, in <module>\r\n",
      "    print(argv[100])\r\n",
      "IndexError: list index out of range\r\n"
     ]
    }
   ],
   "source": [
    "# if we are trying to access command line arguments with out of range index we will get error\n",
    "\n",
    "#from sys import argv\n",
    "# print(argv[100])\n",
    "\n",
    "# !python cmd6.py  # IndexError"
   ]
  },
  {
   "cell_type": "code",
   "execution_count": null,
   "metadata": {},
   "outputs": [],
   "source": []
  }
 ],
 "metadata": {
  "kernelspec": {
   "display_name": "Python 3",
   "language": "python",
   "name": "python3"
  },
  "language_info": {
   "codemirror_mode": {
    "name": "ipython",
    "version": 3
   },
   "file_extension": ".py",
   "mimetype": "text/x-python",
   "name": "python",
   "nbconvert_exporter": "python",
   "pygments_lexer": "ipython3",
   "version": "3.8.5"
  }
 },
 "nbformat": 4,
 "nbformat_minor": 4
}
