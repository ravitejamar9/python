{
 "cells": [
  {
   "cell_type": "markdown",
   "metadata": {},
   "source": [
    "### int"
   ]
  },
  {
   "cell_type": "code",
   "execution_count": 19,
   "metadata": {},
   "outputs": [
    {
     "name": "stdout",
     "output_type": "stream",
     "text": [
      "<class 'int'>\n",
      "10\n",
      "15\n",
      "1250\n",
      "48879\n",
      "\n",
      "bin() is used to convert from any base to binar\n",
      "0b1111\n",
      "0b1010011\n",
      "0b10000\n",
      "\n",
      "oct() is used to convert form any base to octal\n",
      "0o7\n",
      "0o30\n",
      "0o5274\n",
      "\n",
      "hex() is used to convert form any base to hexa decimal\n",
      "0x7\n",
      "0x7b\n",
      "0x9c\n"
     ]
    }
   ],
   "source": [
    "# int data type is used to represent whole numbers\n",
    "\n",
    "# Decimal Form(Base-10)\n",
    "a=10\n",
    "print(type(a))\n",
    "print(a)\n",
    "# Binary Form(Base-2): prefix with 0B or 0b\n",
    "a=0B1111\n",
    "print(a)\n",
    "# Octa Form(Base-8): prefix with 0O or 0o\n",
    "a=0O2342\n",
    "print(a)\n",
    "# Hexa Decimal(Base-16): prefix with 0X or 0x\n",
    "a=0XBeef\n",
    "print(a)\n",
    "\n",
    "# Base Conversions\n",
    "print()\n",
    "print(\"bin() is used to convert from any base to binar\")\n",
    "print(bin(15))\n",
    "print(bin(0o123))\n",
    "print(bin(0X10))\n",
    "print()\n",
    "print(\"oct() is used to convert form any base to octal\")\n",
    "print(oct(0B111))\n",
    "print(oct(24))\n",
    "print(oct(0Xabc))\n",
    "print()\n",
    "print(\"hex() is used to convert form any base to hexa decimal\")\n",
    "print(hex(0B111))\n",
    "print(hex(123))\n",
    "print(hex(0O234))"
   ]
  },
  {
   "cell_type": "markdown",
   "metadata": {},
   "source": [
    "### float"
   ]
  },
  {
   "cell_type": "code",
   "execution_count": 18,
   "metadata": {},
   "outputs": [
    {
     "name": "stdout",
     "output_type": "stream",
     "text": [
      "<class 'float'>\n",
      "12.1232\n",
      "1200.0\n"
     ]
    }
   ],
   "source": [
    "# We can use float data type to represent floating point values\n",
    "# we can represent int values in decimal,binary,octal and hexa decimal forms.But we can represent\n",
    "# float values only by using decimal form\n",
    "f=12.1232\n",
    "print(type(f))\n",
    "print(f)\n",
    "f=1.2e3 # f=1.2E3\n",
    "type(f)\n",
    "print(f)"
   ]
  },
  {
   "cell_type": "markdown",
   "metadata": {},
   "source": [
    "### complex"
   ]
  },
  {
   "cell_type": "code",
   "execution_count": 22,
   "metadata": {},
   "outputs": [
    {
     "name": "stdout",
     "output_type": "stream",
     "text": [
      "<class 'complex'>\n",
      "(12+10j)\n",
      "12.0\n",
      "10.0\n"
     ]
    }
   ],
   "source": [
    "# complex numbers form: a+bj\n",
    "# a is real part and b is imaginary part\n",
    "a=12+10j\n",
    "print(type(a))\n",
    "print(a)\n",
    "# if use int value for real part we can use decimal,octal,hexa decimal form but\n",
    "# Imaginary part specified by decimal form only\n",
    "print(a.real)\n",
    "print(a.imag)"
   ]
  },
  {
   "cell_type": "markdown",
   "metadata": {},
   "source": [
    "### bool"
   ]
  },
  {
   "cell_type": "code",
   "execution_count": 24,
   "metadata": {},
   "outputs": [
    {
     "name": "stdout",
     "output_type": "stream",
     "text": [
      "True\n",
      "True\n"
     ]
    }
   ],
   "source": [
    "# True or False\n",
    "a= True\n",
    "type(a)\n",
    "print(a)\n",
    "b=10>5\n",
    "print(b)"
   ]
  },
  {
   "cell_type": "markdown",
   "metadata": {},
   "source": [
    "### str"
   ]
  },
  {
   "cell_type": "code",
   "execution_count": 26,
   "metadata": {},
   "outputs": [
    {
     "name": "stdout",
     "output_type": "stream",
     "text": [
      "<class 'str'>\n",
      "ravi\n"
     ]
    }
   ],
   "source": [
    "# string is a sequence of characters enclosed within single or double quotes\n",
    "s1='ravi'\n",
    "s2=\"raviteja\"\n",
    "print(type(s1))\n",
    "print(s1)"
   ]
  },
  {
   "cell_type": "markdown",
   "metadata": {},
   "source": [
    "### bytes"
   ]
  },
  {
   "cell_type": "code",
   "execution_count": 6,
   "metadata": {},
   "outputs": [
    {
     "name": "stdout",
     "output_type": "stream",
     "text": [
      "<class 'bytes'>\n",
      "10\n",
      "20\n",
      "30\n",
      "40\n"
     ]
    }
   ],
   "source": [
    "# bytes data type represents a group of bye numbers like an array\n",
    "x=[10,20,30,40]\n",
    "print\n",
    "barray=bytes(x)\n",
    "print(type(barray))\n",
    "for i in barray:\n",
    "    print(i)\n",
    "# The only allowed values for byte type are 0 to 256. By mistake if we are try to provide any other values\n",
    "# we will get erro\n",
    "\n",
    "# Once we creates bytes data type value,we cannot change its values,otherwise will get TypeError\n",
    "# b=bytes([12,12,2323])   we will get error"
   ]
  },
  {
   "cell_type": "markdown",
   "metadata": {},
   "source": [
    "### bytearray"
   ]
  },
  {
   "cell_type": "code",
   "execution_count": 11,
   "metadata": {},
   "outputs": [
    {
     "name": "stdout",
     "output_type": "stream",
     "text": [
      "10 20 30 40 \n",
      "10 20 30 40 "
     ]
    }
   ],
   "source": [
    "# bytearray is exactly same as bytes data type except that its elements can be modified\n",
    "x=[10,20,30,40]\n",
    "var=bytearray(x)\n",
    "for value in var:\n",
    "    print(value,end=' ')\n",
    "print()\n",
    "x[2]=111\n",
    "for value in var:\n",
    "    print(value,end=' ')"
   ]
  },
  {
   "cell_type": "markdown",
   "metadata": {},
   "source": [
    "### list"
   ]
  },
  {
   "cell_type": "code",
   "execution_count": 19,
   "metadata": {},
   "outputs": [
    {
     "name": "stdout",
     "output_type": "stream",
     "text": [
      "<class 'list'>\n",
      "10 True str 10.4 (10+23j) \n",
      "True str 10.4 (10+23j) new True str 10.4 (10+23j) new "
     ]
    }
   ],
   "source": [
    "# If we want to represent a group of values as a single entity then we go with list data type\n",
    "#    Insertion order is preserved\n",
    "#    Heterogeneous Objects are allowed\n",
    "#    Duplicates are allowed\n",
    "#    Growable in nature\n",
    "#    Values should be enclosed within squared brackets\n",
    "list=[10,True,'str',10.4,10+23j]\n",
    "print(type(list))\n",
    "for value in list:\n",
    "    print(value,end=' ')\n",
    "\n",
    "print()\n",
    "list.append('new')\n",
    "list.remove(10)\n",
    "list=list*2\n",
    "for value in list:\n",
    "    print(value,end=' ')\n"
   ]
  },
  {
   "cell_type": "markdown",
   "metadata": {},
   "source": [
    "### tuple"
   ]
  },
  {
   "cell_type": "code",
   "execution_count": 18,
   "metadata": {},
   "outputs": [
    {
     "name": "stdout",
     "output_type": "stream",
     "text": [
      "<class 'tuple'>\n"
     ]
    }
   ],
   "source": [
    "# tuples data type is exactly same as list data type except that is immutable\n",
    "# represented within parenthesis\n",
    "t=(10,20,30,40)\n",
    "print(type(t))\n",
    "# this is readonly version of list"
   ]
  },
  {
   "cell_type": "markdown",
   "metadata": {},
   "source": [
    "### range"
   ]
  },
  {
   "cell_type": "code",
   "execution_count": 27,
   "metadata": {},
   "outputs": [
    {
     "name": "stdout",
     "output_type": "stream",
     "text": [
      "<class 'range'>\n",
      "0 1 2 3 4 5 6 7 8 9 \n",
      "10 11 12 13 14 15 16 17 18 19 \n",
      "10 12 14 16 18 "
     ]
    }
   ],
   "source": [
    "# range data type represents a sequence of numbers\n",
    "# the elements present in range data type are not modifiable so it is immutable\n",
    "# form-1: range(x)\n",
    "r=range(10)\n",
    "print(type(r))\n",
    "for i in r:\n",
    "    print(i,end=' ')\n",
    "# form-2: range(x,y)\n",
    "print()\n",
    "r=range(10,20)\n",
    "for i in r:\n",
    "    print(i,end=' ')\n",
    "# form-3: range(x,y,step)\n",
    "print()\n",
    "r=range(10,20,2)\n",
    "for i in r:\n",
    "    print(i,end=' ')"
   ]
  },
  {
   "cell_type": "markdown",
   "metadata": {},
   "source": [
    "### set"
   ]
  },
  {
   "cell_type": "code",
   "execution_count": 26,
   "metadata": {},
   "outputs": [
    {
     "name": "stdout",
     "output_type": "stream",
     "text": [
      "<class 'set'>\n",
      "{10, 100.23, 'ravi'}\n"
     ]
    }
   ],
   "source": [
    "# if we want to represent a group of values without duplicates where order is not important \n",
    "# then we should go for set data type\n",
    "#    Insertion order is not preserved\n",
    "#    Duplicates are not allowed\n",
    "#    Heterogeneous objects are allowed\n",
    "#    Index concept is not applicable\n",
    "#    It is mutable collection\n",
    "#    Growable in nature\n",
    "s={10,\"ravi\",100.23}\n",
    "print(type(s))\n",
    "print(s)"
   ]
  },
  {
   "cell_type": "markdown",
   "metadata": {},
   "source": [
    "### frozenset"
   ]
  },
  {
   "cell_type": "code",
   "execution_count": 28,
   "metadata": {},
   "outputs": [
    {
     "name": "stdout",
     "output_type": "stream",
     "text": [
      "<class 'frozenset'>\n",
      "{10, 20, 30}\n"
     ]
    }
   ],
   "source": [
    "# it is exactly same as set except that it is immutable\n",
    "# Hence we cannot use add or remove functions\n",
    "s={10,20,10,30}\n",
    "fs=frozenset(s)\n",
    "print(type(fs))\n",
    "print(s)"
   ]
  },
  {
   "cell_type": "markdown",
   "metadata": {},
   "source": [
    "### dict"
   ]
  },
  {
   "cell_type": "code",
   "execution_count": 29,
   "metadata": {},
   "outputs": [
    {
     "name": "stdout",
     "output_type": "stream",
     "text": [
      "<class 'dict'>\n",
      "{101: 'sunny', 102: 'teja', 103: 'you'}\n"
     ]
    }
   ],
   "source": [
    "# if we want to represent a group of values as key-value pair then we should go with dict data type\n",
    "d={101:'ravi',102:'teja',103:'you'}\n",
    "d[101]='sunny'\n",
    "print(type(d))\n",
    "print(d)"
   ]
  },
  {
   "cell_type": "markdown",
   "metadata": {},
   "source": [
    "### None"
   ]
  },
  {
   "cell_type": "code",
   "execution_count": 30,
   "metadata": {},
   "outputs": [
    {
     "name": "stdout",
     "output_type": "stream",
     "text": [
      "None\n"
     ]
    }
   ],
   "source": [
    "# None means nothing or No value\n",
    "# if the value is not available,then to handle such type of cases None introduction\n",
    "def m1():\n",
    "    pass\n",
    "print(m1())"
   ]
  },
  {
   "cell_type": "markdown",
   "metadata": {},
   "source": [
    "### Escape Characters"
   ]
  },
  {
   "cell_type": "code",
   "execution_count": 37,
   "metadata": {},
   "outputs": [
    {
     "name": "stdout",
     "output_type": "stream",
     "text": [
      "durga\n",
      "software\n",
      "durga software is \"leading company\"\n",
      "it' me..minimy\n"
     ]
    }
   ],
   "source": [
    "# \\n --> New Line\n",
    "# \\t --> Horizontal Tab\n",
    "# \\r --> carriage return\n",
    "# \\' --> single quotes\n",
    "# \\\" --> Double quotes\n",
    "# \\\\ --> Back slash Symbol\n",
    "s=\"durga\\nsoftware\"\n",
    "print(s)\n",
    "s='durga software is \"leading company\"'\n",
    "print(s)\n",
    "s=\"it\\' me..minimy\"\n",
    "print(s)"
   ]
  }
 ],
 "metadata": {
  "kernelspec": {
   "display_name": "Python 3",
   "language": "python",
   "name": "python3"
  },
  "language_info": {
   "codemirror_mode": {
    "name": "ipython",
    "version": 3
   },
   "file_extension": ".py",
   "mimetype": "text/x-python",
   "name": "python",
   "nbconvert_exporter": "python",
   "pygments_lexer": "ipython3",
   "version": "3.8.5"
  }
 },
 "nbformat": 4,
 "nbformat_minor": 4
}
