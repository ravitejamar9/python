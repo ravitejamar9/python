{
 "cells": [
  {
   "cell_type": "markdown",
   "metadata": {},
   "source": [
    "## Conditional Statements"
   ]
  },
  {
   "cell_type": "markdown",
   "metadata": {},
   "source": [
    "### if"
   ]
  },
  {
   "cell_type": "code",
   "execution_count": 2,
   "metadata": {},
   "outputs": [
    {
     "name": "stdout",
     "output_type": "stream",
     "text": [
      "Enter Name:ravi\n",
      "Hello ravi good morning\n",
      "How are You!!!\n"
     ]
    }
   ],
   "source": [
    "# if condition: statement\n",
    "#          OR\n",
    "# if condition:\n",
    "#     statement-1\n",
    "#     statement-2\n",
    "#     statement-3\n",
    "\n",
    "#if condition is true then statements will be executed\n",
    "name=input(\"Enter Name:\")\n",
    "if name=='ravi':\n",
    "    print(\"Hello ravi good morning\")\n",
    "print(\"How are You!!!\")"
   ]
  },
  {
   "cell_type": "markdown",
   "metadata": {},
   "source": [
    "### if-else"
   ]
  },
  {
   "cell_type": "code",
   "execution_count": 4,
   "metadata": {},
   "outputs": [
    {
     "name": "stdout",
     "output_type": "stream",
     "text": [
      "Enter nameravii\n",
      "Sorry who is this\n",
      "byee\n"
     ]
    }
   ],
   "source": [
    "# if condition:\n",
    "#     Action-1\n",
    "# else:\n",
    "#     Action-2\n",
    "# if condition is true action-1 will be executed otherwise action-2 will be executed\n",
    "name=input(\"Enter name\")\n",
    "if name=='ravi':\n",
    "    print(\"Welcome ravi, good morning\")\n",
    "else:\n",
    "    print(\"Sorry who is this\")\n",
    "print(\"byee\")"
   ]
  },
  {
   "cell_type": "markdown",
   "metadata": {},
   "source": [
    "### if-elif-else"
   ]
  },
  {
   "cell_type": "code",
   "execution_count": 9,
   "metadata": {},
   "outputs": [
    {
     "name": "stdout",
     "output_type": "stream",
     "text": [
      "Enter your favaourite BrandKF\n",
      "It is not that much kick\n"
     ]
    }
   ],
   "source": [
    "# if condition-1:\n",
    "#     Action-1\n",
    "# elif condition-2:\n",
    "#     Action-2\n",
    "# elif condition-3:\n",
    "#     Action-3\n",
    "# else:\n",
    "#     default action\n",
    "# Based condition the corresponding action will be executed\n",
    "brand=input(\"Enter your favaourite Brand:\")\n",
    "if brand=='RC':\n",
    "    print(\"It is childrens brand\")\n",
    "elif brand=='KF':\n",
    "    print(\"It is not that much kick\")\n",
    "elif brand=='FO':\n",
    "    print(\"Buy one get one free\")\n",
    "else:\n",
    "    print(\"Other brands are not recommended\")"
   ]
  },
  {
   "cell_type": "code",
   "execution_count": 10,
   "metadata": {},
   "outputs": [],
   "source": [
    "# else part is optional. Hence the following are various possible syntaxex.\n",
    "# if\n",
    "# if-else\n",
    "# if-elif-else\n",
    "# if-elif\n",
    "# There is no switch statement in python"
   ]
  },
  {
   "cell_type": "code",
   "execution_count": 11,
   "metadata": {},
   "outputs": [
    {
     "name": "stdout",
     "output_type": "stream",
     "text": [
      "Enter first num:2\n",
      "Enter second num:1\n",
      "Biggest Number: 2\n"
     ]
    }
   ],
   "source": [
    "# program to find biggest of given 2 numbers from the cmd prompt\n",
    "a=int(input(\"Enter first num:\"))\n",
    "b=int(input(\"Enter second num:\"))\n",
    "if a>b:\n",
    "    print(\"Biggest Number:\",a)\n",
    "else:\n",
    "    print(\"Biggest Number:\",b)"
   ]
  },
  {
   "cell_type": "code",
   "execution_count": 14,
   "metadata": {},
   "outputs": [
    {
     "name": "stdout",
     "output_type": "stream",
     "text": [
      "Enter first num:1\n",
      "Enter second num:2\n",
      "Enter third num:3\n",
      "Biggest number: 3\n"
     ]
    }
   ],
   "source": [
    "# program to find biggest of given 3 numbers from the cmd prompt\n",
    "a=int(input(\"Enter first num:\"))\n",
    "b=int(input(\"Enter second num:\"))\n",
    "c=int(input(\"Enter third num:\"))\n",
    "if a>b and a>c:\n",
    "    print(\"Biggest number:\",a)\n",
    "elif b>c:\n",
    "    print(\"Biggest number:\",b)\n",
    "else:\n",
    "    print(\"Biggest number:\",c)"
   ]
  },
  {
   "cell_type": "code",
   "execution_count": 16,
   "metadata": {},
   "outputs": [
    {
     "name": "stdout",
     "output_type": "stream",
     "text": [
      "Enter number:121\n",
      "The number 121 is not in between 1 and 10\n"
     ]
    }
   ],
   "source": [
    "# program to check whether number is in between 1 and 10\n",
    "n=int(input(\"Enter number:\"))\n",
    "if n>=1 and n<=10:\n",
    "    print(\"The number\",n,\"is in between 1 and 10\")\n",
    "else:\n",
    "    print(\"The number\",n,\"is not in between 1 and 10\")"
   ]
  },
  {
   "cell_type": "code",
   "execution_count": 18,
   "metadata": {},
   "outputs": [
    {
     "name": "stdout",
     "output_type": "stream",
     "text": [
      "Enter a digit from 0 to 93\n",
      "THREE\n"
     ]
    }
   ],
   "source": [
    "# program to take single digit number from the key board and print in english word\n",
    "n=int(input(\"Enter a digit from 0 to 9\"))\n",
    "if n==0:\n",
    "    print(\"ZERO\")\n",
    "elif n==1:\n",
    "    print(\"ONE\")\n",
    "elif n==2:\n",
    "    print(\"TWO\")\n",
    "elif n==3:\n",
    "    print(\"THREE\")\n",
    "elif n==4:\n",
    "    print(\"FOUR\")\n",
    "elif n==5:\n",
    "    print(\"FIVE\")\n",
    "elif n==6:\n",
    "    print(\"SIX\")\n",
    "elif n==7:\n",
    "    print(\"SEVEN\")\n",
    "elif n==8:\n",
    "    print(\"EIGHT\")\n",
    "elif n==9:\n",
    "    print(\"NINE\")\n",
    "else:\n",
    "    print(\"PLEASE ENTER A DIGIT FROM 0 TO 9\")"
   ]
  },
  {
   "cell_type": "markdown",
   "metadata": {},
   "source": [
    "## Iterative Statements"
   ]
  },
  {
   "cell_type": "markdown",
   "metadata": {},
   "source": [
    "### for"
   ]
  },
  {
   "cell_type": "code",
   "execution_count": 19,
   "metadata": {},
   "outputs": [
    {
     "name": "stdout",
     "output_type": "stream",
     "text": [
      "R\n",
      "a\n",
      "v\n",
      "i\n",
      " \n",
      "t\n",
      "e\n",
      "j\n",
      "a\n"
     ]
    }
   ],
   "source": [
    "# if we want to execute some action for every element present in some sequence the we should go for for loop\n",
    "# systax: for x in sequence:\n",
    "#             body\n",
    "# to print characters present in the given string\n",
    "s=\"Ravi teja\"\n",
    "for char in s:\n",
    "    print(char)"
   ]
  },
  {
   "cell_type": "code",
   "execution_count": 20,
   "metadata": {},
   "outputs": [
    {
     "name": "stdout",
     "output_type": "stream",
     "text": [
      "The character at 0 is R\n",
      "The character at 1 is a\n",
      "The character at 2 is v\n",
      "The character at 3 is i\n",
      "The character at 4 is  \n",
      "The character at 5 is t\n",
      "The character at 6 is e\n",
      "The character at 7 is j\n",
      "The character at 8 is a\n"
     ]
    }
   ],
   "source": [
    "# to print characters present in string index value\n",
    "s=\"Ravi teja\"\n",
    "a=0\n",
    "for char in s:\n",
    "    print(\"The character at\",a,\"is\",char)\n",
    "    a=a+1\n",
    "    "
   ]
  },
  {
   "cell_type": "code",
   "execution_count": 21,
   "metadata": {},
   "outputs": [
    {
     "name": "stdout",
     "output_type": "stream",
     "text": [
      "Hello\n",
      "Hello\n",
      "Hello\n",
      "Hello\n",
      "Hello\n",
      "Hello\n",
      "Hello\n",
      "Hello\n",
      "Hello\n",
      "Hello\n"
     ]
    }
   ],
   "source": [
    "# print hello 10 times\n",
    "for x in range(10):\n",
    "    print(\"Hello\")"
   ]
  },
  {
   "cell_type": "code",
   "execution_count": 22,
   "metadata": {},
   "outputs": [
    {
     "name": "stdout",
     "output_type": "stream",
     "text": [
      "0\n",
      "1\n",
      "2\n",
      "3\n",
      "4\n",
      "5\n",
      "6\n",
      "7\n",
      "8\n",
      "9\n",
      "10\n"
     ]
    }
   ],
   "source": [
    "# display numbers from 0 to 10\n",
    "for x in range(11):\n",
    "    print(x)"
   ]
  },
  {
   "cell_type": "code",
   "execution_count": 23,
   "metadata": {},
   "outputs": [
    {
     "name": "stdout",
     "output_type": "stream",
     "text": [
      "0\n",
      "2\n",
      "4\n",
      "6\n",
      "8\n",
      "10\n",
      "12\n",
      "14\n",
      "16\n",
      "18\n",
      "20\n"
     ]
    }
   ],
   "source": [
    "# display odd numbers from 0 to 20\n",
    "for x in range(21):\n",
    "    if x%2==0:\n",
    "        print(x)"
   ]
  },
  {
   "cell_type": "code",
   "execution_count": 24,
   "metadata": {},
   "outputs": [
    {
     "name": "stdout",
     "output_type": "stream",
     "text": [
      "10\n",
      "9\n",
      "8\n",
      "7\n",
      "6\n",
      "5\n",
      "4\n",
      "3\n",
      "2\n",
      "1\n"
     ]
    }
   ],
   "source": [
    "# display numbers from 10 to 1 in descending order\n",
    "for x in range(10,0,-1):\n",
    "    print(x)"
   ]
  },
  {
   "cell_type": "code",
   "execution_count": 25,
   "metadata": {},
   "outputs": [
    {
     "name": "stdout",
     "output_type": "stream",
     "text": [
      "Enter a list:[1,2,3,4,5]\n",
      "The Sum: 15\n"
     ]
    }
   ],
   "source": [
    "# print sum of numbers present inside list\n",
    "list=eval(input(\"Enter a list:\"))\n",
    "sum=0\n",
    "for x in list:\n",
    "    sum+=x\n",
    "print(\"The Sum:\",sum)"
   ]
  },
  {
   "cell_type": "markdown",
   "metadata": {},
   "source": [
    "### while"
   ]
  },
  {
   "cell_type": "code",
   "execution_count": 1,
   "metadata": {},
   "outputs": [
    {
     "name": "stdout",
     "output_type": "stream",
     "text": [
      "1\n",
      "2\n",
      "3\n",
      "4\n",
      "5\n",
      "6\n",
      "7\n",
      "8\n",
      "9\n",
      "10\n"
     ]
    }
   ],
   "source": [
    "# if we want to execute a group of statements iteratively until some condition false the we should go for while loop\n",
    "# syntax: while condition:\n",
    "#             body\n",
    "# print numbers from 1 to 10 using while loop\n",
    "x=1\n",
    "while x<=10:\n",
    "    print(x)\n",
    "    x+=1"
   ]
  },
  {
   "cell_type": "code",
   "execution_count": 3,
   "metadata": {},
   "outputs": [
    {
     "name": "stdout",
     "output_type": "stream",
     "text": [
      "Enter number:10\n",
      "The sum of first 10 number is: 55\n"
     ]
    }
   ],
   "source": [
    "# display the sum of first n numbers\n",
    "n=int(input(\"Enter number:\"))\n",
    "sum=0\n",
    "i=1\n",
    "while i<=n:\n",
    "    sum+=i\n",
    "    i+=1\n",
    "print(\"The sum of first\",n,\"number is:\",sum)"
   ]
  },
  {
   "cell_type": "code",
   "execution_count": 4,
   "metadata": {},
   "outputs": [
    {
     "name": "stdout",
     "output_type": "stream",
     "text": [
      "Enter Name:ravii\n",
      "Enter Name:ljs\n",
      "Enter Name:war\n",
      "Enter Name:thore\n",
      "Enter Name:ravi\n",
      "Thanks for confirmation\n"
     ]
    }
   ],
   "source": [
    "name=''\n",
    "while name!='ravi':\n",
    "    name=input(\"Enter Name:\")\n",
    "print(\"Thanks for confirmation\")"
   ]
  },
  {
   "cell_type": "code",
   "execution_count": 5,
   "metadata": {},
   "outputs": [],
   "source": [
    "# infine loops\n",
    "# i=0\n",
    "# while True:\n",
    "#     i+=1\n",
    "# print(\"Hello\",i)\n"
   ]
  },
  {
   "cell_type": "code",
   "execution_count": 6,
   "metadata": {},
   "outputs": [
    {
     "name": "stdout",
     "output_type": "stream",
     "text": [
      "i= 0 j= 0\n",
      "i= 0 j= 1\n",
      "i= 0 j= 2\n",
      "i= 0 j= 3\n",
      "i= 0 j= 4\n",
      "i= 0 j= 5\n",
      "i= 0 j= 6\n",
      "i= 0 j= 7\n",
      "i= 0 j= 8\n",
      "i= 0 j= 9\n",
      "i= 1 j= 0\n",
      "i= 1 j= 1\n",
      "i= 1 j= 2\n",
      "i= 1 j= 3\n",
      "i= 1 j= 4\n",
      "i= 1 j= 5\n",
      "i= 1 j= 6\n",
      "i= 1 j= 7\n",
      "i= 1 j= 8\n",
      "i= 1 j= 9\n",
      "i= 2 j= 0\n",
      "i= 2 j= 1\n",
      "i= 2 j= 2\n",
      "i= 2 j= 3\n",
      "i= 2 j= 4\n",
      "i= 2 j= 5\n",
      "i= 2 j= 6\n",
      "i= 2 j= 7\n",
      "i= 2 j= 8\n",
      "i= 2 j= 9\n",
      "i= 3 j= 0\n",
      "i= 3 j= 1\n",
      "i= 3 j= 2\n",
      "i= 3 j= 3\n",
      "i= 3 j= 4\n",
      "i= 3 j= 5\n",
      "i= 3 j= 6\n",
      "i= 3 j= 7\n",
      "i= 3 j= 8\n",
      "i= 3 j= 9\n",
      "i= 4 j= 0\n",
      "i= 4 j= 1\n",
      "i= 4 j= 2\n",
      "i= 4 j= 3\n",
      "i= 4 j= 4\n",
      "i= 4 j= 5\n",
      "i= 4 j= 6\n",
      "i= 4 j= 7\n",
      "i= 4 j= 8\n",
      "i= 4 j= 9\n",
      "i= 5 j= 0\n",
      "i= 5 j= 1\n",
      "i= 5 j= 2\n",
      "i= 5 j= 3\n",
      "i= 5 j= 4\n",
      "i= 5 j= 5\n",
      "i= 5 j= 6\n",
      "i= 5 j= 7\n",
      "i= 5 j= 8\n",
      "i= 5 j= 9\n",
      "i= 6 j= 0\n",
      "i= 6 j= 1\n",
      "i= 6 j= 2\n",
      "i= 6 j= 3\n",
      "i= 6 j= 4\n",
      "i= 6 j= 5\n",
      "i= 6 j= 6\n",
      "i= 6 j= 7\n",
      "i= 6 j= 8\n",
      "i= 6 j= 9\n",
      "i= 7 j= 0\n",
      "i= 7 j= 1\n",
      "i= 7 j= 2\n",
      "i= 7 j= 3\n",
      "i= 7 j= 4\n",
      "i= 7 j= 5\n",
      "i= 7 j= 6\n",
      "i= 7 j= 7\n",
      "i= 7 j= 8\n",
      "i= 7 j= 9\n",
      "i= 8 j= 0\n",
      "i= 8 j= 1\n",
      "i= 8 j= 2\n",
      "i= 8 j= 3\n",
      "i= 8 j= 4\n",
      "i= 8 j= 5\n",
      "i= 8 j= 6\n",
      "i= 8 j= 7\n",
      "i= 8 j= 8\n",
      "i= 8 j= 9\n",
      "i= 9 j= 0\n",
      "i= 9 j= 1\n",
      "i= 9 j= 2\n",
      "i= 9 j= 3\n",
      "i= 9 j= 4\n",
      "i= 9 j= 5\n",
      "i= 9 j= 6\n",
      "i= 9 j= 7\n",
      "i= 9 j= 8\n",
      "i= 9 j= 9\n"
     ]
    }
   ],
   "source": [
    "# nested loops:\n",
    "# sometimes we can take a loop inside another loop,which is also known as nested loops\n",
    "for i in range(10):\n",
    "    for j in range(10):\n",
    "        print(\"i=\",i,\"j=\",j)"
   ]
  },
  {
   "cell_type": "code",
   "execution_count": 8,
   "metadata": {},
   "outputs": [
    {
     "name": "stdout",
     "output_type": "stream",
     "text": [
      "Enter number of rows:5\n",
      "*\n",
      "**\n",
      "***\n",
      "****\n",
      "*****\n",
      "Enter number of rows:5\n",
      "*\n",
      "**\n",
      "***\n",
      "****\n",
      "*****\n"
     ]
    }
   ],
   "source": [
    "# program to display *'s in right angle triangle form\n",
    "n=int(input(\"Enter number of rows:\"))\n",
    "for i in range(1,n+1):\n",
    "    for j in range(1,i+1):\n",
    "        print(\"*\",end='')\n",
    "    print()\n",
    "# alternative way\n",
    "n=int(input(\"Enter number of rows:\"))\n",
    "for i in range(1,n+1):\n",
    "    print(\"*\"*i)"
   ]
  },
  {
   "cell_type": "code",
   "execution_count": 14,
   "metadata": {},
   "outputs": [
    {
     "name": "stdout",
     "output_type": "stream",
     "text": [
      "Enter number of rows:5\n",
      "    *\n",
      "   **\n",
      "  ***\n",
      " ****\n",
      "*****\n"
     ]
    }
   ],
   "source": [
    "# program to display *'s in right angle triangle\n",
    "n=int(input(\"Enter number of rows:\"))\n",
    "for i in range(1,n+1):\n",
    "    print(\" \"*(n-i),end='')\n",
    "    print(\"*\"*i)"
   ]
  },
  {
   "cell_type": "code",
   "execution_count": 15,
   "metadata": {},
   "outputs": [
    {
     "name": "stdout",
     "output_type": "stream",
     "text": [
      "Enter number of rows:5\n",
      "    * \n",
      "   * * \n",
      "  * * * \n",
      " * * * * \n",
      "* * * * * \n"
     ]
    }
   ],
   "source": [
    "# program to display *'s in pyramid style\n",
    "n=int(input(\"Enter number of rows:\"))\n",
    "for i in range(1,n+1):\n",
    "    print(\" \"*(n-i),end='')\n",
    "    print(\"* \"*i)"
   ]
  },
  {
   "cell_type": "markdown",
   "metadata": {},
   "source": [
    "## Transfer Statements"
   ]
  },
  {
   "cell_type": "markdown",
   "metadata": {},
   "source": [
    "### break"
   ]
  },
  {
   "cell_type": "code",
   "execution_count": 16,
   "metadata": {},
   "outputs": [
    {
     "name": "stdout",
     "output_type": "stream",
     "text": [
      "0\n",
      "1\n",
      "2\n",
      "3\n",
      "4\n",
      "5\n",
      "6\n",
      "processing is enough..plz break\n"
     ]
    }
   ],
   "source": [
    "# we can break statement inside loops to break loop excecution based on some condition\n",
    "for i in range(10):\n",
    "    if i==7:\n",
    "        print(\"processing is enough..plz break\")\n",
    "        break\n",
    "    print(i)"
   ]
  },
  {
   "cell_type": "code",
   "execution_count": 17,
   "metadata": {},
   "outputs": [
    {
     "name": "stdout",
     "output_type": "stream",
     "text": [
      "10\n",
      "20\n",
      "30\n",
      "40\n",
      "50\n",
      "60\n",
      "70\n"
     ]
    }
   ],
   "source": [
    "cart=[10,20,30,40,50,60,70]\n",
    "for item in cart:\n",
    "    if item>500:\n",
    "        print(\"To place this order insurence must be required\")\n",
    "        break\n",
    "    print(item)"
   ]
  },
  {
   "cell_type": "markdown",
   "metadata": {},
   "source": [
    "### continue"
   ]
  },
  {
   "cell_type": "code",
   "execution_count": 18,
   "metadata": {},
   "outputs": [
    {
     "name": "stdout",
     "output_type": "stream",
     "text": [
      "1\n",
      "3\n",
      "5\n",
      "7\n",
      "9\n"
     ]
    }
   ],
   "source": [
    "# we can use continue statement to skip current iteration and continue next iteration\n",
    "# print odd numbers in the range 0 to 9\n",
    "for i in range(10):\n",
    "    if i%2==0:\n",
    "        continue\n",
    "    print(i)"
   ]
  },
  {
   "cell_type": "code",
   "execution_count": 19,
   "metadata": {},
   "outputs": [
    {
     "name": "stdout",
     "output_type": "stream",
     "text": [
      "10\n",
      "20\n",
      "30\n",
      "we cannot process this item: 4000\n",
      "50\n",
      "we cannot process this item: 600\n",
      "70\n"
     ]
    }
   ],
   "source": [
    "cart=[10,20,30,4000,50,600,70]\n",
    "for item in cart:\n",
    "    if item>=500:\n",
    "        print(\"we cannot process this item:\",item)\n",
    "        continue\n",
    "    print(item)"
   ]
  },
  {
   "cell_type": "code",
   "execution_count": 21,
   "metadata": {
    "scrolled": true
   },
   "outputs": [
    {
     "name": "stdout",
     "output_type": "stream",
     "text": [
      "100/10=10\n",
      "100/20=5\n",
      "100/30=3\n",
      "hey how we can divide with zero..just skipping\n",
      "100/3=33\n",
      "100/23=4\n"
     ]
    }
   ],
   "source": [
    "numbers=[10,20,30,0,3,23]\n",
    "for n in numbers:\n",
    "    if n==0:\n",
    "        print(\"hey how we can divide with zero..just skipping\")\n",
    "        continue\n",
    "    print(\"100/{}={}\".format(n,100//n))"
   ]
  },
  {
   "cell_type": "code",
   "execution_count": 23,
   "metadata": {},
   "outputs": [
    {
     "name": "stdout",
     "output_type": "stream",
     "text": [
      "10\n",
      "20\n",
      "30\n",
      "40\n",
      "we cannot process this order\n"
     ]
    }
   ],
   "source": [
    "# Loop with else Block\n",
    "# inside loop execution, if break statement not executed,then only else part will be executed\n",
    "# else means loop without break\n",
    "cart=[10,20,30,40,5008,60]\n",
    "for item in cart:\n",
    "    if item>=500:\n",
    "        print(\"we cannot process this order\")\n",
    "        break\n",
    "    print(item)\n",
    "else:\n",
    "    print(\"congracts..all items processed successfully\")"
   ]
  },
  {
   "cell_type": "markdown",
   "metadata": {},
   "source": [
    "### pass"
   ]
  },
  {
   "cell_type": "code",
   "execution_count": 24,
   "metadata": {},
   "outputs": [],
   "source": [
    "# pass is a keyword in python\n",
    "# it is an empty statement, it is null statement, it wont do anything\n",
    "def m():pass"
   ]
  },
  {
   "cell_type": "code",
   "execution_count": 25,
   "metadata": {},
   "outputs": [
    {
     "name": "stdout",
     "output_type": "stream",
     "text": [
      "0\n",
      "9\n",
      "18\n",
      "27\n",
      "36\n",
      "45\n",
      "54\n",
      "63\n",
      "72\n",
      "81\n",
      "90\n",
      "99\n"
     ]
    }
   ],
   "source": [
    "# some times in the parent class we have to declare function with empty body so that time we use pass\n",
    "for i in range(100):\n",
    "    if i%9==0:\n",
    "        print(i)\n",
    "    else:\n",
    "        pass"
   ]
  },
  {
   "cell_type": "markdown",
   "metadata": {},
   "source": [
    "### del"
   ]
  },
  {
   "cell_type": "code",
   "execution_count": 28,
   "metadata": {},
   "outputs": [
    {
     "name": "stdout",
     "output_type": "stream",
     "text": [
      "10\n"
     ]
    }
   ],
   "source": [
    "# del is a keyword in python\n",
    "# after using a variable it is highly recommended to delete that variable\n",
    "x=10\n",
    "print(x)\n",
    "del x\n",
    "# print(x)"
   ]
  },
  {
   "cell_type": "code",
   "execution_count": null,
   "metadata": {},
   "outputs": [],
   "source": [
    "# we can delete variable which are pointing to immutable object"
   ]
  }
 ],
 "metadata": {
  "kernelspec": {
   "display_name": "Python 3",
   "language": "python",
   "name": "python3"
  },
  "language_info": {
   "codemirror_mode": {
    "name": "ipython",
    "version": 3
   },
   "file_extension": ".py",
   "mimetype": "text/x-python",
   "name": "python",
   "nbconvert_exporter": "python",
   "pygments_lexer": "ipython3",
   "version": "3.8.5"
  }
 },
 "nbformat": 4,
 "nbformat_minor": 4
}
