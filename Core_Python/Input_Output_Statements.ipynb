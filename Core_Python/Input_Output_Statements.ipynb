{
 "cells": [
  {
   "cell_type": "markdown",
   "metadata": {},
   "source": [
    "### input()"
   ]
  },
  {
   "cell_type": "code",
   "execution_count": 4,
   "metadata": {},
   "outputs": [
    {
     "name": "stdout",
     "output_type": "stream",
     "text": [
      "Enter value:12\n",
      "<class 'str'>\n",
      "Enter value:12\n",
      "<class 'str'>\n"
     ]
    }
   ],
   "source": [
    "# input() function is used to read data from the keyboard \n",
    "# data returns only in str formate\n",
    "a=input(\"Enter value:\")\n",
    "print(type(a))\n",
    "b=input(\"Enter value:\")\n",
    "print(type(b))\n"
   ]
  },
  {
   "cell_type": "code",
   "execution_count": 8,
   "metadata": {},
   "outputs": [
    {
     "name": "stdout",
     "output_type": "stream",
     "text": [
      "Enter First Number:12\n",
      "Enter Second Number:21\n",
      "The Sum: 33\n",
      "Enter first number:21\n",
      "Enter second number:23\n",
      "The Sum: 44\n",
      "Enter First Number:12\n",
      "Enter Second Number:11\n",
      "The Sum: 23\n"
     ]
    }
   ],
   "source": [
    "#program to read 2 numbers from the keyboard and print sum\n",
    "x=input(\"Enter First Number:\")\n",
    "y=input(\"Enter Second Number:\")\n",
    "i=int(x)\n",
    "j=int(y)\n",
    "print(\"The Sum:\",i+j)\n",
    "# second method\n",
    "x=int(input(\"Enter first number:\"))\n",
    "y=int(input(\"Enter second number:\"))\n",
    "print('The Sum:',x+y)\n",
    "# third method\n",
    "print(\"The Sum:\",int(input(\"Enter First Number:\"))+int(input(\"Enter Second Number:\")))"
   ]
  },
  {
   "cell_type": "code",
   "execution_count": 9,
   "metadata": {},
   "outputs": [
    {
     "name": "stdout",
     "output_type": "stream",
     "text": [
      "Enter Employee No:101\n",
      "Enter Employee Name:Ravi teja\n",
      "Enter Employee Salary:120000\n",
      "Enter Employee Address:Bangalore\n",
      "Employee Marreid?[True|False]True\n",
      "Please confirm information\n",
      "Employee No: 101\n",
      "Employee Name: Ravi teja\n",
      "Employee Salary: 120000.0\n",
      "Employee Address: Bangalore\n",
      "Marriage Status: True\n"
     ]
    }
   ],
   "source": [
    "# simple program to read employee data from the keyboard and print that data\n",
    "eno=int(input(\"Enter Employee No:\"))\n",
    "ename=input(\"Enter Employee Name:\")\n",
    "esal=float(input(\"Enter Employee Salary:\"))\n",
    "eaddr=input(\"Enter Employee Address:\")\n",
    "married=bool(input(\"Employee Marreid?[True|False]\"))\n",
    "print(\"Please confirm information\")\n",
    "print(\"Employee No:\",eno)\n",
    "print(\"Employee Name:\",ename)\n",
    "print(\"Employee Salary:\",esal)\n",
    "print(\"Employee Address:\",eaddr)\n",
    "print(\"Marriage Status:\",married)"
   ]
  },
  {
   "cell_type": "code",
   "execution_count": 10,
   "metadata": {},
   "outputs": [
    {
     "name": "stdout",
     "output_type": "stream",
     "text": [
      "Enter 2 numbers:1 2\n",
      "The Sum: 3\n"
     ]
    }
   ],
   "source": [
    "# Reading multiple values from the keyboard in a single line\n",
    "a,b=[int(x) for x in input(\"Enter 2 numbers:\").split()]\n",
    "print(\"The Sum:\",a+b)"
   ]
  },
  {
   "cell_type": "code",
   "execution_count": 12,
   "metadata": {},
   "outputs": [
    {
     "name": "stdout",
     "output_type": "stream",
     "text": [
      "Enter 3 numbers:12.23 12.34 11.11\n",
      "The Sum: 35.68\n"
     ]
    }
   ],
   "source": [
    "# Reading 3 float values from the keyboard in a single line\n",
    "a,b,c=[float(x) for x in input(\"Enter 3 numbers:\").split()]\n",
    "print(\"The Sum:\",a+b+c)"
   ]
  },
  {
   "cell_type": "markdown",
   "metadata": {},
   "source": [
    "### eval()"
   ]
  },
  {
   "cell_type": "code",
   "execution_count": 14,
   "metadata": {},
   "outputs": [
    {
     "name": "stdout",
     "output_type": "stream",
     "text": [
      "60\n",
      "11.5\n"
     ]
    }
   ],
   "source": [
    "# eval function take a string and evaluate the Result\n",
    "x=eval(\"10+20+30\")\n",
    "print(x)\n",
    "x=eval(\"10+2*3/4\")\n",
    "print(x)"
   ]
  },
  {
   "cell_type": "code",
   "execution_count": 1,
   "metadata": {},
   "outputs": [],
   "source": [
    "# eval() ca"
   ]
  },
  {
   "cell_type": "markdown",
   "metadata": {},
   "source": [
    "### print()\n"
   ]
  },
  {
   "cell_type": "code",
   "execution_count": 2,
   "metadata": {},
   "outputs": [
    {
     "name": "stdout",
     "output_type": "stream",
     "text": [
      "\n"
     ]
    }
   ],
   "source": [
    "# print() without any argument will print new line character\n",
    "print()"
   ]
  },
  {
   "cell_type": "code",
   "execution_count": 5,
   "metadata": {},
   "outputs": [
    {
     "name": "stdout",
     "output_type": "stream",
     "text": [
      "Hello world\n",
      "Hello\tWorld\n",
      "Hello\n",
      "World\n",
      "Ravi Ravi Ravi Ravi Ravi Ravi Ravi Ravi Ravi Ravi \n",
      "HelloWolrd\n"
     ]
    }
   ],
   "source": [
    "print(\"Hello world\")\n",
    "# we can also use escape characters also\n",
    "print(\"Hello\\tWorld\")\n",
    "print(\"Hello\\nWorld\")\n",
    "# we can use repetetion operator (*) in the string\n",
    "print(10*\"Ravi \")\n",
    "# we can use + operator also\n",
    "print(\"Hello\"+\"Wolrd\")\n",
    "# if both arguments are string type then + operator acts as concatenation operator\n",
    "# if one argument is string type and second is any other type like int we will get error\n",
    "# if both arguments are number type then + operator acts as arithmetic addition operator"
   ]
  },
  {
   "cell_type": "code",
   "execution_count": 6,
   "metadata": {},
   "outputs": [
    {
     "name": "stdout",
     "output_type": "stream",
     "text": [
      "The Values are: 10 20 30\n",
      "1,2,3\n",
      "1:2:3\n"
     ]
    }
   ],
   "source": [
    "# print() with variable number of arguments\n",
    "a,b,c=10,20,30\n",
    "print(\"The Values are:\",a,b,c)\n",
    "# By default output values are seperated by space.if we want we can specify seperator by using sep attr\n",
    "a,b,c=1,2,3\n",
    "print(a,b,c,sep=',')\n",
    "print(a,b,c,sep=':')"
   ]
  },
  {
   "cell_type": "code",
   "execution_count": 7,
   "metadata": {},
   "outputs": [
    {
     "name": "stdout",
     "output_type": "stream",
     "text": [
      "Hello\n",
      "Ravi\n",
      "Teja\n",
      "HelloRaviTeja"
     ]
    }
   ],
   "source": [
    "# print() with end attr\n",
    "print(\"Hello\")\n",
    "print(\"Ravi\")\n",
    "print(\"Teja\")\n",
    "# if we want to output in the same line with space\n",
    "print(\"Hello\",end='')\n",
    "print(\"Ravi\",end='')\n",
    "print(\"Teja\",end='')\n",
    "# The default value for end attr is \\n which is nothing but new line character\n"
   ]
  },
  {
   "cell_type": "code",
   "execution_count": 8,
   "metadata": {},
   "outputs": [
    {
     "name": "stdout",
     "output_type": "stream",
     "text": [
      "[10, 20, 30, 40]\n",
      "(1, 2, 3)\n"
     ]
    }
   ],
   "source": [
    "# print(Object) statement\n",
    "# we can pass any object(like list,tuple,set etc) as argument to print() statement\n",
    "l=[10,20,30,40]\n",
    "t=(1,2,3)\n",
    "print(l)\n",
    "print(t)"
   ]
  },
  {
   "cell_type": "code",
   "execution_count": 9,
   "metadata": {},
   "outputs": [
    {
     "name": "stdout",
     "output_type": "stream",
     "text": [
      "Hello Ravi Your age is 21\n",
      "You are teaching Java and Python\n"
     ]
    }
   ],
   "source": [
    "# print(String, variable list)\n",
    "# we can use print() statement with string and any number of arguments\n",
    "s=\"Ravi\"\n",
    "a=21\n",
    "s1=\"Java\"\n",
    "s2=\"Python\"\n",
    "print(\"Hello\",s,\"Your age is\",a)\n",
    "print(\"You are teaching\",s1,\"and\",s2)"
   ]
  },
  {
   "cell_type": "code",
   "execution_count": 12,
   "metadata": {},
   "outputs": [
    {
     "name": "stdout",
     "output_type": "stream",
     "text": [
      "a value=10,b value=20,c value=30\n",
      "Hello Ravi...The list of elements are:[10, 20, 30]\n"
     ]
    }
   ],
   "source": [
    "# print(formatted string)\n",
    "# %i --> int\n",
    "# %d --> int\n",
    "# %f --> float\n",
    "# %s --> str\n",
    "# syntax:print(\"formatted string\"%(variable list))\n",
    "a,b,c=10,20,30\n",
    "print(\"a value=%d,b value=%d,c value=%d\"%(a,b,c))\n",
    "s=\"Ravi\"\n",
    "list=[10,20,30]\n",
    "print(\"Hello %s...The list of elements are:%s\"%(s,list))"
   ]
  },
  {
   "cell_type": "code",
   "execution_count": 14,
   "metadata": {},
   "outputs": [
    {
     "name": "stdout",
     "output_type": "stream",
     "text": [
      "Hello Ravi your salary is 34000 and Your Friend Rani is waiting\n"
     ]
    }
   ],
   "source": [
    "# print() with replacement operator {}\n",
    "name=\"Ravi\"\n",
    "salary=34000\n",
    "gf=\"Rani\"\n",
    "print(\"Hello {0} your salary is {1} and Your Friend {2} is waiting\".format(name,salary,gf))\n",
    "print(\"Hello {x} your salary is {y} and Your Friend {z} i\")"
   ]
  },
  {
   "cell_type": "code",
   "execution_count": null,
   "metadata": {},
   "outputs": [],
   "source": []
  }
 ],
 "metadata": {
  "kernelspec": {
   "display_name": "Python 3",
   "language": "python",
   "name": "python3"
  },
  "language_info": {
   "codemirror_mode": {
    "name": "ipython",
    "version": 3
   },
   "file_extension": ".py",
   "mimetype": "text/x-python",
   "name": "python",
   "nbconvert_exporter": "python",
   "pygments_lexer": "ipython3",
   "version": "3.8.5"
  }
 },
 "nbformat": 4,
 "nbformat_minor": 4
}
