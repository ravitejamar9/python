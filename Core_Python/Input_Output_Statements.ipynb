{
 "cells": [
  {
   "cell_type": "markdown",
   "metadata": {},
   "source": [
    "### input()"
   ]
  },
  {
   "cell_type": "code",
   "execution_count": 4,
   "metadata": {},
   "outputs": [
    {
     "name": "stdout",
     "output_type": "stream",
     "text": [
      "Enter value:12\n",
      "<class 'str'>\n",
      "Enter value:12\n",
      "<class 'str'>\n"
     ]
    }
   ],
   "source": [
    "# input() function is used to read data from the keyboard \n",
    "# data returns only in str formate\n",
    "a=input(\"Enter value:\")\n",
    "print(type(a))\n",
    "b=input(\"Enter value:\")\n",
    "print(type(b))\n"
   ]
  },
  {
   "cell_type": "code",
   "execution_count": 8,
   "metadata": {},
   "outputs": [
    {
     "name": "stdout",
     "output_type": "stream",
     "text": [
      "Enter First Number:12\n",
      "Enter Second Number:21\n",
      "The Sum: 33\n",
      "Enter first number:21\n",
      "Enter second number:23\n",
      "The Sum: 44\n",
      "Enter First Number:12\n",
      "Enter Second Number:11\n",
      "The Sum: 23\n"
     ]
    }
   ],
   "source": [
    "#program to read 2 numbers from the keyboard and print sum\n",
    "x=input(\"Enter First Number:\")\n",
    "y=input(\"Enter Second Number:\")\n",
    "i=int(x)\n",
    "j=int(y)\n",
    "print(\"The Sum:\",i+j)\n",
    "# second method\n",
    "x=int(input(\"Enter first number:\"))\n",
    "y=int(input(\"Enter second number:\"))\n",
    "print('The Sum:',x+y)\n",
    "# third method\n",
    "print(\"The Sum:\",int(input(\"Enter First Number:\"))+int(input(\"Enter Second Number:\")))"
   ]
  },
  {
   "cell_type": "code",
   "execution_count": 9,
   "metadata": {},
   "outputs": [
    {
     "name": "stdout",
     "output_type": "stream",
     "text": [
      "Enter Employee No:101\n",
      "Enter Employee Name:Ravi teja\n",
      "Enter Employee Salary:120000\n",
      "Enter Employee Address:Bangalore\n",
      "Employee Marreid?[True|False]True\n",
      "Please confirm information\n",
      "Employee No: 101\n",
      "Employee Name: Ravi teja\n",
      "Employee Salary: 120000.0\n",
      "Employee Address: Bangalore\n",
      "Marriage Status: True\n"
     ]
    }
   ],
   "source": [
    "# simple program to read employee data from the keyboard and print that data\n",
    "eno=int(input(\"Enter Employee No:\"))\n",
    "ename=input(\"Enter Employee Name:\")\n",
    "esal=float(input(\"Enter Employee Salary:\"))\n",
    "eaddr=input(\"Enter Employee Address:\")\n",
    "married=bool(input(\"Employee Marreid?[True|False]\"))\n",
    "print(\"Please confirm information\")\n",
    "print(\"Employee No:\",eno)\n",
    "print(\"Employee Name:\",ename)\n",
    "print(\"Employee Salary:\",esal)\n",
    "print(\"Employee Address:\",eaddr)\n",
    "print(\"Marriage Status:\",married)"
   ]
  },
  {
   "cell_type": "code",
   "execution_count": 10,
   "metadata": {},
   "outputs": [
    {
     "name": "stdout",
     "output_type": "stream",
     "text": [
      "Enter 2 numbers:1 2\n",
      "The Sum: 3\n"
     ]
    }
   ],
   "source": [
    "# Reading multiple values from the keyboard in a single line\n",
    "a,b=[int(x) for x in input(\"Enter 2 numbers:\").split()]\n",
    "print(\"The Sum:\",a+b)"
   ]
  },
  {
   "cell_type": "code",
   "execution_count": 12,
   "metadata": {},
   "outputs": [
    {
     "name": "stdout",
     "output_type": "stream",
     "text": [
      "Enter 3 numbers:12.23 12.34 11.11\n",
      "The Sum: 35.68\n"
     ]
    }
   ],
   "source": [
    "# Reading 3 float values from the keyboard in a single line\n",
    "a,b,c=[float(x) for x in input(\"Enter 3 numbers:\").split()]\n",
    "print(\"The Sum:\",a+b+c)"
   ]
  },
  {
   "cell_type": "markdown",
   "metadata": {},
   "source": [
    "### eval()"
   ]
  },
  {
   "cell_type": "code",
   "execution_count": 14,
   "metadata": {},
   "outputs": [
    {
     "name": "stdout",
     "output_type": "stream",
     "text": [
      "60\n",
      "11.5\n"
     ]
    }
   ],
   "source": [
    "# eval function take a string and evaluate the Result\n",
    "x=eval(\"10+20+30\")\n",
    "print(x)\n",
    "x=eval(\"10+2*3/4\")\n",
    "print(x)"
   ]
  },
  {
   "cell_type": "code",
   "execution_count": null,
   "metadata": {},
   "outputs": [],
   "source": [
    "# eval() ca"
   ]
  }
 ],
 "metadata": {
  "kernelspec": {
   "display_name": "Python 3",
   "language": "python",
   "name": "python3"
  },
  "language_info": {
   "codemirror_mode": {
    "name": "ipython",
    "version": 3
   },
   "file_extension": ".py",
   "mimetype": "text/x-python",
   "name": "python",
   "nbconvert_exporter": "python",
   "pygments_lexer": "ipython3",
   "version": "3.8.5"
  }
 },
 "nbformat": 4,
 "nbformat_minor": 4
}
