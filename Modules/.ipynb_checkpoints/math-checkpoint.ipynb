{
 "cells": [
  {
   "cell_type": "code",
   "execution_count": 22,
   "metadata": {},
   "outputs": [
    {
     "name": "stdout",
     "output_type": "stream",
     "text": [
      "2.718281828459045\n",
      "3.141592653589793\n"
     ]
    }
   ],
   "source": [
    "import math\n",
    "# predefined variables\n",
    "print(math.e)\n",
    "print(math.pi)\n"
   ]
  },
  {
   "cell_type": "code",
   "execution_count": 23,
   "metadata": {},
   "outputs": [
    {
     "name": "stdout",
     "output_type": "stream",
     "text": [
      "Ceil Value: 6\n",
      "Factorial Value: 3628800\n",
      "Floor Value: 5\n",
      "Gcd Value: 15\n",
      "Power Value: 16.0\n",
      "Remainder Value: 3.0\n",
      "Sqrt Vaule: 4.0\n"
     ]
    }
   ],
   "source": [
    "# Ceil(x, /): Return the ceiling of x as an Integral\n",
    "print(\"Ceil Value:\",math.ceil(5.4))\n",
    "\n",
    "# factorial(x, /): ind x! and Raise a ValueError if x is negative or non-integral.\n",
    "print(\"Factorial Value:\",math.factorial(10))\n",
    "\n",
    "# floor(x, /): Return the floor of x as an Integral.\n",
    "print(\"Floor Value:\",math.floor(5.4))\n",
    "\n",
    "# gcd(x, y, /): Greatest common divisor of x and y\n",
    "print(\"Gcd Value:\",math.gcd(45,60))\n",
    "\n",
    "# pow(x, y, /): Return x**y (x to the power of y).\n",
    "print(\"Power Value:\",math.pow(2,4))\n",
    "\n",
    "# remainder(x, y, /): Difference between x and the closest integer multiple of y.\n",
    "print(\"Remainder Value:\",math.remainder(23,10))\n",
    "\n",
    "# sqrt(x, /): Return the square root of x.\n",
    "print(\"Sqrt Vaule:\",math.sqrt(16))"
   ]
  },
  {
   "cell_type": "code",
   "execution_count": null,
   "metadata": {},
   "outputs": [],
   "source": []
  }
 ],
 "metadata": {
  "kernelspec": {
   "display_name": "Python 3",
   "language": "python",
   "name": "python3"
  },
  "language_info": {
   "codemirror_mode": {
    "name": "ipython",
    "version": 3
   },
   "file_extension": ".py",
   "mimetype": "text/x-python",
   "name": "python",
   "nbconvert_exporter": "python",
   "pygments_lexer": "ipython3",
   "version": "3.8.5"
  }
 },
 "nbformat": 4,
 "nbformat_minor": 4
}
